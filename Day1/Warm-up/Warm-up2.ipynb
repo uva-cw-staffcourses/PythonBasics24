{
 "cells": [
  {
   "cell_type": "markdown",
   "metadata": {},
   "source": [
    "# Warm-up exercises week 2\n",
    "\n",
    "\n",
    "Second topic we will cover in the first meeting are different ways to organize your data and how to process them. Before the class, try to make yourself familiar with working with dictionaries and lists. Try to solve these two small exercises - we will look into the solutions together. \n",
    "\n",
    "The following chapters of the book Computational Analysis of Communication (van Atteveldt, Trilling, & Arc´ıla Calderon, 2022) will help you in solving these exercises:\n",
    "* Chapter 3.2\n",
    "\n",
    "\n",
    "Some important notes for the exercises:\n",
    "* These exercises are a warming up meant to help you get ready for our meeting. Make sure to give a try to both of them. If you get an error message, try to troubleshoot it (using Google often helps). If all else fails, go to the next exercise.\n",
    "* As these exercises are meant to help you participate in the meeting and us to make sure you can get as much as possible from it, we do not expect perfect answers. However, this is important to try and write down what obstacles you faced to share in the class."
   ]
  },
  {
   "cell_type": "markdown",
   "metadata": {},
   "source": [
    "# Exercise 1\n",
    "The dictionary below contains information how many pages a user visited on a website. Loop over this dictionary and print only heavy users who visited at least 5 pages."
   ]
  },
  {
   "cell_type": "code",
   "execution_count": null,
   "metadata": {},
   "outputs": [],
   "source": [
    "users = {\"user1\" : 4, \"user2\" : 7, \"user3\": 3, \"user4\": 8, \"user5\": 1, \"user6\": 5, \"user7\": 4, \"user8\" : 9, \"user10\" : 11}"
   ]
  },
  {
   "cell_type": "markdown",
   "metadata": {},
   "source": [
    "# Exercise 2 \n",
    "\n",
    "Write a for-loop to iterate through each element of the list word_length so that you can create a shorter list which only contains words shorter than 8 characters. *Hint: you will need to make use of the len() function to determine the string length.* "
   ]
  },
  {
   "cell_type": "code",
   "execution_count": null,
   "metadata": {},
   "outputs": [],
   "source": [
    "word_length = [\"python\", \"is\", \"my\", \"favourite\", \"programming\", \"language\", \"!\"]"
   ]
  }
 ],
 "metadata": {
  "kernelspec": {
   "display_name": "Python 3",
   "language": "python",
   "name": "python3"
  },
  "language_info": {
   "codemirror_mode": {
    "name": "ipython",
    "version": 3
   },
   "file_extension": ".py",
   "mimetype": "text/x-python",
   "name": "python",
   "nbconvert_exporter": "python",
   "pygments_lexer": "ipython3",
   "version": "3.9.1"
  }
 },
 "nbformat": 4,
 "nbformat_minor": 4
}
