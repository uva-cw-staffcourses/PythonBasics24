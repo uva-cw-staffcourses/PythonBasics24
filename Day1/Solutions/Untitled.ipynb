{
 "cells": [
  {
   "cell_type": "code",
   "execution_count": 1,
   "id": "97fc9ba8-2262-482d-ab90-6a00e6d9345a",
   "metadata": {},
   "outputs": [],
   "source": [
    "grades = {'Emily': 6, 'Ron': 7, 'John': 7, 'Amber': 8, 'Emma':6, 'David': 5, 'Anne': 6}"
   ]
  },
  {
   "cell_type": "code",
   "execution_count": 6,
   "id": "f4456085-6a7b-4dd6-bbe3-32fb96fbee61",
   "metadata": {},
   "outputs": [
    {
     "data": {
      "text/plain": [
       "6.43"
      ]
     },
     "execution_count": 6,
     "metadata": {},
     "output_type": "execute_result"
    }
   ],
   "source": [
    "round(sum(grades.values())/len(grades),2)"
   ]
  },
  {
   "cell_type": "code",
   "execution_count": null,
   "id": "186ac307-c324-474f-83ed-8e737ebe8622",
   "metadata": {},
   "outputs": [],
   "source": []
  }
 ],
 "metadata": {
  "kernelspec": {
   "display_name": "Python 3 (ipykernel)",
   "language": "python",
   "name": "python3"
  },
  "language_info": {
   "codemirror_mode": {
    "name": "ipython",
    "version": 3
   },
   "file_extension": ".py",
   "mimetype": "text/x-python",
   "name": "python",
   "nbconvert_exporter": "python",
   "pygments_lexer": "ipython3",
   "version": "3.8.18"
  }
 },
 "nbformat": 4,
 "nbformat_minor": 5
}
