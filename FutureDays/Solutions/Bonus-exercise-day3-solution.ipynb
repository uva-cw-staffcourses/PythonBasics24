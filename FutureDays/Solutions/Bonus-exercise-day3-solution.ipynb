{
 "cells": [
  {
   "cell_type": "markdown",
   "id": "9c123995",
   "metadata": {},
   "source": [
    "# Bonus exercise day 3\n",
    "\n",
    "The first two questions, you completed during Day 3 of the course. Complete the additional question 3 to get some more practice in!"
   ]
  },
  {
   "cell_type": "markdown",
   "id": "2418c892",
   "metadata": {},
   "source": [
    "## Dataset\n",
    "\n",
    "In this exercise, we work with data on U.S. partisan news pages on Facebook. These data were collected and analyzed by Silverman et al. (2017) for this article published on BuzzFeed [Inside The Partisan Fight For Your News Feed](https://www.buzzfeednews.com/article/craigsilverman/inside-the-partisan-fight-for-your-news-feed). The file you will work with is created based on the data available in this [GitHub repository](https://github.com/BuzzFeedNews/2017-08-partisan-sites-and-facebook-pages). \n",
    "\n",
    "In their investigation, the authors created a list of 667 partisan news websites. The websites were added to the list manually by two journalists who were dedicated to identifying partisan news websites. Once a website was added, its associated Facebook page was identified. This was possible for 452 websites. Information on these Facebook pages was collected using the Facebook API. Next, the websites were classified as left- or right-leaning based on a manual review of the content published by the website and its Facebook page, and by examining their About pages for mentions of partisanship. In datasets you will use, you can find information on the Facebook pages, their political leaning as well as information on enagagement. \n",
    "\n",
    "In the exercise you will use the following files:\n",
    "- `pages-info.csv` - dataset about the identified Facebook pages. It contains the following information:\n",
    "    - page_name:  name of the page on Facebook\n",
    "    - about: description of the page\n",
    "    - fan_count: number of fans\n",
    "    - talking_about_count: number of people sharing stories about the page\n",
    "    - website: name of the website related to the page\n",
    "    - page_id: ID of the Facebook page\n",
    "    - year: year when the page was created\n",
    "    - left_leaning: political left leaning of the page (takes value 1 for pages identified as left leaning and 0 for others)\n",
    "    - left_leaning: political right leaning of the page (takes value 1 for pages identified as right leaning and 0 for others)\n",
    "- `engagement_weekly.csv` - dataset about engagement with the identified pages in the last week before 2016 US presidential electiosn. It contains the following information:\n",
    "    - page_id: ID of the Facebook page\n",
    "    - status_published: the period for which engagement was measures (in this case, it is the first week of November 2016 for all pages).\n",
    "    - total_engagement: total number of engagement with the page in the week\n",
    "    - num_reactions: total number of reactions posts by the page recieved in the week (including all possible Facebook reactions)\n",
    "    - num_comments: total number of comments posts by the page recieved in the week\n",
    "    - num_shares: total number of times posts by the page have been shared in the week\n",
    "    - num_likes: total number of likes posts by the page recieved in the week\n",
    "    - num_loves: total number of 'love' reactions posts by the page recieved in the week\n",
    "    - num_wows: total number of 'wow' reactions posts by the page recieved in the week\n",
    "    - num_hahas: total number of 'haha' reactions posts by the page recieved in the week\n",
    "    - num_sads: total number of 'sad' reactions posts by the page recieved in the week\n",
    "    - num_angrys: total number of 'angry' reactions posts by the page recieved in the week\n",
    "    - post_count: total numer of posts posted in the week"
   ]
  },
  {
   "cell_type": "markdown",
   "id": "1c20e93d",
   "metadata": {},
   "source": [
    "# Question 1.1 \n",
    "\n",
    "Let's start with preparing and exploring the datasets. \n",
    "\n",
    "1) Explore the dataset and the necessary variables. <br /> *Make sure to at least check how the dataset looks like, what columns it has, what data type these columns have. <br />Tip: have a look at week 4 for pandas commands useful for exploration.*  \n",
    "\n",
    "For each question, provide the necessary code and a short explanation of the choices you made."
   ]
  },
  {
   "cell_type": "code",
   "execution_count": 42,
   "id": "964f1b6c-ca0a-4ade-95dc-1471497a8d1e",
   "metadata": {},
   "outputs": [],
   "source": [
    "# importing necessary packages\n",
    "import pandas as pd\n",
    "import seaborn as sns\n",
    "import matplotlib.pyplot as plt\n",
    "import numpy as np"
   ]
  },
  {
   "cell_type": "code",
   "execution_count": 2,
   "id": "6c562e2b-2101-41b9-bb92-fcbdd8c9100e",
   "metadata": {},
   "outputs": [
    {
     "data": {
      "text/plain": [
       "(452, 12)"
      ]
     },
     "execution_count": 2,
     "metadata": {},
     "output_type": "execute_result"
    }
   ],
   "source": [
    "#reading the csv file\n",
    "pages = pd.read_csv('pages-info.csv', delimiter = \",\")\n",
    "pages.shape"
   ]
  },
  {
   "cell_type": "code",
   "execution_count": 3,
   "id": "618630f7-1a4b-4b5f-9f26-f34ab40aa458",
   "metadata": {},
   "outputs": [
    {
     "data": {
      "text/html": [
       "<div>\n",
       "<style scoped>\n",
       "    .dataframe tbody tr th:only-of-type {\n",
       "        vertical-align: middle;\n",
       "    }\n",
       "\n",
       "    .dataframe tbody tr th {\n",
       "        vertical-align: top;\n",
       "    }\n",
       "\n",
       "    .dataframe thead th {\n",
       "        text-align: right;\n",
       "    }\n",
       "</style>\n",
       "<table border=\"1\" class=\"dataframe\">\n",
       "  <thead>\n",
       "    <tr style=\"text-align: right;\">\n",
       "      <th></th>\n",
       "      <th>Unnamed: 0</th>\n",
       "      <th>page_name</th>\n",
       "      <th>about</th>\n",
       "      <th>fan_count</th>\n",
       "      <th>talking_about_count</th>\n",
       "      <th>website</th>\n",
       "      <th>page_id</th>\n",
       "      <th>year</th>\n",
       "      <th>month</th>\n",
       "      <th>day</th>\n",
       "      <th>left_leaning</th>\n",
       "      <th>right_leaning</th>\n",
       "    </tr>\n",
       "  </thead>\n",
       "  <tbody>\n",
       "    <tr>\n",
       "      <th>0</th>\n",
       "      <td>0</td>\n",
       "      <td>Americans Against the Tea Party</td>\n",
       "      <td>We are your go to source for political news.</td>\n",
       "      <td>583256</td>\n",
       "      <td>43343</td>\n",
       "      <td>http://www.aattp.org</td>\n",
       "      <td>108038612554992</td>\n",
       "      <td>2009.0</td>\n",
       "      <td>4.0</td>\n",
       "      <td>3.0</td>\n",
       "      <td>1</td>\n",
       "      <td>0</td>\n",
       "    </tr>\n",
       "    <tr>\n",
       "      <th>1</th>\n",
       "      <td>1</td>\n",
       "      <td>act.tv</td>\n",
       "      <td>Rise up and Resist! Your home for movement-ori...</td>\n",
       "      <td>285075</td>\n",
       "      <td>481748</td>\n",
       "      <td>http://act.tv</td>\n",
       "      <td>153418591515382</td>\n",
       "      <td>NaN</td>\n",
       "      <td>NaN</td>\n",
       "      <td>NaN</td>\n",
       "      <td>1</td>\n",
       "      <td>0</td>\n",
       "    </tr>\n",
       "    <tr>\n",
       "      <th>2</th>\n",
       "      <td>2</td>\n",
       "      <td>New Blue United</td>\n",
       "      <td>NaN</td>\n",
       "      <td>1476093</td>\n",
       "      <td>93116</td>\n",
       "      <td>www.bluetribune.com</td>\n",
       "      <td>188464111175168</td>\n",
       "      <td>NaN</td>\n",
       "      <td>NaN</td>\n",
       "      <td>NaN</td>\n",
       "      <td>1</td>\n",
       "      <td>0</td>\n",
       "    </tr>\n",
       "    <tr>\n",
       "      <th>3</th>\n",
       "      <td>3</td>\n",
       "      <td>Obama is the Worst President in US History</td>\n",
       "      <td>NaN</td>\n",
       "      <td>1569590</td>\n",
       "      <td>41452</td>\n",
       "      <td>NaN</td>\n",
       "      <td>296856040436954</td>\n",
       "      <td>2013.0</td>\n",
       "      <td>1.0</td>\n",
       "      <td>1.0</td>\n",
       "      <td>0</td>\n",
       "      <td>1</td>\n",
       "    </tr>\n",
       "    <tr>\n",
       "      <th>4</th>\n",
       "      <td>4</td>\n",
       "      <td>RedFlag NewsDesk</td>\n",
       "      <td>Daily headlines from the official RedFlagNews....</td>\n",
       "      <td>1533</td>\n",
       "      <td>76</td>\n",
       "      <td>http://redflagnews.com</td>\n",
       "      <td>492836854251934</td>\n",
       "      <td>2016.0</td>\n",
       "      <td>3.0</td>\n",
       "      <td>16.0</td>\n",
       "      <td>0</td>\n",
       "      <td>1</td>\n",
       "    </tr>\n",
       "  </tbody>\n",
       "</table>\n",
       "</div>"
      ],
      "text/plain": [
       "   Unnamed: 0                                   page_name  \\\n",
       "0           0             Americans Against the Tea Party   \n",
       "1           1                                      act.tv   \n",
       "2           2                             New Blue United   \n",
       "3           3  Obama is the Worst President in US History   \n",
       "4           4                            RedFlag NewsDesk   \n",
       "\n",
       "                                               about  fan_count  \\\n",
       "0      We are your go to source for political news.      583256   \n",
       "1  Rise up and Resist! Your home for movement-ori...     285075   \n",
       "2                                                NaN    1476093   \n",
       "3                                                NaN    1569590   \n",
       "4  Daily headlines from the official RedFlagNews....       1533   \n",
       "\n",
       "   talking_about_count                 website          page_id    year  \\\n",
       "0                43343    http://www.aattp.org  108038612554992  2009.0   \n",
       "1               481748           http://act.tv  153418591515382     NaN   \n",
       "2                93116     www.bluetribune.com  188464111175168     NaN   \n",
       "3                41452                     NaN  296856040436954  2013.0   \n",
       "4                   76  http://redflagnews.com  492836854251934  2016.0   \n",
       "\n",
       "   month   day  left_leaning  right_leaning  \n",
       "0    4.0   3.0             1              0  \n",
       "1    NaN   NaN             1              0  \n",
       "2    NaN   NaN             1              0  \n",
       "3    1.0   1.0             0              1  \n",
       "4    3.0  16.0             0              1  "
      ]
     },
     "execution_count": 3,
     "metadata": {},
     "output_type": "execute_result"
    }
   ],
   "source": [
    "#Showing first 5 rows\n",
    "pages.head()"
   ]
  },
  {
   "cell_type": "code",
   "execution_count": 4,
   "id": "a1a71b2e-71f4-4e01-b8af-be97518e4567",
   "metadata": {},
   "outputs": [
    {
     "data": {
      "text/plain": [
       "Unnamed: 0               int64\n",
       "page_name               object\n",
       "about                   object\n",
       "fan_count                int64\n",
       "talking_about_count      int64\n",
       "website                 object\n",
       "page_id                  int64\n",
       "year                   float64\n",
       "month                  float64\n",
       "day                    float64\n",
       "left_leaning             int64\n",
       "right_leaning            int64\n",
       "dtype: object"
      ]
     },
     "execution_count": 4,
     "metadata": {},
     "output_type": "execute_result"
    }
   ],
   "source": [
    "#Checking dtypes\n",
    "pages.dtypes"
   ]
  },
  {
   "cell_type": "code",
   "execution_count": 5,
   "id": "137cfe52-5ac4-445c-8162-e4b2abb37bf3",
   "metadata": {},
   "outputs": [
    {
     "data": {
      "text/plain": [
       "Unnamed: 0               0\n",
       "page_name                0\n",
       "about                   26\n",
       "fan_count                0\n",
       "talking_about_count      0\n",
       "website                 29\n",
       "page_id                  0\n",
       "year                   241\n",
       "month                  332\n",
       "day                    362\n",
       "left_leaning             0\n",
       "right_leaning            0\n",
       "dtype: int64"
      ]
     },
     "execution_count": 5,
     "metadata": {},
     "output_type": "execute_result"
    }
   ],
   "source": [
    "#Checking missing values\n",
    "pages.isna().sum()"
   ]
  },
  {
   "cell_type": "markdown",
   "id": "d1776981-a4bc-4abf-bb8a-ad6c81f28f20",
   "metadata": {},
   "source": [
    "# Question 1.2 \n",
    "\n",
    "Let's start with preparing and exploring the datasets. \n",
    "\n",
    "2) Merge the two datasets so that you have information on pages and the engagement they generated in the last week before the 2016 presidential elections together.  <br />*Tip: do not forget to make sure both datasets have the right keys necessary for merging and that these keys have the appropriate data types*\n",
    "\n",
    "For each question, provide the necessary code and a short explanation of the choices you made."
   ]
  },
  {
   "cell_type": "markdown",
   "id": "4cd49d34-4eb2-4ef4-890b-eb9518891f61",
   "metadata": {},
   "source": [
    "In the next step, I will merge information on pages with information on the engagement they have recieved. For the merge I need:\n",
    "\n",
    "- key to merge on\n",
    "- the key needs the same datatype\n",
    "- the key needs to be unique."
   ]
  },
  {
   "cell_type": "code",
   "execution_count": 6,
   "id": "aa511330-8938-4184-a5c7-d8b81362aa55",
   "metadata": {},
   "outputs": [
    {
     "data": {
      "text/plain": [
       "(415, 14)"
      ]
     },
     "execution_count": 6,
     "metadata": {},
     "output_type": "execute_result"
    }
   ],
   "source": [
    "engagement = pd.read_csv('engagement_weekly.csv')\n",
    "engagement.shape"
   ]
  },
  {
   "cell_type": "code",
   "execution_count": 7,
   "id": "e594a532-5755-436b-b357-36c7830fa281",
   "metadata": {},
   "outputs": [
    {
     "data": {
      "text/html": [
       "<div>\n",
       "<style scoped>\n",
       "    .dataframe tbody tr th:only-of-type {\n",
       "        vertical-align: middle;\n",
       "    }\n",
       "\n",
       "    .dataframe tbody tr th {\n",
       "        vertical-align: top;\n",
       "    }\n",
       "\n",
       "    .dataframe thead th {\n",
       "        text-align: right;\n",
       "    }\n",
       "</style>\n",
       "<table border=\"1\" class=\"dataframe\">\n",
       "  <thead>\n",
       "    <tr style=\"text-align: right;\">\n",
       "      <th></th>\n",
       "      <th>Unnamed: 0</th>\n",
       "      <th>page_id</th>\n",
       "      <th>status_published</th>\n",
       "      <th>total_engagement</th>\n",
       "      <th>num_reactions</th>\n",
       "      <th>num_comments</th>\n",
       "      <th>num_shares</th>\n",
       "      <th>num_likes</th>\n",
       "      <th>num_loves</th>\n",
       "      <th>num_wows</th>\n",
       "      <th>num_hahas</th>\n",
       "      <th>num_sads</th>\n",
       "      <th>num_angrys</th>\n",
       "      <th>post_count</th>\n",
       "    </tr>\n",
       "  </thead>\n",
       "  <tbody>\n",
       "    <tr>\n",
       "      <th>0</th>\n",
       "      <td>22</td>\n",
       "      <td>100434040001314</td>\n",
       "      <td>2016-11-01</td>\n",
       "      <td>49741</td>\n",
       "      <td>35318</td>\n",
       "      <td>3105</td>\n",
       "      <td>11318</td>\n",
       "      <td>22950</td>\n",
       "      <td>1906</td>\n",
       "      <td>697</td>\n",
       "      <td>4554</td>\n",
       "      <td>1206</td>\n",
       "      <td>4005</td>\n",
       "      <td>250</td>\n",
       "    </tr>\n",
       "    <tr>\n",
       "      <th>1</th>\n",
       "      <td>31</td>\n",
       "      <td>1014803551921469</td>\n",
       "      <td>2016-11-01</td>\n",
       "      <td>155745</td>\n",
       "      <td>95926</td>\n",
       "      <td>18311</td>\n",
       "      <td>41508</td>\n",
       "      <td>72594</td>\n",
       "      <td>5620</td>\n",
       "      <td>2233</td>\n",
       "      <td>5912</td>\n",
       "      <td>1000</td>\n",
       "      <td>8567</td>\n",
       "      <td>1289</td>\n",
       "    </tr>\n",
       "    <tr>\n",
       "      <th>2</th>\n",
       "      <td>49</td>\n",
       "      <td>1019871961378419</td>\n",
       "      <td>2016-11-01</td>\n",
       "      <td>1192782</td>\n",
       "      <td>900218</td>\n",
       "      <td>170192</td>\n",
       "      <td>122372</td>\n",
       "      <td>675544</td>\n",
       "      <td>47614</td>\n",
       "      <td>16100</td>\n",
       "      <td>38434</td>\n",
       "      <td>73706</td>\n",
       "      <td>48820</td>\n",
       "      <td>1260</td>\n",
       "    </tr>\n",
       "    <tr>\n",
       "      <th>3</th>\n",
       "      <td>60</td>\n",
       "      <td>1035617169863710</td>\n",
       "      <td>2016-11-01</td>\n",
       "      <td>2506</td>\n",
       "      <td>1497</td>\n",
       "      <td>267</td>\n",
       "      <td>742</td>\n",
       "      <td>1115</td>\n",
       "      <td>62</td>\n",
       "      <td>35</td>\n",
       "      <td>199</td>\n",
       "      <td>14</td>\n",
       "      <td>72</td>\n",
       "      <td>197</td>\n",
       "    </tr>\n",
       "    <tr>\n",
       "      <th>4</th>\n",
       "      <td>70</td>\n",
       "      <td>1036253643101134</td>\n",
       "      <td>2016-11-01</td>\n",
       "      <td>656574</td>\n",
       "      <td>474432</td>\n",
       "      <td>43802</td>\n",
       "      <td>138340</td>\n",
       "      <td>359882</td>\n",
       "      <td>23549</td>\n",
       "      <td>13228</td>\n",
       "      <td>25017</td>\n",
       "      <td>6682</td>\n",
       "      <td>46074</td>\n",
       "      <td>136</td>\n",
       "    </tr>\n",
       "  </tbody>\n",
       "</table>\n",
       "</div>"
      ],
      "text/plain": [
       "   Unnamed: 0           page_id status_published  total_engagement  \\\n",
       "0          22   100434040001314       2016-11-01             49741   \n",
       "1          31  1014803551921469       2016-11-01            155745   \n",
       "2          49  1019871961378419       2016-11-01           1192782   \n",
       "3          60  1035617169863710       2016-11-01              2506   \n",
       "4          70  1036253643101134       2016-11-01            656574   \n",
       "\n",
       "   num_reactions  num_comments  num_shares  num_likes  num_loves  num_wows  \\\n",
       "0          35318          3105       11318      22950       1906       697   \n",
       "1          95926         18311       41508      72594       5620      2233   \n",
       "2         900218        170192      122372     675544      47614     16100   \n",
       "3           1497           267         742       1115         62        35   \n",
       "4         474432         43802      138340     359882      23549     13228   \n",
       "\n",
       "   num_hahas  num_sads  num_angrys  post_count  \n",
       "0       4554      1206        4005         250  \n",
       "1       5912      1000        8567        1289  \n",
       "2      38434     73706       48820        1260  \n",
       "3        199        14          72         197  \n",
       "4      25017      6682       46074         136  "
      ]
     },
     "execution_count": 7,
     "metadata": {},
     "output_type": "execute_result"
    }
   ],
   "source": [
    "#Showing first 5 rows\n",
    "engagement.head()"
   ]
  },
  {
   "cell_type": "code",
   "execution_count": 8,
   "id": "7b302bfe-da72-4b1d-b911-fd39a1250691",
   "metadata": {},
   "outputs": [
    {
     "data": {
      "text/plain": [
       "Unnamed: 0           int64\n",
       "page_id              int64\n",
       "status_published    object\n",
       "total_engagement     int64\n",
       "num_reactions        int64\n",
       "num_comments         int64\n",
       "num_shares           int64\n",
       "num_likes            int64\n",
       "num_loves            int64\n",
       "num_wows             int64\n",
       "num_hahas            int64\n",
       "num_sads             int64\n",
       "num_angrys           int64\n",
       "post_count           int64\n",
       "dtype: object"
      ]
     },
     "execution_count": 8,
     "metadata": {},
     "output_type": "execute_result"
    }
   ],
   "source": [
    "#Checking dtypes\n",
    "engagement.dtypes"
   ]
  },
  {
   "cell_type": "code",
   "execution_count": 9,
   "id": "ad20b65d-fbc5-4f53-b77b-e43f32fd06ef",
   "metadata": {},
   "outputs": [
    {
     "data": {
      "text/plain": [
       "Unnamed: 0          0\n",
       "page_id             0\n",
       "status_published    0\n",
       "total_engagement    0\n",
       "num_reactions       0\n",
       "num_comments        0\n",
       "num_shares          0\n",
       "num_likes           0\n",
       "num_loves           0\n",
       "num_wows            0\n",
       "num_hahas           0\n",
       "num_sads            0\n",
       "num_angrys          0\n",
       "post_count          0\n",
       "dtype: int64"
      ]
     },
     "execution_count": 9,
     "metadata": {},
     "output_type": "execute_result"
    }
   ],
   "source": [
    "#Checking missing values\n",
    "engagement.isna().sum()"
   ]
  },
  {
   "cell_type": "code",
   "execution_count": 10,
   "id": "38de756b-9d27-4896-9885-b3d5197b87aa",
   "metadata": {},
   "outputs": [
    {
     "data": {
      "text/plain": [
       "(452, 415)"
      ]
     },
     "execution_count": 10,
     "metadata": {},
     "output_type": "execute_result"
    }
   ],
   "source": [
    "#Checking lenght of dataframes\n",
    "len(pages), len(engagement)"
   ]
  },
  {
   "cell_type": "markdown",
   "id": "d33b97d6-c5d6-49d4-8d99-6b56fadec0c8",
   "metadata": {},
   "source": [
    "I can see that there is page_id, which does not have missing values and is an integer in both dataframes. The name of the id is identical for both dataframes.\n",
    "\n",
    "The dataframes do not have identical lenght. As I want to add information on engagement to the information on pages I have, I will merge inner so that I only keep the pages that I have engagement data on.\n",
    "Here, you could have also chosen for a different kind of merge, but you would need to explain why it is appropriate (e.g., why you want to keep pages that do not have engagement information."
   ]
  },
  {
   "cell_type": "code",
   "execution_count": 11,
   "id": "d088897d-5b90-4907-aeb6-632be5e146da",
   "metadata": {},
   "outputs": [],
   "source": [
    "df = pages.merge(engagement, on='page_id', how='inner')"
   ]
  },
  {
   "cell_type": "code",
   "execution_count": 12,
   "id": "7048be18-f3d0-4049-b1d3-091db8e173ad",
   "metadata": {},
   "outputs": [
    {
     "data": {
      "text/plain": [
       "415"
      ]
     },
     "execution_count": 12,
     "metadata": {},
     "output_type": "execute_result"
    }
   ],
   "source": [
    "#Checking lenght of the resulting dataframe\n",
    "len(df)"
   ]
  },
  {
   "cell_type": "markdown",
   "id": "077ea311-a74d-41a6-a17d-68ad60fdbb33",
   "metadata": {},
   "source": [
    "# Question 1.3 \n",
    "\n",
    "Let's start with preparing and exploring the datasets. \n",
    "\n",
    "3) To get a global picture of your data answer the questions below. If necessary, create new columns in your dataset necessary to answer the questions.\n",
    "    - How many pages in the dataset are left and how many right leaning? \n",
    "    - When (in what year) were the pages in the dataset created?\n",
    "    - What is the averge number of fans for left and right leaning websites?\n",
    "    \n",
    "For each question, provide the necessary code and a short explanation of the choices you made."
   ]
  },
  {
   "cell_type": "code",
   "execution_count": 13,
   "id": "166f80ea",
   "metadata": {},
   "outputs": [
    {
     "data": {
      "text/plain": [
       "Index(['Unnamed: 0_x', 'page_name', 'about', 'fan_count',\n",
       "       'talking_about_count', 'website', 'page_id', 'year', 'month', 'day',\n",
       "       'left_leaning', 'right_leaning', 'Unnamed: 0_y', 'status_published',\n",
       "       'total_engagement', 'num_reactions', 'num_comments', 'num_shares',\n",
       "       'num_likes', 'num_loves', 'num_wows', 'num_hahas', 'num_sads',\n",
       "       'num_angrys', 'post_count'],\n",
       "      dtype='object')"
      ]
     },
     "execution_count": 13,
     "metadata": {},
     "output_type": "execute_result"
    }
   ],
   "source": [
    "# How many pages in the dataset are left and how many right leaning?\n",
    "# Checking columns to see what I need\n",
    "df.columns"
   ]
  },
  {
   "cell_type": "code",
   "execution_count": 14,
   "id": "760cf76c-ebf0-47a1-8f18-7444866195e4",
   "metadata": {},
   "outputs": [
    {
     "data": {
      "text/plain": [
       "left_leaning\n",
       "0    285\n",
       "1    130\n",
       "Name: count, dtype: int64"
      ]
     },
     "execution_count": 14,
     "metadata": {},
     "output_type": "execute_result"
    }
   ],
   "source": [
    "df['left_leaning'].value_counts()"
   ]
  },
  {
   "cell_type": "code",
   "execution_count": 15,
   "id": "498f71a4-21e5-48c4-b465-1a607b08f982",
   "metadata": {},
   "outputs": [
    {
     "data": {
      "text/plain": [
       "right_leaning\n",
       "1    285\n",
       "0    130\n",
       "Name: count, dtype: int64"
      ]
     },
     "execution_count": 15,
     "metadata": {},
     "output_type": "execute_result"
    }
   ],
   "source": [
    "df['right_leaning'].value_counts()"
   ]
  },
  {
   "cell_type": "code",
   "execution_count": 17,
   "id": "5ee46608-e2ae-4eb5-995e-c3642d9fa2b5",
   "metadata": {},
   "outputs": [
    {
     "data": {
      "text/plain": [
       "year\n",
       "2012.0    24\n",
       "2016.0    20\n",
       "2011.0    17\n",
       "2015.0    15\n",
       "2013.0    13\n",
       "2009.0    11\n",
       "2010.0    11\n",
       "2008.0     9\n",
       "2004.0     8\n",
       "2014.0     7\n",
       "2001.0     5\n",
       "1996.0     5\n",
       "2005.0     5\n",
       "2007.0     4\n",
       "2000.0     3\n",
       "2003.0     3\n",
       "2006.0     3\n",
       "1998.0     3\n",
       "1969.0     2\n",
       "2002.0     2\n",
       "1776.0     2\n",
       "1995.0     2\n",
       "1982.0     2\n",
       "1988.0     2\n",
       "1997.0     2\n",
       "1961.0     2\n",
       "1973.0     1\n",
       "1999.0     1\n",
       "1945.0     1\n",
       "1943.0     1\n",
       "1963.0     1\n",
       "1954.0     1\n",
       "1865.0     1\n",
       "1970.0     1\n",
       "1985.0     1\n",
       "1944.0     1\n",
       "1990.0     1\n",
       "1909.0     1\n",
       "1800.0     1\n",
       "1994.0     1\n",
       "1987.0     1\n",
       "1986.0     1\n",
       "1967.0     1\n",
       "1950.0     1\n",
       "1956.0     1\n",
       "1976.0     1\n",
       "Name: count, dtype: int64"
      ]
     },
     "execution_count": 17,
     "metadata": {},
     "output_type": "execute_result"
    }
   ],
   "source": [
    "# When (in what year) were the pages in the dataset created?\n",
    "\n",
    "df['year'].value_counts()"
   ]
  },
  {
   "cell_type": "markdown",
   "id": "25983422-6819-4aac-b305-26ac7b4f59e5",
   "metadata": {},
   "source": [
    "It looks like the first page was created in 1776 (which makes ne sense and might be an error) and the last one in 2016. Most pages were created after 2010."
   ]
  },
  {
   "cell_type": "code",
   "execution_count": 18,
   "id": "2d6d518f-db7e-418c-8213-49024c0cb4b2",
   "metadata": {},
   "outputs": [
    {
     "data": {
      "text/html": [
       "<div>\n",
       "<style scoped>\n",
       "    .dataframe tbody tr th:only-of-type {\n",
       "        vertical-align: middle;\n",
       "    }\n",
       "\n",
       "    .dataframe tbody tr th {\n",
       "        vertical-align: top;\n",
       "    }\n",
       "\n",
       "    .dataframe thead th {\n",
       "        text-align: right;\n",
       "    }\n",
       "</style>\n",
       "<table border=\"1\" class=\"dataframe\">\n",
       "  <thead>\n",
       "    <tr style=\"text-align: right;\">\n",
       "      <th></th>\n",
       "      <th>count</th>\n",
       "      <th>mean</th>\n",
       "      <th>std</th>\n",
       "      <th>min</th>\n",
       "      <th>25%</th>\n",
       "      <th>50%</th>\n",
       "      <th>75%</th>\n",
       "      <th>max</th>\n",
       "    </tr>\n",
       "    <tr>\n",
       "      <th>left_leaning</th>\n",
       "      <th></th>\n",
       "      <th></th>\n",
       "      <th></th>\n",
       "      <th></th>\n",
       "      <th></th>\n",
       "      <th></th>\n",
       "      <th></th>\n",
       "      <th></th>\n",
       "    </tr>\n",
       "  </thead>\n",
       "  <tbody>\n",
       "    <tr>\n",
       "      <th>0</th>\n",
       "      <td>285.0</td>\n",
       "      <td>738682.014035</td>\n",
       "      <td>1.439927e+06</td>\n",
       "      <td>47.0</td>\n",
       "      <td>19880.00</td>\n",
       "      <td>165298.0</td>\n",
       "      <td>853119.00</td>\n",
       "      <td>15563283.0</td>\n",
       "    </tr>\n",
       "    <tr>\n",
       "      <th>1</th>\n",
       "      <td>130.0</td>\n",
       "      <td>744491.284615</td>\n",
       "      <td>1.669226e+06</td>\n",
       "      <td>64.0</td>\n",
       "      <td>25474.25</td>\n",
       "      <td>166985.0</td>\n",
       "      <td>727282.25</td>\n",
       "      <td>11664950.0</td>\n",
       "    </tr>\n",
       "  </tbody>\n",
       "</table>\n",
       "</div>"
      ],
      "text/plain": [
       "              count           mean           std   min       25%       50%  \\\n",
       "left_leaning                                                                 \n",
       "0             285.0  738682.014035  1.439927e+06  47.0  19880.00  165298.0   \n",
       "1             130.0  744491.284615  1.669226e+06  64.0  25474.25  166985.0   \n",
       "\n",
       "                    75%         max  \n",
       "left_leaning                         \n",
       "0             853119.00  15563283.0  \n",
       "1             727282.25  11664950.0  "
      ]
     },
     "execution_count": 18,
     "metadata": {},
     "output_type": "execute_result"
    }
   ],
   "source": [
    "# What is the averge number of fans for left and right leaning websites?\n",
    "\n",
    "df.groupby('left_leaning')['fan_count'].describe()"
   ]
  },
  {
   "cell_type": "markdown",
   "id": "1e59f0f6-5c34-42e3-9585-d9196c6bdb1c",
   "metadata": {},
   "source": [
    "It looks like left leaning pages have on average 738682 fans, while right leaning pages 744491. SD is large for both types of pages. So there is probably no substantive difference."
   ]
  },
  {
   "cell_type": "markdown",
   "id": "2d574698",
   "metadata": {},
   "source": [
    "# Question 2\n",
    "\n",
    "Now, let's visualize what we have learned about our data. Provide visualizations for your answers to question 3, Challenge 1. Take into account the measurement levels of your variables to choose the appropriate visualization. Provide a short justification of your choice.\n"
   ]
  },
  {
   "cell_type": "markdown",
   "id": "26ff86c4-fde1-48ad-af24-ac3d5d7786c6",
   "metadata": {},
   "source": [
    "Note that below, there are multiple potential solutions. Different visualizations are possible, as long as they fit the datatype."
   ]
  },
  {
   "cell_type": "code",
   "execution_count": 20,
   "id": "5638cc5c",
   "metadata": {},
   "outputs": [
    {
     "data": {
      "text/plain": [
       "<Axes: xlabel='left_leaning', ylabel='count'>"
      ]
     },
     "execution_count": 20,
     "metadata": {},
     "output_type": "execute_result"
    },
    {
     "data": {
      "image/png": "[encoded data removed]",
      "text/plain": [
       "<Figure size 640x480 with 1 Axes>"
      ]
     },
     "metadata": {},
     "output_type": "display_data"
    }
   ],
   "source": [
    "# How many pages in the dataset are left and how many right leaning?\n",
    "# with seaborn\n",
    "sns.countplot(x = 'left_leaning', data=df)"
   ]
  },
  {
   "cell_type": "code",
   "execution_count": 21,
   "id": "d5f39d7d-3ce3-4bf1-9275-b2ef0dce46c2",
   "metadata": {},
   "outputs": [
    {
     "data": {
      "text/plain": [
       "<Axes: xlabel='year', ylabel='Count'>"
      ]
     },
     "execution_count": 21,
     "metadata": {},
     "output_type": "execute_result"
    },
    {
     "data": {
      "image/png": "[encoded data removed]",
      "text/plain": [
       "<Figure size 640x480 with 1 Axes>"
      ]
     },
     "metadata": {},
     "output_type": "display_data"
    }
   ],
   "source": [
    "# When (in what year) were the pages in the dataset created?\n",
    "sns.histplot(x='year', data=df)"
   ]
  },
  {
   "cell_type": "code",
   "execution_count": 22,
   "id": "caf045d6-84e1-4ebb-95f7-befd5af33bba",
   "metadata": {},
   "outputs": [
    {
     "name": "stderr",
     "output_type": "stream",
     "text": [
      "/var/folders/j9/9v6cy4l50_1dhlx4d1h_hcv80000gn/T/ipykernel_14426/1878397129.py:2: FutureWarning: \n",
      "\n",
      "The `ci` parameter is deprecated. Use `errorbar=('ci', 95)` for the same effect.\n",
      "\n",
      "  sns.barplot(x=\"left_leaning\", y=\"fan_count\", data=df, ci=95)\n"
     ]
    },
    {
     "data": {
      "text/plain": [
       "<Axes: xlabel='left_leaning', ylabel='fan_count'>"
      ]
     },
     "execution_count": 22,
     "metadata": {},
     "output_type": "execute_result"
    },
    {
     "data": {
      "image/png": "[encoded data removed]",
      "text/plain": [
       "<Figure size 640x480 with 1 Axes>"
      ]
     },
     "metadata": {},
     "output_type": "display_data"
    }
   ],
   "source": [
    "# What is the averge number of fans for left and right leaning websites?\n",
    "sns.barplot(x=\"left_leaning\", y=\"fan_count\", data=df, ci=95)"
   ]
  },
  {
   "cell_type": "markdown",
   "id": "5dcc1a9a",
   "metadata": {},
   "source": [
    "# Bonus question (to make after Day 3): Question 3 \n",
    "\n",
    "Imagine that you are conducting research on engagement with partisan news sites in pre-election period. You are interested in the following research question:\n",
    "\n",
    "*RQ*: To what extent is there a relation between political leaning of a news site on Facebook and the amount of engagement it recieves?\n",
    "\n",
    "In the final challenge, we ask you to answer the research question above. To answer the research question you need to:\n",
    "* Choose appropriate independent and dependent variable and shortly justify your choice.\n",
    "* Compute descriptive statistics for the chosen independent and dependent variable and interpret them. Explain your choice for the descriptives type. <br />*For this step, compute overall descritpive statistics for the independent and dependent variable separately. Make sure to choose the right statistical information to report depending on the measurement level of your variable.*\n",
    "* Create one univariate visualisation for the independent variable. Provide a short justification of your choice for visualisation type. <br />*Make sure to choose the appropriate visualisation for the selected variable*\n",
    "* Create one univariate visualisation for the dependent variable. Provide a short justification of your choice for visualisation type. <br />*Make sure to choose the appropriate visualisation for the selected variable*\n",
    "* Create one bivariate visualisation showing the relation between the independent and dependent variable. Provide a short justification of your choice for visualisation type. <br />*Make sure to choose the appropriate visualisation for the two variables*\n",
    "* Show the descriptives of the dependent variable grouped by the independent variable and interpret them.\n",
    "* Conduct appropriate statistical test, interpret the results and answer the RQ. <br />*Note: Not explicitely discussed in the course, but this is an excellent opportunity to see if you can figure it out with Google. If not, you can check out the solution.*\n"
   ]
  },
  {
   "cell_type": "markdown",
   "id": "ecf57379-4262-40ef-9010-bb549722b0b6",
   "metadata": {},
   "source": [
    "Answer:\n",
    "\n",
    "IV: political leaning 'left_leaning' - this categorical variable shows leaning of the page. The page scores 1 when it is left leaning\n",
    "\n",
    "DV: total engagement score in a week 'total_engagement' - this continous variable shows the total engagement recieved by the page\n",
    "\n",
    "Using other variables measuring engagement would also be ok as long as they represent some sort of engagement (e.g., likes)."
   ]
  },
  {
   "cell_type": "code",
   "execution_count": 23,
   "id": "bcdd62fc-72a0-4ed9-b303-064fcc0d9c75",
   "metadata": {},
   "outputs": [
    {
     "data": {
      "text/plain": [
       "left_leaning\n",
       "0    285\n",
       "1    130\n",
       "Name: count, dtype: int64"
      ]
     },
     "execution_count": 23,
     "metadata": {},
     "output_type": "execute_result"
    }
   ],
   "source": [
    "#Descriptive statistics for IV\n",
    "df['left_leaning'].value_counts()"
   ]
  },
  {
   "cell_type": "code",
   "execution_count": 24,
   "id": "2bbc3935-e3f9-4143-9c8e-9a0f677f78be",
   "metadata": {},
   "outputs": [
    {
     "data": {
      "text/plain": [
       "left_leaning\n",
       "0    0.686747\n",
       "1    0.313253\n",
       "Name: proportion, dtype: float64"
      ]
     },
     "execution_count": 24,
     "metadata": {},
     "output_type": "execute_result"
    }
   ],
   "source": [
    "df['left_leaning'].value_counts(normalize=True)"
   ]
  },
  {
   "cell_type": "code",
   "execution_count": 25,
   "id": "93f0978b-ef50-4b03-bf4d-d5ebd0819b82",
   "metadata": {},
   "outputs": [
    {
     "data": {
      "text/plain": [
       "count    4.150000e+02\n",
       "mean     1.420831e+06\n",
       "std      4.415878e+06\n",
       "min      0.000000e+00\n",
       "25%      2.731000e+03\n",
       "50%      9.002600e+04\n",
       "75%      1.048194e+06\n",
       "max      5.268795e+07\n",
       "Name: total_engagement, dtype: float64"
      ]
     },
     "execution_count": 25,
     "metadata": {},
     "output_type": "execute_result"
    }
   ],
   "source": [
    "#Descriptive statistics for DV\n",
    "df['total_engagement'].describe()"
   ]
  },
  {
   "cell_type": "markdown",
   "id": "5e497a1d-1025-4116-9600-1acaa4212079",
   "metadata": {},
   "source": [
    "In the dataset 68% of pages is right leaning. Overall, pages recieved 1.420831e+06 = 1420831 engagement with SD of 4.415878e+06 = 4415877.\n",
    "\n",
    "Note that by default the results are shown in scientific notation."
   ]
  },
  {
   "cell_type": "code",
   "execution_count": 26,
   "id": "d2052aec-2362-4e38-9e0c-7db7f1812c74",
   "metadata": {},
   "outputs": [],
   "source": [
    "#Bonus: this setting allows you to round output which will prevent numbers being displayed in mathematical notation\n",
    "pd.set_option('display.float_format', lambda x: '%.5f' % x)"
   ]
  },
  {
   "cell_type": "code",
   "execution_count": 27,
   "id": "6a928dee-3f2d-4970-8599-e00651fa9e6a",
   "metadata": {},
   "outputs": [
    {
     "data": {
      "text/plain": [
       "count        415.00000\n",
       "mean     1420831.18313\n",
       "std      4415877.72300\n",
       "min            0.00000\n",
       "25%         2731.00000\n",
       "50%        90026.00000\n",
       "75%      1048194.00000\n",
       "max     52687952.00000\n",
       "Name: total_engagement, dtype: float64"
      ]
     },
     "execution_count": 27,
     "metadata": {},
     "output_type": "execute_result"
    }
   ],
   "source": [
    "df['total_engagement'].describe()"
   ]
  },
  {
   "cell_type": "code",
   "execution_count": 28,
   "id": "d2acc98e-dd5a-4782-933f-e348fb8ad872",
   "metadata": {},
   "outputs": [
    {
     "data": {
      "text/plain": [
       "<Axes: xlabel='left_leaning', ylabel='count'>"
      ]
     },
     "execution_count": 28,
     "metadata": {},
     "output_type": "execute_result"
    },
    {
     "data": {
      "image/png": "[encoded data removed]",
      "text/plain": [
       "<Figure size 640x480 with 1 Axes>"
      ]
     },
     "metadata": {},
     "output_type": "display_data"
    }
   ],
   "source": [
    "# To visualize IV (binary) I choose bar chart.\n",
    "# with seaborn\n",
    "sns.countplot(x = 'left_leaning', data=df)"
   ]
  },
  {
   "cell_type": "code",
   "execution_count": 29,
   "id": "fd3cea37-3b51-431a-b627-bcc5a7b558de",
   "metadata": {},
   "outputs": [
    {
     "data": {
      "text/plain": [
       "<Axes: xlabel='total_engagement', ylabel='Count'>"
      ]
     },
     "execution_count": 29,
     "metadata": {},
     "output_type": "execute_result"
    },
    {
     "data": {
      "image/png": "[encoded data removed]",
      "text/plain": [
       "<Figure size 1500x1200 with 1 Axes>"
      ]
     },
     "metadata": {},
     "output_type": "display_data"
    }
   ],
   "source": [
    "# To visualize DV (continous) I choose histogram. I have made it bigger to increase clarity.\n",
    "plt.figure(figsize = (15,12))\n",
    "sns.histplot(data=df, x='total_engagement')"
   ]
  },
  {
   "cell_type": "code",
   "execution_count": 30,
   "id": "7d114136-9218-42ee-b3cc-f1583539256b",
   "metadata": {},
   "outputs": [
    {
     "name": "stderr",
     "output_type": "stream",
     "text": [
      "/var/folders/j9/9v6cy4l50_1dhlx4d1h_hcv80000gn/T/ipykernel_14426/2645802361.py:3: FutureWarning: \n",
      "\n",
      "The `ci` parameter is deprecated. Use `errorbar=('ci', 95)` for the same effect.\n",
      "\n",
      "  sns.barplot(x=\"left_leaning\", y=\"total_engagement\", data=df, ci=95)\n"
     ]
    },
    {
     "data": {
      "text/plain": [
       "<Axes: xlabel='left_leaning', ylabel='total_engagement'>"
      ]
     },
     "execution_count": 30,
     "metadata": {},
     "output_type": "execute_result"
    },
    {
     "data": {
      "image/png": "[encoded data removed]",
      "text/plain": [
       "<Figure size 640x480 with 1 Axes>"
      ]
     },
     "metadata": {},
     "output_type": "display_data"
    }
   ],
   "source": [
    "# To visualize the relation between binary IV and continous DV I create a bar chart. It shows me the means per group and 95% confidence intervals around the mean.\n",
    "\n",
    "sns.barplot(x=\"left_leaning\", y=\"total_engagement\", data=df, ci=95)"
   ]
  },
  {
   "cell_type": "code",
   "execution_count": 31,
   "id": "265a8bf6-bd1a-4d38-bfc0-90158e06b288",
   "metadata": {},
   "outputs": [
    {
     "data": {
      "text/html": [
       "<div>\n",
       "<style scoped>\n",
       "    .dataframe tbody tr th:only-of-type {\n",
       "        vertical-align: middle;\n",
       "    }\n",
       "\n",
       "    .dataframe tbody tr th {\n",
       "        vertical-align: top;\n",
       "    }\n",
       "\n",
       "    .dataframe thead th {\n",
       "        text-align: right;\n",
       "    }\n",
       "</style>\n",
       "<table border=\"1\" class=\"dataframe\">\n",
       "  <thead>\n",
       "    <tr style=\"text-align: right;\">\n",
       "      <th></th>\n",
       "      <th>count</th>\n",
       "      <th>mean</th>\n",
       "      <th>std</th>\n",
       "      <th>min</th>\n",
       "      <th>25%</th>\n",
       "      <th>50%</th>\n",
       "      <th>75%</th>\n",
       "      <th>max</th>\n",
       "    </tr>\n",
       "    <tr>\n",
       "      <th>left_leaning</th>\n",
       "      <th></th>\n",
       "      <th></th>\n",
       "      <th></th>\n",
       "      <th></th>\n",
       "      <th></th>\n",
       "      <th></th>\n",
       "      <th></th>\n",
       "      <th></th>\n",
       "    </tr>\n",
       "  </thead>\n",
       "  <tbody>\n",
       "    <tr>\n",
       "      <th>0</th>\n",
       "      <td>285.00000</td>\n",
       "      <td>1370236.90877</td>\n",
       "      <td>3834546.61819</td>\n",
       "      <td>0.00000</td>\n",
       "      <td>2506.00000</td>\n",
       "      <td>80215.00000</td>\n",
       "      <td>1114040.00000</td>\n",
       "      <td>47573041.00000</td>\n",
       "    </tr>\n",
       "    <tr>\n",
       "      <th>1</th>\n",
       "      <td>130.00000</td>\n",
       "      <td>1531749.40000</td>\n",
       "      <td>5494745.07015</td>\n",
       "      <td>2.00000</td>\n",
       "      <td>3030.50000</td>\n",
       "      <td>110070.50000</td>\n",
       "      <td>786239.75000</td>\n",
       "      <td>52687952.00000</td>\n",
       "    </tr>\n",
       "  </tbody>\n",
       "</table>\n",
       "</div>"
      ],
      "text/plain": [
       "                 count          mean           std     min        25%  \\\n",
       "left_leaning                                                            \n",
       "0            285.00000 1370236.90877 3834546.61819 0.00000 2506.00000   \n",
       "1            130.00000 1531749.40000 5494745.07015 2.00000 3030.50000   \n",
       "\n",
       "                      50%           75%            max  \n",
       "left_leaning                                            \n",
       "0             80215.00000 1114040.00000 47573041.00000  \n",
       "1            110070.50000  786239.75000 52687952.00000  "
      ]
     },
     "execution_count": 31,
     "metadata": {},
     "output_type": "execute_result"
    }
   ],
   "source": [
    "# Descriptives per category.\n",
    "df.groupby('left_leaning')['total_engagement'].describe()"
   ]
  },
  {
   "cell_type": "markdown",
   "id": "481532ce-964b-4e2c-8691-3a6a03a6272b",
   "metadata": {},
   "source": [
    "On average left leaning pages have recieved more engagement (M = 1531749) than right leaning pages (M = 1370236). For both types of pages, SD is large with high maximium engagement."
   ]
  },
  {
   "cell_type": "code",
   "execution_count": 43,
   "id": "363161c5-a8c0-47a5-81b0-01f4ee4ef4f6",
   "metadata": {},
   "outputs": [],
   "source": [
    "import pingouin as pg\n",
    "import numpy as np\n",
    "\n",
    "# To find out if the difference is significant, I conduct an independent sample t-test. Before, I do a Levene's test to check if I can assume variance indifference between groups.\n",
    "\n",
    "# Damian's function to provide a simple way to display the results of a t-test\n",
    "# Note: pg.ttest() automatically checks for equality of variances (see pg.ttest? )\n",
    "# so you don't have to do this manually. Take that, SPSS!!!\n",
    "\n",
    "def pandasttest(df, dv, between):\n",
    "    '''Takes a dataframe, the name of the column that indicates the group (`between`), \n",
    "    and the name of the column that contains the dependent variable (`dv`) as\n",
    "    input and then prints a t-test'''\n",
    "    \n",
    "    assert len(df[between].unique())==2, \"There are more than two groups, aborting\"\n",
    "             \n",
    "    (label1, values1), (label2, values2) = df.groupby(between)[dv]\n",
    "    testresult = pg.ttest(values1, values2)\n",
    "    display(testresult)\n",
    "    print(f\"The difference between group {label1} (M={np.mean(values1):.2f}, SD={np.std(values1):.3f}) \"\n",
    "         f\"and group {label2} (M={np.mean(values2):.2f}, SD={np.std(values2):.3f}) \"\n",
    "         f\"is {'not ' if not (testresult['p-val']<.05).iloc[0] else''}significant, \"\n",
    "         f\"t({testresult.iloc[0,1]})={testresult.iloc[0,0]:.3f}, \"\n",
    "         f\"p={testresult.iloc[0,3]:.4f}.\")"
   ]
  },
  {
   "cell_type": "code",
   "execution_count": 44,
   "id": "fcac9fa1-99f4-4868-b063-cbe5e3be98ec",
   "metadata": {},
   "outputs": [
    {
     "data": {
      "text/html": [
       "<div>\n",
       "<style scoped>\n",
       "    .dataframe tbody tr th:only-of-type {\n",
       "        vertical-align: middle;\n",
       "    }\n",
       "\n",
       "    .dataframe tbody tr th {\n",
       "        vertical-align: top;\n",
       "    }\n",
       "\n",
       "    .dataframe thead th {\n",
       "        text-align: right;\n",
       "    }\n",
       "</style>\n",
       "<table border=\"1\" class=\"dataframe\">\n",
       "  <thead>\n",
       "    <tr style=\"text-align: right;\">\n",
       "      <th></th>\n",
       "      <th>T</th>\n",
       "      <th>dof</th>\n",
       "      <th>alternative</th>\n",
       "      <th>p-val</th>\n",
       "      <th>CI95%</th>\n",
       "      <th>cohen-d</th>\n",
       "      <th>BF10</th>\n",
       "      <th>power</th>\n",
       "    </tr>\n",
       "  </thead>\n",
       "  <tbody>\n",
       "    <tr>\n",
       "      <th>T-test</th>\n",
       "      <td>-0.30316</td>\n",
       "      <td>188.45437</td>\n",
       "      <td>two-sided</td>\n",
       "      <td>0.76210</td>\n",
       "      <td>[-1212464.35, 889439.37]</td>\n",
       "      <td>0.03654</td>\n",
       "      <td>0.122</td>\n",
       "      <td>0.06370</td>\n",
       "    </tr>\n",
       "  </tbody>\n",
       "</table>\n",
       "</div>"
      ],
      "text/plain": [
       "              T       dof alternative   p-val                     CI95%  \\\n",
       "T-test -0.30316 188.45437   two-sided 0.76210  [-1212464.35, 889439.37]   \n",
       "\n",
       "        cohen-d   BF10   power  \n",
       "T-test  0.03654  0.122 0.06370  "
      ]
     },
     "metadata": {},
     "output_type": "display_data"
    },
    {
     "name": "stdout",
     "output_type": "stream",
     "text": [
      "The difference between group 0 (M=1370236.91, SD=3827813.432) and group 1 (M=1531749.40, SD=5473570.637) is not significant, t(188.4543697961352)=-0.303, p=0.7621.\n"
     ]
    }
   ],
   "source": [
    "pandasttest(df, dv = 'total_engagement', between = 'left_leaning')"
   ]
  },
  {
   "cell_type": "markdown",
   "id": "7dc530be-335d-4f41-9b9f-f6f8f657ebef",
   "metadata": {},
   "source": [
    "Based on the t-test I can conclude that the differnece in engagement between left- and right-leaning pages is not significant. Hence, the answer to the RQ is that there is no relation between the political leaning of the page and the amount of engagement it has recieved."
   ]
  }
 ],
 "metadata": {
  "kernelspec": {
   "display_name": "Python 3 (ipykernel)",
   "language": "python",
   "name": "python3"
  },
  "language_info": {
   "codemirror_mode": {
    "name": "ipython",
    "version": 3
   },
   "file_extension": ".py",
   "mimetype": "text/x-python",
   "name": "python",
   "nbconvert_exporter": "python",
   "pygments_lexer": "ipython3",
   "version": "3.12.6"
  }
 },
 "nbformat": 4,
 "nbformat_minor": 5
}
