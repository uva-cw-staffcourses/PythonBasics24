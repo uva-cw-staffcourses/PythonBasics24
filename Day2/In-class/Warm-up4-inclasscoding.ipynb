{
 "cells": [
  {
   "cell_type": "markdown",
   "metadata": {},
   "source": [
    "# Warm-up exercises 4"
   ]
  },
  {
   "cell_type": "markdown",
   "metadata": {},
   "source": [
    "Now that you have read about opening different files and working with pandas, it's time for you to apply your knowledge. To prepare for the workshop, complete the following two warm-up exercises.\n",
    "\n",
    "Some important notes for the exercises:\n",
    "\n",
    "* These excercises are a warming up meant to help you get ready for class. Make sure to give them a try on all of them. If you get an error message, try to troubleshoot it (using Google often helps). If all else fails, go to the next excercise (but make sure to hand it in).\n",
    "* As these excercises are meant to help you participate in the workshop and us to make sure you can get as much as possible from the tutorials, we do not expect perfect answers. However, this is important to show the effort you have put in the excercises and what obstacles you faced."
   ]
  },
  {
   "cell_type": "markdown",
   "metadata": {},
   "source": [
    "# Exercise 4.1\n",
    "\n",
    "The json file `books.json` contains ratings of books. The json file is structured as follows: keys are titles of books and values the rating given to them on a scale from 1-10.\n",
    "\n",
    "* Read the json file into a dictionary.\n",
    "\n",
    "* Create a list of book titles that only contains books rated above average.\n",
    "\n",
    "* Write that list into a csv file."
   ]
  },
  {
   "cell_type": "code",
   "execution_count": 4,
   "metadata": {},
   "outputs": [
    {
     "name": "stdout",
     "output_type": "stream",
     "text": [
      "{'Hamlet, Prince of Denmark': 4, 'Antiquities of the Jews': 1, 'The Moon and Sixpence': 3, 'The Lock and Key Library: Classic Mystery and Detective Stories: Modern English': 2, 'What Men Live By, and Other Tales': 5, 'A Portrait of the Artist as a Young Man': 4, 'My Bondage and My Freedom': 1, 'A Vindication of the Rights of Woman: With Strictures on Political and Moral Subjects': 5, 'Trial of the Major War Criminals Before the International Military Tribunal, Vol. I: Nuremburg 14 November 1945-1 October 1946: Vol. I': 2, 'Line and Form (1900)': 4, \"Lady Windermere's Fan\": 9, 'The History Of The Decline And Fall Of The Roman Empire: Table of Contents with links in the HTML file to the two; Project Gutenberg editions (12 volumes)': 9, 'Jesus the Christ: A Study of the Messiah and His Mission According to Holy; Scriptures Both Ancient and Modern': 3, 'Self-Control Its Kingship and Majesty': 6, 'The Iliad of Homer: Translated into English Blank Verse by William Cowper': 1, 'Clarissa Harlowe; or the history of a young lady — Volume 1': 3, 'Simple Sabotage Field Manual': 7, 'Der Struwwelpeter: oder lustige Geschichten und drollige Bilder': 4, 'Woodcraft and Camping': 3, 'The Varieties of Religious Experience: A Study in Human Nature': 9, 'The Metamorphoses of Ovid, Books I-VII': 4, 'Household Stories by the Brothers Grimm': 3, 'Don Quijote': 9, 'The Elements of Drawing, in Three Letters to Beginners': None, 'Utopia': 6, 'A Shropshire Lad': 7, 'Nursing as Caring: A Model for Transforming Practice': 2, 'Famous Modern Ghost Stories': 8, 'Time In the Round': 8, 'The Secret Adversary': 9, 'Treasure Island': 5, 'The Tribes and Castes of the Central Provinces of India, Volume 1': 9, 'The Sketch-Book of Geoffrey Crayon': 1, 'The Communist Manifesto': 2, \"A Beginner's Psychology\": 7, 'Looking Backward, 2000 to 1887': 9, '\"1812\" Napoleon I in Russia': 2, 'She Stoops to Conquer; Or, The Mistakes of a Night: A Comedy': 4, \"Letters of Abelard and Heloise: To which is prefix'd a particular account of their lives, amours, and misfortunes\": 2, 'The Memoirs of Jacques Casanova de Seingalt, 1725-1798. Complete': 9, 'A Woman of No Importance': 5, 'A Princess of Mars': 1, 'The Wisdom of Father Brown': 4, 'Daddy-Long-Legs': 9, 'The Satyricon — Complete': 5, 'Dubliners': 9, 'The Works of Edgar Allan Poe — Volume 3': 5, 'The Importance of Being Earnest: A Trivial Comedy for Serious People': 1, 'Memoirs of Napoleon Bonaparte — Complete': 3, 'The Last Man': 2, 'In Bad Company and other stories': 2, 'Sonnets from the Portuguese': 1, 'Heart of Darkness': 8, 'The New Life (La Vita Nuova)': 7, \"Alice's Abenteuer im Wunderland\": 5, 'Cookery and Dining in Imperial Rome': 6, 'The Love of Monsieur': 2, 'History of Tom Jones, a Foundling': 8, 'Kim': 8, 'Lineage, Life and Labors of José Rizal, Philippine Patriot': 4, 'The Memoirs of the Conquistador Bernal Diaz del Castillo, Vol 1 (of 2): Written by Himself Containing a True and Full Account of the Discovery and Conquest of Mexico and New Spain.': 5, 'Beasts, Men and Gods': 5, 'The King in Yellow': 5, 'Myths & Legends of the Celtic Race': 4, \"The Devil's Dictionary\": 6, \"A Connecticut Yankee in King Arthur's Court\": 6, 'The Scarlet Letter': 7, 'Through the Looking-Glass': 8, \"Lady Audley's Secret\": 7, 'The Social Cancer: A Complete English Version of Noli Me Tangere': 3, \"Voyage to Far N'jurd\": 9, 'The Principles of Chemistry Volume I (of 2)': 7, 'The Art of War': 6, \"Gulliver's Travels into Several Remote Nations of the World\": 6, 'English Literature: Its History and Its Significance for the Life of the English-Speaking World': 5, 'The Man Who Was Thursday: A Nightmare': 4, 'The History of Don Quixote, Volume 1, Complete': 1, 'Laughter: An Essay on the Meaning of the Comic': 5, 'The Kama Sutra of Vatsyayana: Translated From the Sanscrit in Seven Parts With Preface, Introduction and Concluding Remarks': 6, 'The Poetics of Aristotle': 8, 'The Secret Garden': 2, 'The Arabian Nights Entertainments': 4, 'The Thirty-Nine Steps': 2, 'Fifty Famous Stories Retold': 6, 'As a Man Thinketh': 7, 'The Spectator, Volumes 1, 2 and 3: With Translations and Index for the Series': 9, 'The Picture of Dorian Gray': 6, 'Claudian, volume 1 (of 2): With an English translation by Maurice Platnauer': 1, 'People Soup': 4, 'Siddhartha: eine indische Dichtung': '3', 'Villette': '6', \"Mark Twain's Speeches\": 3, 'The Essays of \"George Eliot\": Complete': 7, 'The Consolation of Philosophy': 6, 'Les misérables Tome I: Fantine': 7, 'Nationalism': 4, \"Cicero's Tusculan Disputations: Also, Treatises On The Nature Of The Gods, And On The Commonwealth\": 3, 'Twice Told Tales': 3, 'The Woman in White': 5, 'The Vampyre; a Tale': 7, 'The Good Soldier': None}\n",
      "<class 'dict'>\n"
     ]
    }
   ],
   "source": [
    "import json\n",
    "\n",
    "with open('books.json', 'r') as file:\n",
    "    data = json.load(file)\n",
    "\n",
    "print(data)\n",
    "print(type(data))"
   ]
  },
  {
   "cell_type": "code",
   "execution_count": 9,
   "metadata": {},
   "outputs": [],
   "source": [
    "nonones = {k: v for k, v in data.items() if v is not None}"
   ]
  },
  {
   "cell_type": "code",
   "execution_count": 15,
   "metadata": {},
   "outputs": [
    {
     "name": "stdout",
     "output_type": "stream",
     "text": [
      "['What Men Live By, and Other Tales', 'A Vindication of the Rights of Woman: With Strictures on Political and Moral Subjects', \"Lady Windermere's Fan\", 'The History Of The Decline And Fall Of The Roman Empire: Table of Contents with links in the HTML file to the two; Project Gutenberg editions (12 volumes)', 'Self-Control Its Kingship and Majesty', 'Simple Sabotage Field Manual', 'The Varieties of Religious Experience: A Study in Human Nature', 'Don Quijote', 'Utopia', 'A Shropshire Lad', 'Famous Modern Ghost Stories', 'Time In the Round', 'The Secret Adversary', 'Treasure Island', 'The Tribes and Castes of the Central Provinces of India, Volume 1', \"A Beginner's Psychology\", 'Looking Backward, 2000 to 1887', 'The Memoirs of Jacques Casanova de Seingalt, 1725-1798. Complete', 'A Woman of No Importance', 'Daddy-Long-Legs', 'The Satyricon — Complete', 'Dubliners', 'The Works of Edgar Allan Poe — Volume 3', 'Heart of Darkness', 'The New Life (La Vita Nuova)', \"Alice's Abenteuer im Wunderland\", 'Cookery and Dining in Imperial Rome', 'History of Tom Jones, a Foundling', 'Kim', 'The Memoirs of the Conquistador Bernal Diaz del Castillo, Vol 1 (of 2): Written by Himself Containing a True and Full Account of the Discovery and Conquest of Mexico and New Spain.', 'Beasts, Men and Gods', 'The King in Yellow', \"The Devil's Dictionary\", \"A Connecticut Yankee in King Arthur's Court\", 'The Scarlet Letter', 'Through the Looking-Glass', \"Lady Audley's Secret\", \"Voyage to Far N'jurd\", 'The Principles of Chemistry Volume I (of 2)', 'The Art of War', \"Gulliver's Travels into Several Remote Nations of the World\", 'English Literature: Its History and Its Significance for the Life of the English-Speaking World', 'Laughter: An Essay on the Meaning of the Comic', 'The Kama Sutra of Vatsyayana: Translated From the Sanscrit in Seven Parts With Preface, Introduction and Concluding Remarks', 'The Poetics of Aristotle', 'Fifty Famous Stories Retold', 'As a Man Thinketh', 'The Spectator, Volumes 1, 2 and 3: With Translations and Index for the Series', 'The Picture of Dorian Gray', 'Villette', 'The Essays of \"George Eliot\": Complete', 'The Consolation of Philosophy', 'Les misérables Tome I: Fantine', 'The Woman in White', 'The Vampyre; a Tale']\n"
     ]
    }
   ],
   "source": [
    "goodreads = []\n",
    "\n",
    "for k,v in nonones.items():\n",
    "    if int(v) > sum(int(x) for x in nonones.values())/len(nonones.values()):\n",
    "        goodreads.append(k)\n",
    "    else:\n",
    "        pass\n",
    "        \n",
    "print(goodreads)"
   ]
  },
  {
   "cell_type": "markdown",
   "metadata": {},
   "source": [
    "# Exercise 4.2\n",
    "\n",
    "For the second exercise, we'll use a popular example dataset. The dataset, called **iris**, contains data about flowers, and was first introduced by the British statistician and biologist Ronald Fisher in 1936. \n",
    "\n",
    "#### 2.1. Explore the data.\n",
    "\n",
    "Load the csv file `Iris.csv` into pandas and check if the iris dataset contains missing values, check all column types and print all column names. If the dataset contains missing values, consider what you could do with them\n",
    "\n",
    "\n",
    "Source of the dataset: https://www.kaggle.com/datasets/uciml/iris\n"
   ]
  },
  {
   "cell_type": "code",
   "execution_count": 16,
   "metadata": {},
   "outputs": [],
   "source": [
    "# exercise 2.1\n",
    "\n",
    "import pandas as pd\n",
    "\n",
    "df = pd.read_csv('Iris.csv')"
   ]
  },
  {
   "cell_type": "code",
   "execution_count": 17,
   "metadata": {},
   "outputs": [
    {
     "data": {
      "text/html": [
       "<div>\n",
       "<style scoped>\n",
       "    .dataframe tbody tr th:only-of-type {\n",
       "        vertical-align: middle;\n",
       "    }\n",
       "\n",
       "    .dataframe tbody tr th {\n",
       "        vertical-align: top;\n",
       "    }\n",
       "\n",
       "    .dataframe thead th {\n",
       "        text-align: right;\n",
       "    }\n",
       "</style>\n",
       "<table border=\"1\" class=\"dataframe\">\n",
       "  <thead>\n",
       "    <tr style=\"text-align: right;\">\n",
       "      <th></th>\n",
       "      <th>Id</th>\n",
       "      <th>SepalLengthCm</th>\n",
       "      <th>SepalWidthCm</th>\n",
       "      <th>PetalLengthCm</th>\n",
       "      <th>PetalWidthCm</th>\n",
       "      <th>Species</th>\n",
       "    </tr>\n",
       "  </thead>\n",
       "  <tbody>\n",
       "    <tr>\n",
       "      <th>0</th>\n",
       "      <td>1</td>\n",
       "      <td>5.1</td>\n",
       "      <td>3.5</td>\n",
       "      <td>1.4</td>\n",
       "      <td>0.2</td>\n",
       "      <td>Iris-setosa</td>\n",
       "    </tr>\n",
       "    <tr>\n",
       "      <th>1</th>\n",
       "      <td>2</td>\n",
       "      <td>4.9</td>\n",
       "      <td>3.0</td>\n",
       "      <td>1.4</td>\n",
       "      <td>0.2</td>\n",
       "      <td>Iris-setosa</td>\n",
       "    </tr>\n",
       "    <tr>\n",
       "      <th>2</th>\n",
       "      <td>3</td>\n",
       "      <td>4.7</td>\n",
       "      <td>3.2</td>\n",
       "      <td>1.3</td>\n",
       "      <td>0.2</td>\n",
       "      <td>Iris-setosa</td>\n",
       "    </tr>\n",
       "    <tr>\n",
       "      <th>3</th>\n",
       "      <td>4</td>\n",
       "      <td>4.6</td>\n",
       "      <td>3.1</td>\n",
       "      <td>1.5</td>\n",
       "      <td>0.2</td>\n",
       "      <td>Iris-setosa</td>\n",
       "    </tr>\n",
       "    <tr>\n",
       "      <th>4</th>\n",
       "      <td>5</td>\n",
       "      <td>5.0</td>\n",
       "      <td>3.6</td>\n",
       "      <td>1.4</td>\n",
       "      <td>0.2</td>\n",
       "      <td>Iris-setosa</td>\n",
       "    </tr>\n",
       "  </tbody>\n",
       "</table>\n",
       "</div>"
      ],
      "text/plain": [
       "   Id  SepalLengthCm  SepalWidthCm  PetalLengthCm  PetalWidthCm      Species\n",
       "0   1            5.1           3.5            1.4           0.2  Iris-setosa\n",
       "1   2            4.9           3.0            1.4           0.2  Iris-setosa\n",
       "2   3            4.7           3.2            1.3           0.2  Iris-setosa\n",
       "3   4            4.6           3.1            1.5           0.2  Iris-setosa\n",
       "4   5            5.0           3.6            1.4           0.2  Iris-setosa"
      ]
     },
     "execution_count": 17,
     "metadata": {},
     "output_type": "execute_result"
    }
   ],
   "source": [
    "df.head()"
   ]
  },
  {
   "cell_type": "code",
   "execution_count": 18,
   "metadata": {},
   "outputs": [
    {
     "data": {
      "text/plain": [
       "Id               0\n",
       "SepalLengthCm    0\n",
       "SepalWidthCm     0\n",
       "PetalLengthCm    0\n",
       "PetalWidthCm     0\n",
       "Species          0\n",
       "dtype: int64"
      ]
     },
     "execution_count": 18,
     "metadata": {},
     "output_type": "execute_result"
    }
   ],
   "source": [
    "df.isna().sum()"
   ]
  },
  {
   "cell_type": "code",
   "execution_count": 21,
   "metadata": {},
   "outputs": [
    {
     "data": {
      "text/plain": [
       "Id                 int64\n",
       "SepalLengthCm    float64\n",
       "SepalWidthCm     float64\n",
       "PetalLengthCm    float64\n",
       "PetalWidthCm     float64\n",
       "Species           object\n",
       "dtype: object"
      ]
     },
     "execution_count": 21,
     "metadata": {},
     "output_type": "execute_result"
    }
   ],
   "source": [
    "df.dtypes"
   ]
  },
  {
   "cell_type": "code",
   "execution_count": 22,
   "metadata": {},
   "outputs": [
    {
     "data": {
      "text/plain": [
       "Index(['Id', 'SepalLengthCm', 'SepalWidthCm', 'PetalLengthCm', 'PetalWidthCm',\n",
       "       'Species'],\n",
       "      dtype='object')"
      ]
     },
     "execution_count": 22,
     "metadata": {},
     "output_type": "execute_result"
    }
   ],
   "source": [
    "df.columns"
   ]
  },
  {
   "cell_type": "markdown",
   "metadata": {},
   "source": [
    "#### 2.2. Process the data.\n",
    "\n",
    "Now, create a smaller dataset, called setosa, consisting only of observations from the setosa species. Compute descriptive statistics for the sepal_length and sepal_width in the newly created setosa dataset."
   ]
  },
  {
   "cell_type": "code",
   "execution_count": 24,
   "metadata": {},
   "outputs": [
    {
     "data": {
      "text/html": [
       "<div>\n",
       "<style scoped>\n",
       "    .dataframe tbody tr th:only-of-type {\n",
       "        vertical-align: middle;\n",
       "    }\n",
       "\n",
       "    .dataframe tbody tr th {\n",
       "        vertical-align: top;\n",
       "    }\n",
       "\n",
       "    .dataframe thead th {\n",
       "        text-align: right;\n",
       "    }\n",
       "</style>\n",
       "<table border=\"1\" class=\"dataframe\">\n",
       "  <thead>\n",
       "    <tr style=\"text-align: right;\">\n",
       "      <th></th>\n",
       "      <th>Id</th>\n",
       "      <th>SepalLengthCm</th>\n",
       "      <th>SepalWidthCm</th>\n",
       "      <th>PetalLengthCm</th>\n",
       "      <th>PetalWidthCm</th>\n",
       "      <th>Species</th>\n",
       "    </tr>\n",
       "  </thead>\n",
       "  <tbody>\n",
       "    <tr>\n",
       "      <th>0</th>\n",
       "      <td>1</td>\n",
       "      <td>5.1</td>\n",
       "      <td>3.5</td>\n",
       "      <td>1.4</td>\n",
       "      <td>0.2</td>\n",
       "      <td>Iris-setosa</td>\n",
       "    </tr>\n",
       "    <tr>\n",
       "      <th>1</th>\n",
       "      <td>2</td>\n",
       "      <td>4.9</td>\n",
       "      <td>3.0</td>\n",
       "      <td>1.4</td>\n",
       "      <td>0.2</td>\n",
       "      <td>Iris-setosa</td>\n",
       "    </tr>\n",
       "    <tr>\n",
       "      <th>2</th>\n",
       "      <td>3</td>\n",
       "      <td>4.7</td>\n",
       "      <td>3.2</td>\n",
       "      <td>1.3</td>\n",
       "      <td>0.2</td>\n",
       "      <td>Iris-setosa</td>\n",
       "    </tr>\n",
       "    <tr>\n",
       "      <th>3</th>\n",
       "      <td>4</td>\n",
       "      <td>4.6</td>\n",
       "      <td>3.1</td>\n",
       "      <td>1.5</td>\n",
       "      <td>0.2</td>\n",
       "      <td>Iris-setosa</td>\n",
       "    </tr>\n",
       "    <tr>\n",
       "      <th>4</th>\n",
       "      <td>5</td>\n",
       "      <td>5.0</td>\n",
       "      <td>3.6</td>\n",
       "      <td>1.4</td>\n",
       "      <td>0.2</td>\n",
       "      <td>Iris-setosa</td>\n",
       "    </tr>\n",
       "  </tbody>\n",
       "</table>\n",
       "</div>"
      ],
      "text/plain": [
       "   Id  SepalLengthCm  SepalWidthCm  PetalLengthCm  PetalWidthCm      Species\n",
       "0   1            5.1           3.5            1.4           0.2  Iris-setosa\n",
       "1   2            4.9           3.0            1.4           0.2  Iris-setosa\n",
       "2   3            4.7           3.2            1.3           0.2  Iris-setosa\n",
       "3   4            4.6           3.1            1.5           0.2  Iris-setosa\n",
       "4   5            5.0           3.6            1.4           0.2  Iris-setosa"
      ]
     },
     "execution_count": 24,
     "metadata": {},
     "output_type": "execute_result"
    }
   ],
   "source": [
    "setosa = df[df['Species']=='Iris-setosa']\n",
    "\n",
    "setosa.head()"
   ]
  },
  {
   "cell_type": "code",
   "execution_count": 25,
   "metadata": {},
   "outputs": [
    {
     "data": {
      "text/plain": [
       "150"
      ]
     },
     "execution_count": 25,
     "metadata": {},
     "output_type": "execute_result"
    }
   ],
   "source": [
    "len(df.index)"
   ]
  },
  {
   "cell_type": "code",
   "execution_count": 26,
   "metadata": {},
   "outputs": [
    {
     "data": {
      "text/plain": [
       "50"
      ]
     },
     "execution_count": 26,
     "metadata": {},
     "output_type": "execute_result"
    }
   ],
   "source": [
    "len(setosa.index)"
   ]
  },
  {
   "cell_type": "code",
   "execution_count": 27,
   "metadata": {},
   "outputs": [
    {
     "data": {
      "text/html": [
       "<div>\n",
       "<style scoped>\n",
       "    .dataframe tbody tr th:only-of-type {\n",
       "        vertical-align: middle;\n",
       "    }\n",
       "\n",
       "    .dataframe tbody tr th {\n",
       "        vertical-align: top;\n",
       "    }\n",
       "\n",
       "    .dataframe thead th {\n",
       "        text-align: right;\n",
       "    }\n",
       "</style>\n",
       "<table border=\"1\" class=\"dataframe\">\n",
       "  <thead>\n",
       "    <tr style=\"text-align: right;\">\n",
       "      <th></th>\n",
       "      <th>Id</th>\n",
       "      <th>SepalLengthCm</th>\n",
       "      <th>SepalWidthCm</th>\n",
       "      <th>PetalLengthCm</th>\n",
       "      <th>PetalWidthCm</th>\n",
       "    </tr>\n",
       "  </thead>\n",
       "  <tbody>\n",
       "    <tr>\n",
       "      <th>count</th>\n",
       "      <td>50.00000</td>\n",
       "      <td>50.00000</td>\n",
       "      <td>50.000000</td>\n",
       "      <td>50.000000</td>\n",
       "      <td>50.00000</td>\n",
       "    </tr>\n",
       "    <tr>\n",
       "      <th>mean</th>\n",
       "      <td>25.50000</td>\n",
       "      <td>5.00600</td>\n",
       "      <td>3.418000</td>\n",
       "      <td>1.464000</td>\n",
       "      <td>0.24400</td>\n",
       "    </tr>\n",
       "    <tr>\n",
       "      <th>std</th>\n",
       "      <td>14.57738</td>\n",
       "      <td>0.35249</td>\n",
       "      <td>0.381024</td>\n",
       "      <td>0.173511</td>\n",
       "      <td>0.10721</td>\n",
       "    </tr>\n",
       "    <tr>\n",
       "      <th>min</th>\n",
       "      <td>1.00000</td>\n",
       "      <td>4.30000</td>\n",
       "      <td>2.300000</td>\n",
       "      <td>1.000000</td>\n",
       "      <td>0.10000</td>\n",
       "    </tr>\n",
       "    <tr>\n",
       "      <th>25%</th>\n",
       "      <td>13.25000</td>\n",
       "      <td>4.80000</td>\n",
       "      <td>3.125000</td>\n",
       "      <td>1.400000</td>\n",
       "      <td>0.20000</td>\n",
       "    </tr>\n",
       "    <tr>\n",
       "      <th>50%</th>\n",
       "      <td>25.50000</td>\n",
       "      <td>5.00000</td>\n",
       "      <td>3.400000</td>\n",
       "      <td>1.500000</td>\n",
       "      <td>0.20000</td>\n",
       "    </tr>\n",
       "    <tr>\n",
       "      <th>75%</th>\n",
       "      <td>37.75000</td>\n",
       "      <td>5.20000</td>\n",
       "      <td>3.675000</td>\n",
       "      <td>1.575000</td>\n",
       "      <td>0.30000</td>\n",
       "    </tr>\n",
       "    <tr>\n",
       "      <th>max</th>\n",
       "      <td>50.00000</td>\n",
       "      <td>5.80000</td>\n",
       "      <td>4.400000</td>\n",
       "      <td>1.900000</td>\n",
       "      <td>0.60000</td>\n",
       "    </tr>\n",
       "  </tbody>\n",
       "</table>\n",
       "</div>"
      ],
      "text/plain": [
       "             Id  SepalLengthCm  SepalWidthCm  PetalLengthCm  PetalWidthCm\n",
       "count  50.00000       50.00000     50.000000      50.000000      50.00000\n",
       "mean   25.50000        5.00600      3.418000       1.464000       0.24400\n",
       "std    14.57738        0.35249      0.381024       0.173511       0.10721\n",
       "min     1.00000        4.30000      2.300000       1.000000       0.10000\n",
       "25%    13.25000        4.80000      3.125000       1.400000       0.20000\n",
       "50%    25.50000        5.00000      3.400000       1.500000       0.20000\n",
       "75%    37.75000        5.20000      3.675000       1.575000       0.30000\n",
       "max    50.00000        5.80000      4.400000       1.900000       0.60000"
      ]
     },
     "execution_count": 27,
     "metadata": {},
     "output_type": "execute_result"
    }
   ],
   "source": [
    "setosa.describe()"
   ]
  },
  {
   "cell_type": "code",
   "execution_count": null,
   "metadata": {},
   "outputs": [],
   "source": []
  }
 ],
 "metadata": {
  "interpreter": {
   "hash": "aee8b7b246df8f9039afb4144a1f6fd8d2ca17a180786b69acc140d282b71a49"
  },
  "kernelspec": {
   "display_name": "Python 3 (ipykernel)",
   "language": "python",
   "name": "python3"
  },
  "language_info": {
   "codemirror_mode": {
    "name": "ipython",
    "version": 3
   },
   "file_extension": ".py",
   "mimetype": "text/x-python",
   "name": "python",
   "nbconvert_exporter": "python",
   "pygments_lexer": "ipython3",
   "version": "3.12.6"
  }
 },
 "nbformat": 4,
 "nbformat_minor": 4
}
