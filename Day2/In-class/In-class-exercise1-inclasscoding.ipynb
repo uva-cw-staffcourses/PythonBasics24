{
 "cells": [
  {
   "cell_type": "markdown",
   "id": "2027cfa3",
   "metadata": {},
   "source": [
    "# Day 2: In-class exercise 1"
   ]
  },
  {
   "cell_type": "markdown",
   "id": "210d80d0",
   "metadata": {},
   "source": [
    "Now that you have some expereince with the most important control structures and can apply them when writing your own functions, it's time for you to combine and apply your knowledge.  \n",
    "\n",
    "In each challange, you are asked to provide the programing solution to it as well as a technical interpretation explaining the steps taken and the result.\n"
   ]
  },
  {
   "cell_type": "markdown",
   "id": "0b40969d",
   "metadata": {},
   "source": [
    "# Challenge 1\n",
    "\n",
    "Below, you have a list that contains so called *referers* (places a visitor of a web page came from) for a given timeframe for a given page. This is an example of so-called digital trace data. \n",
    "\n",
    "Imagine that this is a list of referers to a given page (say, a specific article on a news site or a specific product in a web shop). First have a look at the data:"
   ]
  },
  {
   "cell_type": "code",
   "execution_count": 1,
   "id": "a3782e84",
   "metadata": {},
   "outputs": [],
   "source": [
    "visitors = ['homepage',\n",
    "            'homepage',\n",
    "            'homepage',\n",
    "            'instagram app',\n",
    "            'facebook app',\n",
    "            'campaign utx=1389',\n",
    "            'homepage',\n",
    "            'facebook app',\n",
    "            'homepage',\n",
    "            'google search',\n",
    "            'homepage',\n",
    "            'facebook app',\n",
    "            'homepage',\n",
    "            'homepage',\n",
    "            'homepage',\n",
    "            'campaign utx=1389',\n",
    "            'homepage',\n",
    "            'homepage',\n",
    "            'campaign utx=468495678',\n",
    "            'campaign utx=479098',\n",
    "            'instagram app',\n",
    "            'campaign utx=1389',\n",
    "            'facebook.com',\n",
    "            'facebook app',\n",
    "            'campaign utx=3533',\n",
    "            'google search',\n",
    "            'homepage',\n",
    "            'campaign utx=1389',\n",
    "            'campaign utx=1389',\n",
    "            'homepage',\n",
    "            'campaign utx=3533',\n",
    "            'instagram app',\n",
    "            'homepage',\n",
    "            'homepage',\n",
    "            'campaign utx=3533',\n",
    "            'homepage',\n",
    "            'instagram app',\n",
    "            'campaign utx=1389',\n",
    "            'instagram app',\n",
    "            'facebook app',\n",
    "            'homepage',\n",
    "            'facebook.com',\n",
    "            'campaign utx=1389',\n",
    "            'campaign utx=1389',\n",
    "            'homepage',\n",
    "            'homepage',\n",
    "            'facebook.com',\n",
    "            'instagram app',\n",
    "            'instagram app',\n",
    "            'campaign utx=1389',\n",
    "            'homepage',\n",
    "            'facebook.com',\n",
    "            'newsletter',\n",
    "            'newsletter',\n",
    "            'homepage',\n",
    "            'newsletter',\n",
    "            'homepage',\n",
    "            'newsletter',\n",
    "            'facebook.com',\n",
    "            'facebook.com',\n",
    "            'homepage',\n",
    "            'newsletter',\n",
    "            'newsletter',\n",
    "            'newsletter',\n",
    "            'google search',\n",
    "            'campaign utx=1389',\n",
    "            'newsletter',\n",
    "            'newsletter']"
   ]
  },
  {
   "cell_type": "markdown",
   "id": "fbd4336e-78d5-4da7-a4f0-14a231dd460e",
   "metadata": {},
   "source": [
    "Now, answer the following questions (not by hand, of course, but by writing appropriate code). For each question, provide the necessary code and a short explanation of the choices you made and how to interpret the results (in a Markdown cell) .\n",
    "\n",
    "###  1.1 What is the most popular source that visitors came from?\n",
    "Just provide a naive count over the unprocessed raw data.\n",
    "Explain, in your own words, potential problems."
   ]
  },
  {
   "cell_type": "code",
   "execution_count": 2,
   "id": "11c0c04d-d974-41a3-9246-9c6bce7e7094",
   "metadata": {},
   "outputs": [
    {
     "name": "stdout",
     "output_type": "stream",
     "text": [
      "[('homepage', 23), ('campaign utx=1389', 10), ('newsletter', 9), ('instagram app', 7), ('facebook.com', 6), ('facebook app', 5), ('google search', 3), ('campaign utx=3533', 3), ('campaign utx=468495678', 1), ('campaign utx=479098', 1)]\n"
     ]
    }
   ],
   "source": [
    "# Exercise 1.1\n",
    "\n",
    "from collections import Counter #it is nice to put all these import lines at the start of your code\n",
    "\n",
    "c = Counter(visitors)\n",
    "print(c.most_common())\n",
    "\n",
    "# What to Google?\n"
   ]
  },
  {
   "cell_type": "markdown",
   "id": "c115f6e8",
   "metadata": {},
   "source": [
    "\n",
    "### 1.2 Provide some 'fairer\" and more detailed comparisons!\n",
    "- You may have realized that probably some of the categories should have been merged. Write multiple function to preprocess the data and provide more insightful counts than you did in 1.1.\n",
    "- Here are some techniques that you may find useful for this:\n",
    "\n",
    "```\n",
    "# slicing\n",
    "# for example:\n",
    "somestring[:5]      # to get the  the first five characters\n",
    "somelist[-1]        # to get the last element of a list\n",
    "\n",
    "# the str.split() method:\n",
    "somestring.split(c) # to split a string into a list of strings everytime character c occurs\n",
    "                    # if you leave away c, it splits on spaced\n",
    "\n",
    "# the str.find() method:\n",
    "somestring.find(somesearchstring)   # returns the position of a searchstring within a string, \n",
    "                                    # and -1 if not found\n",
    "\n",
    "```\n",
    "\n"
   ]
  },
  {
   "cell_type": "code",
   "execution_count": 8,
   "id": "c9bb9b9a-f5a3-4788-9a56-d3b4c9b7120f",
   "metadata": {},
   "outputs": [
    {
     "name": "stdout",
     "output_type": "stream",
     "text": [
      "Counter({'homepage': 23, 'facebook': 11, 'campaign utx=1389': 10, 'newsletter': 9, 'instagram app': 7, 'google search': 3, 'campaign utx=3533': 3, 'campaign utx=468495678': 1, 'campaign utx=479098': 1})\n",
      "   \n",
      "[('homepage', 23), ('facebook', 11), ('campaign utx=1389', 10), ('newsletter', 9), ('instagram app', 7), ('google search', 3), ('campaign utx=3533', 3), ('campaign utx=468495678', 1), ('campaign utx=479098', 1)]\n"
     ]
    }
   ],
   "source": [
    "# Solving 1.2\n",
    "\n",
    "# Define a function that combines all the facebook-types (.com and app)\n",
    "def combine(element): # define the function\n",
    "    if \"facebook\" in element.lower(): # check if the word \"facebook\" is in the input\n",
    "        return \"facebook\" # if so, change the input to \"facebook\"\n",
    "    else:\n",
    "        return element # in all other cases, just return the input without changes\n",
    "\n",
    "\n",
    "listy = [] # define an empty list \n",
    "\n",
    "for element in visitors: # loop over the original list\n",
    "    new_item = combine(element) # put each element in the function defined above\n",
    "    listy.append(new_item) # add whatever the function spits out to our new list\n",
    "    \n",
    "#print(listy) \n",
    "\n",
    "c = Counter(listy)\n",
    "print(c)\n",
    "print(\"   \")\n",
    "print(c.most_common())\n",
    "        "
   ]
  },
  {
   "cell_type": "code",
   "execution_count": 10,
   "id": "54b7806b-51fa-4581-898a-1dfcbcdc2e3c",
   "metadata": {},
   "outputs": [
    {
     "name": "stdout",
     "output_type": "stream",
     "text": [
      "<class 'list'>\n"
     ]
    }
   ],
   "source": [
    "print(type(c.most_common()))"
   ]
  },
  {
   "cell_type": "code",
   "execution_count": 14,
   "id": "6303e254-a355-4ade-a1b6-07fae19d0c6d",
   "metadata": {},
   "outputs": [
    {
     "name": "stdout",
     "output_type": "stream",
     "text": [
      "3\n"
     ]
    }
   ],
   "source": [
    "listy2 = [0, 1, 2, 3, 4, 5]\n",
    "\n",
    "print(listy2[3])\n",
    "\n",
    "# Python starts counting at 0 - so if you ask it to print the 3rd element, that is 3 (instead of 2) in this case"
   ]
  },
  {
   "cell_type": "markdown",
   "id": "3709b95e-b6cd-4349-b151-a131c98d3c4f",
   "metadata": {},
   "source": [
    "### 1.3 Which campaign was most succesful?\n",
    "\n",
    "You probably realized that there seems to have been some campaigns to promote the page. They apparently have different internal IDs. Which one was most succesful?\n"
   ]
  },
  {
   "cell_type": "code",
   "execution_count": null,
   "id": "c66ffb3e-4e79-4f9a-9b43-e8de3d807739",
   "metadata": {},
   "outputs": [],
   "source": []
  },
  {
   "cell_type": "markdown",
   "id": "1537307e",
   "metadata": {},
   "source": [
    "# Challenge 2\n",
    "\n",
    "Below, you find a (fictive) dictionary called `visited_products`. The keys are unique vistior IDs in the form of hashs (a hash is a one-way function: you can convert an email-address to a hash, but you cannot go back -- a very important technique to protect someone's privacy). The values denote the products in a web shop that the users have clicked on. As you see, unfortunately, the data type is mixed depending on whether they visited one or more product pages.\n"
   ]
  },
  {
   "cell_type": "code",
   "execution_count": 4,
   "id": "54cf40de",
   "metadata": {},
   "outputs": [],
   "source": [
    "visited_products = {'ae5efe74061d4048964216c70f3a418c': 67,\n",
    "              '65241d7b66974fc798f307383c4714e8': [45,187,44],\n",
    "              '7f1de8287e184071840c8744cfcc8780': [32,48,312],\n",
    "              'c4681ec57db14d88b27a34560fe4d6ad': 453,\n",
    "              '4db40286540a48a1bdc73621e9ae699d': [67,89,46,90,104],\n",
    "              '7af0f5fd5b8d4025a9c86e1857f495f7': [34,89,135,104,106],\n",
    "              '49482fdca3db43d295f7d5b89e4a654e': [23,78,156,189,143,187],\n",
    "              'cba7ba80d78c4406b18ad97d59792d7d': 8,\n",
    "              '0a27e7eb71494802a4862a6b01aefe2c': [34,65,18,22],\n",
    "              '37a56050f11241778ef182afe5a58843': [56,87],\n",
    "              '1a18d1f7940f484b9d04f223930dfb4f': [76,98,106,125,356],\n",
    "              '483bd2d270134f4c96b128217b712b35': 45,\n",
    "              'ea5f7ddfc91945fc96b8b15c9f4a26b4': [76,109,45,22]}"
   ]
  },
  {
   "cell_type": "markdown",
   "id": "a8064348-c310-492f-8fd0-76cd08e71032",
   "metadata": {},
   "source": [
    "### 2.1 Analyze the data\n",
    "- Write a function that calculates how many products someone visited.\n",
    "- Apply the function to the whole dictionary either by looping of its `.items()` or by  using a dictionary comprehension."
   ]
  },
  {
   "cell_type": "code",
   "execution_count": 9,
   "id": "a00592b7-aeca-4b3d-b116-efec944efabc",
   "metadata": {},
   "outputs": [
    {
     "data": {
      "text/plain": [
       "{'ae5efe74061d4048964216c70f3a418c': 1,\n",
       " '65241d7b66974fc798f307383c4714e8': 3,\n",
       " '7f1de8287e184071840c8744cfcc8780': 3,\n",
       " 'c4681ec57db14d88b27a34560fe4d6ad': 1,\n",
       " '4db40286540a48a1bdc73621e9ae699d': 5,\n",
       " '7af0f5fd5b8d4025a9c86e1857f495f7': 5,\n",
       " '49482fdca3db43d295f7d5b89e4a654e': 6,\n",
       " 'cba7ba80d78c4406b18ad97d59792d7d': 1,\n",
       " '0a27e7eb71494802a4862a6b01aefe2c': 4,\n",
       " '37a56050f11241778ef182afe5a58843': 2,\n",
       " '1a18d1f7940f484b9d04f223930dfb4f': 5,\n",
       " '483bd2d270134f4c96b128217b712b35': 1,\n",
       " 'ea5f7ddfc91945fc96b8b15c9f4a26b4': 4}"
      ]
     },
     "execution_count": 9,
     "metadata": {},
     "output_type": "execute_result"
    }
   ],
   "source": [
    "# defining the function\n",
    "\n",
    "def product_counter(x):\n",
    "    if type(x) is int:\n",
    "        return 1\n",
    "    elif type(x) is list:\n",
    "        return (len(x))\n",
    "    else:\n",
    "        return \"unknown\"\n",
    "\n",
    "\n",
    "number_product = {k: product_counter(v) for k,v in visited_products.items() }\n",
    "number_product\n"
   ]
  },
  {
   "cell_type": "markdown",
   "id": "fdc3feb7-f9fc-44cd-bba5-c285a7be96f7",
   "metadata": {},
   "source": [
    "\n",
    "### 2.2 Clean up the data\n",
    "- Of course, you could also say that the data structure could be cleaned up in such a way that it is not necessary any more to support multiple data types. Write a function to perform this cleanup!\n"
   ]
  },
  {
   "cell_type": "code",
   "execution_count": 15,
   "id": "d5ca5840-35be-4649-837e-da9388b1a1f0",
   "metadata": {},
   "outputs": [
    {
     "name": "stdout",
     "output_type": "stream",
     "text": [
      "{'ae5efe74061d4048964216c70f3a418c': [67], '65241d7b66974fc798f307383c4714e8': [45, 187, 44], '7f1de8287e184071840c8744cfcc8780': [32, 48, 312], 'c4681ec57db14d88b27a34560fe4d6ad': [453], '4db40286540a48a1bdc73621e9ae699d': [67, 89, 46, 90, 104], '7af0f5fd5b8d4025a9c86e1857f495f7': [34, 89, 135, 104, 106], '49482fdca3db43d295f7d5b89e4a654e': [23, 78, 156, 189, 143, 187], 'cba7ba80d78c4406b18ad97d59792d7d': [8], '0a27e7eb71494802a4862a6b01aefe2c': [34, 65, 18, 22], '37a56050f11241778ef182afe5a58843': [56, 87], '1a18d1f7940f484b9d04f223930dfb4f': [76, 98, 106, 125, 356], '483bd2d270134f4c96b128217b712b35': [45], 'ea5f7ddfc91945fc96b8b15c9f4a26b4': [76, 109, 45, 22]}\n",
      "   \n",
      "   \n",
      "Individual number ae5efe74061d4048964216c70f3a418c visited 1 products.\n",
      "Individual number 65241d7b66974fc798f307383c4714e8 visited 3 products.\n",
      "Individual number 7f1de8287e184071840c8744cfcc8780 visited 3 products.\n",
      "Individual number c4681ec57db14d88b27a34560fe4d6ad visited 1 products.\n",
      "Individual number 4db40286540a48a1bdc73621e9ae699d visited 5 products.\n",
      "Individual number 7af0f5fd5b8d4025a9c86e1857f495f7 visited 5 products.\n",
      "Individual number 49482fdca3db43d295f7d5b89e4a654e visited 6 products.\n",
      "Individual number cba7ba80d78c4406b18ad97d59792d7d visited 1 products.\n",
      "Individual number 0a27e7eb71494802a4862a6b01aefe2c visited 4 products.\n",
      "Individual number 37a56050f11241778ef182afe5a58843 visited 2 products.\n",
      "Individual number 1a18d1f7940f484b9d04f223930dfb4f visited 5 products.\n",
      "Individual number 483bd2d270134f4c96b128217b712b35 visited 1 products.\n",
      "Individual number ea5f7ddfc91945fc96b8b15c9f4a26b4 visited 4 products.\n"
     ]
    }
   ],
   "source": [
    "def onedata(x):\n",
    "    if type(x) is list:\n",
    "        return x\n",
    "    else:\n",
    "        return [x]\n",
    "\n",
    "number_product = {k: onedata(v) for k,v in visited_products.items() }\n",
    "print(number_product)\n",
    "print(\"   \")\n",
    "number_product\n",
    "print(\"   \")\n",
    "\n",
    "for k,v in number_product.items():\n",
    "    print(\"Individual number\", k, \"visited\", len(v), \"products.\")\n",
    "\n",
    "# try the opposite: make everything an int instead!"
   ]
  },
  {
   "cell_type": "markdown",
   "id": "9041e249-8f7e-4d12-a8e3-1ecf7ef47712",
   "metadata": {},
   "source": [
    "### 2.3 Support messy data\n",
    "- Let's take a step back and assume that the data are even messier than assumed (they are in `visited_products2`). Adapt your previous code(s) such that also this would be supported.\n",
    "\n",
    "For each question, provide the necessary code and a short explanation of the choices you made."
   ]
  },
  {
   "cell_type": "code",
   "execution_count": 16,
   "id": "e4d0de5f",
   "metadata": {},
   "outputs": [],
   "source": [
    "visited_products2 = {'ae5efe74061d4048964216c70f3a418c': 67,\n",
    "              '65241d7b66974fc798f307383c4714e8': 'ERROR',\n",
    "              '7f1de8287e184071840c8744cfcc8780': [32,48,312],\n",
    "              'c4681ec57db14d88b27a34560fe4d6ad': 453,\n",
    "              '4db40286540a48a1bdc73621e9ae699d': [67,89,46,90,104],\n",
    "              '7af0f5fd5b8d4025a9c86e1857f495f7': [34,89,135,104,106],\n",
    "              '49482fdca3db43d295f7d5b89e4a654e': [23,78,156,189,143,187],\n",
    "              'cba7ba80d78c4406b18ad97d59792d7d': 8,\n",
    "              '0a27e7eb71494802a4862a6b01aefe2c': [34,65,18,22],\n",
    "              '37a56050f11241778ef182afe5a58843': [56,87],\n",
    "              '1a18d1f7940f484b9d04f223930dfb4f': 'ERROR',\n",
    "              '483bd2d270134f4c96b128217b712b35': 45,\n",
    "              'ea5f7ddfc91945fc96b8b15c9f4a26b4': [76,109,45,22]}"
   ]
  },
  {
   "cell_type": "code",
   "execution_count": 19,
   "id": "aa50e98c",
   "metadata": {},
   "outputs": [
    {
     "data": {
      "text/plain": [
       "{'ae5efe74061d4048964216c70f3a418c': 1,\n",
       " '65241d7b66974fc798f307383c4714e8': 'There is an error',\n",
       " '7f1de8287e184071840c8744cfcc8780': 3,\n",
       " 'c4681ec57db14d88b27a34560fe4d6ad': 1,\n",
       " '4db40286540a48a1bdc73621e9ae699d': 5,\n",
       " '7af0f5fd5b8d4025a9c86e1857f495f7': 5,\n",
       " '49482fdca3db43d295f7d5b89e4a654e': 6,\n",
       " 'cba7ba80d78c4406b18ad97d59792d7d': 1,\n",
       " '0a27e7eb71494802a4862a6b01aefe2c': 4,\n",
       " '37a56050f11241778ef182afe5a58843': 2,\n",
       " '1a18d1f7940f484b9d04f223930dfb4f': 'There is an error',\n",
       " '483bd2d270134f4c96b128217b712b35': 1,\n",
       " 'ea5f7ddfc91945fc96b8b15c9f4a26b4': 4}"
      ]
     },
     "execution_count": 19,
     "metadata": {},
     "output_type": "execute_result"
    }
   ],
   "source": [
    "\n",
    "def product_counter(x):\n",
    "    if type(x) is int:\n",
    "        return 1\n",
    "    elif type(x) is list:\n",
    "        return (len(x))\n",
    "    elif x=='ERROR':\n",
    "        return \"There is an error\"\n",
    "    else:\n",
    "        return \"unknown data type\"\n",
    "\n",
    "\n",
    "number_product = {k: product_counter(v) for k,v in visited_products2.items() }\n",
    "number_product"
   ]
  },
  {
   "cell_type": "code",
   "execution_count": null,
   "id": "811030a4-336b-4c1f-a216-e0f9e96aadc7",
   "metadata": {},
   "outputs": [],
   "source": []
  }
 ],
 "metadata": {
  "kernelspec": {
   "display_name": "Python 3 (ipykernel)",
   "language": "python",
   "name": "python3"
  },
  "language_info": {
   "codemirror_mode": {
    "name": "ipython",
    "version": 3
   },
   "file_extension": ".py",
   "mimetype": "text/x-python",
   "name": "python",
   "nbconvert_exporter": "python",
   "pygments_lexer": "ipython3",
   "version": "3.12.6"
  }
 },
 "nbformat": 4,
 "nbformat_minor": 5
}
