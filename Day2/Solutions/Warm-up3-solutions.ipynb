{
 "cells": [
  {
   "cell_type": "markdown",
   "id": "green-scottish",
   "metadata": {},
   "source": [
    "# Warm-up excercise 3"
   ]
  },
  {
   "cell_type": "markdown",
   "id": "defensive-mitchell",
   "metadata": {},
   "source": [
    "Now that we've seen how Python and Jupyter Notebooks work and that you have read about Computational Communication Science, it's time for you to combine apply this knowledge. To prepare for the workshop, we ask you to complete two warm-up excercises.\n",
    "\n",
    "\n",
    "Some important notes for the excercises:\n",
    "\n",
    "* These excercises are a warming up meant to help you get ready for class. Make sure to give them a try on all of them. If you get an error message, try to troubleshoot it (using Google often helps). If all else fails, go to the next excercise (but make sure to hand it in).\n",
    "* As these excercises are meant to help you participate in the workshop and us to make sure you can get as much as possible from the tutorials, we do not expect perfect answers. However, this is important to show the effort you have put in the excercises and what obstacles you faced."
   ]
  },
  {
   "cell_type": "markdown",
   "id": "current-brook",
   "metadata": {},
   "source": [
    "# Excercise 3.1\n",
    "\n",
    "`grades_exam1` is a list of grades students in one group recieved for their assignment.  \n",
    "* Use built-in functions of Pyhton to caclucate average grade *Tip: Not sure what function to use? Google is your best friend!*\n",
    "* Write a function that checks if a student passed (got at least 5.5). Make sure that the grades are in the right format in the function.\n",
    "* *Extra: The second list `grades_exam2`contains grades from the second exam the students have taken. Here however some students were absent and hence do not have a grade. Improve your function so that it takes it into account.*"
   ]
  },
  {
   "cell_type": "code",
   "execution_count": 3,
   "id": "governmental-thesis",
   "metadata": {},
   "outputs": [],
   "source": [
    "grades_exam1 = [4.5,6,7,8,8,7.5,6.5,6,9,7,8,7.5,6.5,5.5,6,4.5,3,8,7.5,7,3.5,9,7,6.5]"
   ]
  },
  {
   "cell_type": "code",
   "execution_count": 6,
   "id": "appropriate-dictionary",
   "metadata": {},
   "outputs": [
    {
     "name": "stdout",
     "output_type": "stream",
     "text": [
      "6.625\n"
     ]
    }
   ],
   "source": [
    "average = sum(grades_exam1)/len(grades_exam1)\n",
    "\n",
    "print(average)\n",
    "\n",
    "# the code in this answer is based on the info provided here: https://www.geeksforgeeks.org/find-average-list-python/"
   ]
  },
  {
   "cell_type": "code",
   "execution_count": 12,
   "id": "227673de-e0d2-4a67-8667-eb725320edb2",
   "metadata": {},
   "outputs": [
    {
     "name": "stdout",
     "output_type": "stream",
     "text": [
      "Oh noo, the student failed... 4.5\n",
      "Yeah, the student passed! 6\n",
      "Yeah, the student passed! 7\n",
      "Yeah, the student passed! 8\n",
      "Yeah, the student passed! 8\n",
      "Yeah, the student passed! 7.5\n",
      "Yeah, the student passed! 6.5\n",
      "Yeah, the student passed! 6\n",
      "Yeah, the student passed! 9\n",
      "Yeah, the student passed! 7\n",
      "Yeah, the student passed! 8\n",
      "Yeah, the student passed! 7.5\n",
      "Yeah, the student passed! 6.5\n",
      "Yeah, the student passed! 5.5\n",
      "Yeah, the student passed! 6\n",
      "Oh noo, the student failed... 4.5\n",
      "Oh noo, the student failed... 3\n",
      "Yeah, the student passed! 8\n",
      "Yeah, the student passed! 7.5\n",
      "Yeah, the student passed! 7\n",
      "Oh noo, the student failed... 3.5\n",
      "Yeah, the student passed! 9\n",
      "Yeah, the student passed! 7\n",
      "Yeah, the student passed! 6.5\n"
     ]
    }
   ],
   "source": [
    "\n",
    "def passing(grade):\n",
    "    if grade > 5.4:\n",
    "        print(\"Yeah, the student passed!\", grade)\n",
    "\n",
    "    else:\n",
    "        print(\"Oh noo, the student failed...\", grade)\n",
    "\n",
    "for grade in grades_exam1:\n",
    "    passing(grade)"
   ]
  },
  {
   "cell_type": "code",
   "execution_count": 13,
   "id": "cardiac-resolution",
   "metadata": {},
   "outputs": [],
   "source": [
    "grades_exam2 = [3.5,6,\"Absent\",8,9,7.5,4.5,6,9,7,7.5,7,\"Absent\",5.5,6.5,6,3,8,7.5,7,5.5,8,7,8]"
   ]
  },
  {
   "cell_type": "code",
   "execution_count": 15,
   "id": "preceding-supervisor",
   "metadata": {},
   "outputs": [
    {
     "name": "stdout",
     "output_type": "stream",
     "text": [
      "Oh noo, the student failed... 3.5\n",
      "Yeah, the student passed! 6\n",
      "Oh noo, the student failed... Absent\n",
      "Yeah, the student passed! 8\n",
      "Yeah, the student passed! 9\n",
      "Yeah, the student passed! 7.5\n",
      "Oh noo, the student failed... 4.5\n",
      "Yeah, the student passed! 6\n",
      "Yeah, the student passed! 9\n",
      "Yeah, the student passed! 7\n",
      "Yeah, the student passed! 7.5\n",
      "Yeah, the student passed! 7\n",
      "Oh noo, the student failed... Absent\n",
      "Yeah, the student passed! 5.5\n",
      "Yeah, the student passed! 6.5\n",
      "Yeah, the student passed! 6\n",
      "Oh noo, the student failed... 3\n",
      "Yeah, the student passed! 8\n",
      "Yeah, the student passed! 7.5\n",
      "Yeah, the student passed! 7\n",
      "Yeah, the student passed! 5.5\n",
      "Yeah, the student passed! 8\n",
      "Yeah, the student passed! 7\n",
      "Yeah, the student passed! 8\n"
     ]
    }
   ],
   "source": [
    "def passing(grade):\n",
    "    if type(grade) == str:\n",
    "        print(\"Oh noo, the student failed...\", grade)\n",
    "    else:\n",
    "        if grade > 5.4:\n",
    "            print(\"Yeah, the student passed!\", grade)\n",
    "\n",
    "        else:\n",
    "            print(\"Oh noo, the student failed...\", grade)\n",
    "\n",
    "for grade in grades_exam2:\n",
    "    passing(grade)\n",
    "\n",
    "# this works, but it has a loop in a loop -- not so pretty/nice for your head"
   ]
  },
  {
   "cell_type": "code",
   "execution_count": 16,
   "id": "844661f3-7f5e-4efc-8208-48582b065526",
   "metadata": {},
   "outputs": [
    {
     "name": "stdout",
     "output_type": "stream",
     "text": [
      "Oh noo, the student failed... 3.5\n",
      "Yeah, the student passed! 6\n",
      "Oh noo, the student failed... Absent\n",
      "Yeah, the student passed! 8\n",
      "Yeah, the student passed! 9\n",
      "Yeah, the student passed! 7.5\n",
      "Oh noo, the student failed... 4.5\n",
      "Yeah, the student passed! 6\n",
      "Yeah, the student passed! 9\n",
      "Yeah, the student passed! 7\n",
      "Yeah, the student passed! 7.5\n",
      "Yeah, the student passed! 7\n",
      "Oh noo, the student failed... Absent\n",
      "Yeah, the student passed! 5.5\n",
      "Yeah, the student passed! 6.5\n",
      "Yeah, the student passed! 6\n",
      "Oh noo, the student failed... 3\n",
      "Yeah, the student passed! 8\n",
      "Yeah, the student passed! 7.5\n",
      "Yeah, the student passed! 7\n",
      "Yeah, the student passed! 5.5\n",
      "Yeah, the student passed! 8\n",
      "Yeah, the student passed! 7\n",
      "Yeah, the student passed! 8\n"
     ]
    }
   ],
   "source": [
    "def passing(grade):\n",
    "    if type(grade) == str:\n",
    "        print(\"Oh noo, the student failed...\", grade)\n",
    "    elif grade > 5.4:\n",
    "        print(\"Yeah, the student passed!\", grade)\n",
    "    else:\n",
    "        print(\"Oh noo, the student failed...\", grade)\n",
    "\n",
    "for grade in grades_exam2:\n",
    "    passing(grade)\n",
    "\n",
    "# this also works and has just one loop -- nicer for your brain!"
   ]
  },
  {
   "cell_type": "markdown",
   "id": "surface-accused",
   "metadata": {},
   "source": [
    "# Excercise 3.2\n",
    "\n",
    "Below, you can find a list of ratings given to a restaurant on TripAdvisor. You are the owner of the restaurant and you want to know what the average rating was. You have written the code below, but it doesn't work. Adjust the code to caluclate the average rating.\n",
    "\n",
    "*Do not adjust the list manually, but use appropriate code.*"
   ]
  },
  {
   "cell_type": "code",
   "execution_count": 17,
   "id": "muslim-joining",
   "metadata": {},
   "outputs": [],
   "source": [
    "ratings = [7,8,5,6,9,4,3,7,2,7,9,4,7,5,7,6,2,7,8,9,5,4,6,4,5,'7',8,9,7,7,8,6,7,7,5,3,7,6,4,9,7,8,5,1,5,8,7,5,6,7,9,8,'9',7,6,5,6,7,7,8,5,6,9,4,3,7,2,7,9,4,7,5,7,6,2,7,8,9,5,4,6,4,5,'6',8,9,7,7,8,6,7,8,5,3,7,6,4,9,7,8,5,1,7,8,7,5,5,7,9,8,'8',7,6,5,6,7, 7,8,5,6,9,4,3,7,2,7,9,4,7,5,7,6,2,7,8,9,6,4,6,4,5,'4',8,9,7,7,8,5,7,7,5,3,7,5,9,6,8,5,1,5,7,8,5,6,7,9,8,'6',7,6,5,6,7]"
   ]
  },
  {
   "cell_type": "code",
   "execution_count": 18,
   "id": "increased-given",
   "metadata": {},
   "outputs": [
    {
     "ename": "NameError",
     "evalue": "name 'rating' is not defined",
     "output_type": "error",
     "traceback": [
      "\u001b[0;31m---------------------------------------------------------------------------\u001b[0m",
      "\u001b[0;31mNameError\u001b[0m                                 Traceback (most recent call last)",
      "Cell \u001b[0;32mIn[18], line 1\u001b[0m\n\u001b[0;32m----> 1\u001b[0m avg \u001b[38;5;241m=\u001b[39m \u001b[38;5;28msum\u001b[39m(\u001b[43mrating\u001b[49m)\u001b[38;5;241m/\u001b[39m\u001b[38;5;28mlen\u001b[39m(rating)\n",
      "\u001b[0;31mNameError\u001b[0m: name 'rating' is not defined"
     ]
    }
   ],
   "source": [
    "avg = sum(rating)/len(rating)"
   ]
  },
  {
   "cell_type": "code",
   "execution_count": 19,
   "id": "smooth-particle",
   "metadata": {},
   "outputs": [
    {
     "ename": "TypeError",
     "evalue": "unsupported operand type(s) for +: 'int' and 'str'",
     "output_type": "error",
     "traceback": [
      "\u001b[0;31m---------------------------------------------------------------------------\u001b[0m",
      "\u001b[0;31mTypeError\u001b[0m                                 Traceback (most recent call last)",
      "Cell \u001b[0;32mIn[19], line 1\u001b[0m\n\u001b[0;32m----> 1\u001b[0m avg \u001b[38;5;241m=\u001b[39m \u001b[38;5;28;43msum\u001b[39;49m\u001b[43m(\u001b[49m\u001b[43mratings\u001b[49m\u001b[43m)\u001b[49m\u001b[38;5;241m/\u001b[39m\u001b[38;5;28mlen\u001b[39m(ratings)\n",
      "\u001b[0;31mTypeError\u001b[0m: unsupported operand type(s) for +: 'int' and 'str'"
     ]
    }
   ],
   "source": [
    "avg = sum(ratings)/len(ratings)"
   ]
  },
  {
   "cell_type": "code",
   "execution_count": 23,
   "id": "0ed8759f-3122-4a4b-aa68-2b3fd713c019",
   "metadata": {},
   "outputs": [
    {
     "name": "stdout",
     "output_type": "stream",
     "text": [
      "[5.0, 4.0, 6.0, 4.0, 5.0, 7.0, 8.0, 9.0, 7.0, 7.0, 8.0, 6.0, 7.0, 7.0, 5.0, 3.0, 7.0, 6.0, 4.0, 9.0, 7.0, 8.0, 5.0, 1.0, 5.0, 8.0, 7.0, 5.0, 6.0, 7.0, 9.0, 8.0, 9.0, 7.0, 6.0, 5.0, 6.0, 7.0, 7.0, 8.0, 5.0, 6.0, 9.0, 4.0, 3.0, 7.0, 2.0, 7.0, 9.0, 4.0, 7.0, 5.0, 7.0, 6.0, 2.0, 7.0, 8.0, 9.0, 5.0, 4.0, 6.0, 4.0, 5.0, 6.0, 8.0, 9.0, 7.0, 7.0, 8.0, 6.0, 7.0, 8.0, 5.0, 3.0, 7.0, 6.0, 4.0, 9.0, 7.0, 8.0, 5.0, 1.0, 7.0, 8.0, 7.0, 5.0, 5.0, 7.0, 9.0, 8.0, 8.0, 7.0, 6.0, 5.0, 6.0, 7.0, 7.0, 8.0, 5.0, 6.0, 9.0, 4.0, 3.0, 7.0, 2.0, 7.0, 9.0, 4.0, 7.0, 5.0, 7.0, 6.0, 2.0, 7.0, 8.0, 9.0, 6.0, 4.0, 6.0, 4.0, 5.0, 4.0, 8.0, 9.0, 7.0, 7.0, 8.0, 5.0, 7.0, 7.0, 5.0, 3.0, 7.0, 5.0, 9.0, 6.0, 8.0, 5.0, 1.0, 5.0, 7.0, 8.0, 5.0, 6.0, 7.0, 9.0, 8.0, 6.0, 7.0, 6.0, 5.0, 6.0, 7.0]\n"
     ]
    }
   ],
   "source": [
    "new_ratings = []\n",
    "\n",
    "for rate in ratings:\n",
    "    floaty = float(rate)\n",
    "    new_ratings.append(floaty)\n",
    "\n",
    "print(new_ratings[20:])"
   ]
  },
  {
   "cell_type": "code",
   "execution_count": 24,
   "id": "4d2554bd-6516-4b5f-b425-abeb6f5a3af9",
   "metadata": {},
   "outputs": [
    {
     "name": "stdout",
     "output_type": "stream",
     "text": [
      "6.208092485549133\n"
     ]
    }
   ],
   "source": [
    "avg = sum(new_ratings)/len(new_ratings)\n",
    "\n",
    "print(avg)"
   ]
  },
  {
   "cell_type": "code",
   "execution_count": null,
   "id": "c4c73ae4-1396-4d20-8abb-87c69ae68895",
   "metadata": {},
   "outputs": [],
   "source": []
  }
 ],
 "metadata": {
  "kernelspec": {
   "display_name": "Python 3 (ipykernel)",
   "language": "python",
   "name": "python3"
  },
  "language_info": {
   "codemirror_mode": {
    "name": "ipython",
    "version": 3
   },
   "file_extension": ".py",
   "mimetype": "text/x-python",
   "name": "python",
   "nbconvert_exporter": "python",
   "pygments_lexer": "ipython3",
   "version": "3.12.6"
  }
 },
 "nbformat": 4,
 "nbformat_minor": 5
}
