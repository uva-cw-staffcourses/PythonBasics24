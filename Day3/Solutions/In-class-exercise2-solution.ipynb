{
 "cells": [
  {
   "cell_type": "markdown",
   "id": "5e294572-6f27-449f-b9ab-405cdf4ea4f5",
   "metadata": {},
   "source": [
    "## In-class exercise 2: Solution\n",
    "The dataset example_tweets.json is the json response returned from the Twitter API. This is a data collected using the keyword search surveillance - tweets that include this keyword are included in the dataset. On [this website](https://developer.twitter.com/en/docs/twitter-api/v1/data-dictionary/object-model/tweet) you can find the documentation of the API and the columns it returns. In this challenge, you will explore this data and identify possible privacy and ethical issues with it."
   ]
  },
  {
   "cell_type": "markdown",
   "id": "136fd627-3d73-48f8-9c3e-43d0d3ee3c0e",
   "metadata": {},
   "source": [
    "#### Question 1\n",
    "Use pandas to load this data into a dataframe."
   ]
  },
  {
   "cell_type": "code",
   "execution_count": 1,
   "id": "7cbd9336-31f1-4db0-b40e-e06f735b1f9e",
   "metadata": {},
   "outputs": [],
   "source": [
    "#load the data\n",
    "import pandas as pd\n",
    "data = pd.read_json(\"example_tweets.json\")"
   ]
  },
  {
   "cell_type": "markdown",
   "id": "33c27c5e-09ed-4311-8cd8-f165f512a902",
   "metadata": {},
   "source": [
    "#### Question 2\n",
    "Explore this dataset using the skills you have learned in the class. Make sure to check how the dataset looks like, what columns it has, what data type these columns have and if there are any missing values. Write a short description of the dataset and the remaining questions of this exercise."
   ]
  },
  {
   "cell_type": "code",
   "execution_count": 2,
   "id": "4a79e4c5-ee3e-45a6-b8b8-8eb5b1f9599a",
   "metadata": {},
   "outputs": [
    {
     "data": {
      "text/plain": [
       "created_at                   datetime64[ns]\n",
       "id                                    int64\n",
       "id_str                                int64\n",
       "full_text                            object\n",
       "truncated                              bool\n",
       "display_text_range                   object\n",
       "entities                             object\n",
       "metadata                             object\n",
       "source                               object\n",
       "in_reply_to_status_id               float64\n",
       "in_reply_to_status_id_str           float64\n",
       "in_reply_to_user_id                 float64\n",
       "in_reply_to_user_id_str             float64\n",
       "in_reply_to_screen_name              object\n",
       "user                                 object\n",
       "geo                                 float64\n",
       "coordinates                         float64\n",
       "place                                object\n",
       "contributors                        float64\n",
       "retweeted_status                     object\n",
       "is_quote_status                        bool\n",
       "quoted_status_id                    float64\n",
       "quoted_status_id_str                float64\n",
       "retweet_count                         int64\n",
       "favorite_count                        int64\n",
       "favorited                              bool\n",
       "retweeted                              bool\n",
       "lang                                 object\n",
       "quoted_status                        object\n",
       "possibly_sensitive                  float64\n",
       "extended_entities                    object\n",
       "withheld_in_countries                object\n",
       "dtype: object"
      ]
     },
     "execution_count": 2,
     "metadata": {},
     "output_type": "execute_result"
    }
   ],
   "source": [
    "data.dtypes"
   ]
  },
  {
   "cell_type": "code",
   "execution_count": 3,
   "id": "36d35efb-0571-4a81-ac3e-91d131a9c658",
   "metadata": {},
   "outputs": [
    {
     "data": {
      "text/plain": [
       "Index(['created_at', 'id', 'id_str', 'full_text', 'truncated',\n",
       "       'display_text_range', 'entities', 'metadata', 'source',\n",
       "       'in_reply_to_status_id', 'in_reply_to_status_id_str',\n",
       "       'in_reply_to_user_id', 'in_reply_to_user_id_str',\n",
       "       'in_reply_to_screen_name', 'user', 'geo', 'coordinates', 'place',\n",
       "       'contributors', 'retweeted_status', 'is_quote_status',\n",
       "       'quoted_status_id', 'quoted_status_id_str', 'retweet_count',\n",
       "       'favorite_count', 'favorited', 'retweeted', 'lang', 'quoted_status',\n",
       "       'possibly_sensitive', 'extended_entities', 'withheld_in_countries'],\n",
       "      dtype='object')"
      ]
     },
     "execution_count": 3,
     "metadata": {},
     "output_type": "execute_result"
    }
   ],
   "source": [
    "data.columns"
   ]
  },
  {
   "cell_type": "code",
   "execution_count": 4,
   "id": "2ffd033c-9141-468b-8100-4a62c96b9287",
   "metadata": {},
   "outputs": [
    {
     "data": {
      "text/plain": [
       "created_at                      0\n",
       "id                              0\n",
       "id_str                          0\n",
       "full_text                       0\n",
       "truncated                       0\n",
       "display_text_range              0\n",
       "entities                        0\n",
       "metadata                        0\n",
       "source                          0\n",
       "in_reply_to_status_id         885\n",
       "in_reply_to_status_id_str     885\n",
       "in_reply_to_user_id           882\n",
       "in_reply_to_user_id_str       882\n",
       "in_reply_to_screen_name       882\n",
       "user                            0\n",
       "geo                          1000\n",
       "coordinates                  1000\n",
       "place                         994\n",
       "contributors                 1000\n",
       "retweeted_status              289\n",
       "is_quote_status                 0\n",
       "quoted_status_id              920\n",
       "quoted_status_id_str          920\n",
       "retweet_count                   0\n",
       "favorite_count                  0\n",
       "favorited                       0\n",
       "retweeted                       0\n",
       "lang                            0\n",
       "quoted_status                 983\n",
       "possibly_sensitive            777\n",
       "extended_entities             911\n",
       "withheld_in_countries         999\n",
       "dtype: int64"
      ]
     },
     "execution_count": 4,
     "metadata": {},
     "output_type": "execute_result"
    }
   ],
   "source": [
    "data.isna().sum()"
   ]
  },
  {
   "cell_type": "markdown",
   "id": "4f16cbc3-3b50-4c41-99f9-697daf30dc1f",
   "metadata": {},
   "source": [
    "fter examining the dataset, I can conclude that it has 1000 rows with 32 columns, including created_at, id, etc. Some columns have many missing values (800+). However, the columns we are interested in can be worked with and are of the expected variable type."
   ]
  },
  {
   "cell_type": "markdown",
   "id": "13344a76-24a9-4ac0-b51c-dfd386180ab5",
   "metadata": {},
   "source": [
    "#### Question 3\n",
    "How many languages are the tweets in?"
   ]
  },
  {
   "cell_type": "code",
   "execution_count": 8,
   "id": "4c7d18cf-55d3-4a97-a98d-7d4e165f289c",
   "metadata": {},
   "outputs": [
    {
     "data": {
      "text/plain": [
       "lang\n",
       "en     832\n",
       "fr     109\n",
       "ca      25\n",
       "nl      11\n",
       "und      7\n",
       "es       3\n",
       "it       3\n",
       "tl       2\n",
       "in       2\n",
       "de       2\n",
       "ja       2\n",
       "hi       1\n",
       "th       1\n",
       "Name: count, dtype: int64"
      ]
     },
     "execution_count": 8,
     "metadata": {},
     "output_type": "execute_result"
    }
   ],
   "source": [
    "#how many languages question \n",
    "data[\"lang\"].value_counts()\n",
    "#English is the dominant language of the tweets, with tweets available in 13 languages. "
   ]
  },
  {
   "cell_type": "markdown",
   "id": "9edcf1ab-b9ba-4ba4-84a7-4afc9368dcab",
   "metadata": {},
   "source": [
    "#### Question 4\n",
    "How many retweets did the tweets receive on average?"
   ]
  },
  {
   "cell_type": "code",
   "execution_count": 6,
   "id": "940d530c-2d54-4c10-a2b6-fdaef054be97",
   "metadata": {},
   "outputs": [
    {
     "name": "stdout",
     "output_type": "stream",
     "text": [
      "On average, a tweet gets 417.352 retweets\n"
     ]
    }
   ],
   "source": [
    "#average number of retweets \n",
    "print(f\"On average, a tweet gets {data[\"retweet_count\"].mean()} retweets\")\n",
    "#the mean rt count is 417,352"
   ]
  },
  {
   "cell_type": "code",
   "execution_count": 7,
   "id": "031cf009-a3e2-450f-8d3f-14a162c30c11",
   "metadata": {},
   "outputs": [
    {
     "name": "stdout",
     "output_type": "stream",
     "text": [
      "417.352\n"
     ]
    }
   ],
   "source": [
    "print(data[\"retweet_count\"].mean())"
   ]
  },
  {
   "cell_type": "markdown",
   "id": "c0a29476-d7ee-4232-9637-ff67cfd52ea7",
   "metadata": {},
   "source": [
    "#### Question 5\n",
    "Is the retweets number higher or lower for tweets that contain sensitive links vs. the one's with non-sensitive and no links? Tip: check in the documentation what missing values in column possibly_sensitive mean and consider what you need to do with them."
   ]
  },
  {
   "cell_type": "code",
   "execution_count": 10,
   "id": "bbb123a7-7721-420e-b206-f486d05ce9d4",
   "metadata": {},
   "outputs": [
    {
     "name": "stderr",
     "output_type": "stream",
     "text": [
      "/var/folders/j9/9v6cy4l50_1dhlx4d1h_hcv80000gn/T/ipykernel_21731/262076273.py:2: FutureWarning: A value is trying to be set on a copy of a DataFrame or Series through chained assignment using an inplace method.\n",
      "The behavior will change in pandas 3.0. This inplace method will never work because the intermediate object on which we are setting values always behaves as a copy.\n",
      "\n",
      "For example, when doing 'df[col].method(value, inplace=True)', try using 'df.method({col: value}, inplace=True)' or df[col] = df[col].method(value) instead, to perform the operation inplace on the original object.\n",
      "\n",
      "\n",
      "  data[\"possibly_sensitive\"].fillna(0, inplace=True)\n"
     ]
    }
   ],
   "source": [
    "#Here I replace all missing values in the column possibly_sensitive with 0\n",
    "data[\"possibly_sensitive\"].fillna(0, inplace=True)"
   ]
  },
  {
   "cell_type": "markdown",
   "id": "ce2307f4-3299-4754-949d-f7ffcd313d83",
   "metadata": {},
   "source": [
    "I have checked the documentation and I can assume that a missing value in the column possibly_sensitive means that the tweet is not possibly sensitive (the authors did not fill this field in). I can hence fill in the missing values with 0. Note that this is an assumption!"
   ]
  },
  {
   "cell_type": "code",
   "execution_count": 11,
   "id": "32f41c1b-efa5-4c07-81cd-fb5a29f8a83a",
   "metadata": {},
   "outputs": [
    {
     "data": {
      "text/plain": [
       "possibly_sensitive\n",
       "0.0    420.091919\n",
       "1.0    146.100000\n",
       "Name: retweet_count, dtype: float64"
      ]
     },
     "execution_count": 11,
     "metadata": {},
     "output_type": "execute_result"
    }
   ],
   "source": [
    "#To get separate means for possibly sensitive and not sensitive tweets I use groupby. \n",
    "data.groupby(['possibly_sensitive'])['retweet_count'].mean()"
   ]
  },
  {
   "cell_type": "markdown",
   "id": "780d03e2-4d1d-4523-9f47-8bd54db34022",
   "metadata": {},
   "source": [
    "#### Question 6\n",
    "Imagine that you want to research if there is a relation between the language of the tweets and number of retweets the tweets receive. Hence, you need the columns with information on the language of the tweet (lang) and its number of retweets (retweet_count).\n",
    " - Minimize the dataset accordingly. Explain your minimization steps.\n",
    " - What other steps would you need to take to make sure that the data follows privacy protection principles discussed in the lecture? Give concrete examples based on the information available in your minimized dataset. Tip: consider what identifiable and identified information the text and user columns contain."
   ]
  },
  {
   "cell_type": "code",
   "execution_count": 26,
   "id": "702ac529-16bb-40f8-9f38-3d5ebdd1a4d7",
   "metadata": {},
   "outputs": [
    {
     "data": {
      "text/html": [
       "<div>\n",
       "<style scoped>\n",
       "    .dataframe tbody tr th:only-of-type {\n",
       "        vertical-align: middle;\n",
       "    }\n",
       "\n",
       "    .dataframe tbody tr th {\n",
       "        vertical-align: top;\n",
       "    }\n",
       "\n",
       "    .dataframe thead th {\n",
       "        text-align: right;\n",
       "    }\n",
       "</style>\n",
       "<table border=\"1\" class=\"dataframe\">\n",
       "  <thead>\n",
       "    <tr style=\"text-align: right;\">\n",
       "      <th></th>\n",
       "      <th>retweet_count</th>\n",
       "      <th>lang</th>\n",
       "    </tr>\n",
       "  </thead>\n",
       "  <tbody>\n",
       "    <tr>\n",
       "      <th>0</th>\n",
       "      <td>100</td>\n",
       "      <td>en</td>\n",
       "    </tr>\n",
       "    <tr>\n",
       "      <th>1</th>\n",
       "      <td>298</td>\n",
       "      <td>en</td>\n",
       "    </tr>\n",
       "    <tr>\n",
       "      <th>2</th>\n",
       "      <td>1</td>\n",
       "      <td>en</td>\n",
       "    </tr>\n",
       "    <tr>\n",
       "      <th>3</th>\n",
       "      <td>0</td>\n",
       "      <td>en</td>\n",
       "    </tr>\n",
       "    <tr>\n",
       "      <th>4</th>\n",
       "      <td>0</td>\n",
       "      <td>fr</td>\n",
       "    </tr>\n",
       "  </tbody>\n",
       "</table>\n",
       "</div>"
      ],
      "text/plain": [
       "   retweet_count lang\n",
       "0            100   en\n",
       "1            298   en\n",
       "2              1   en\n",
       "3              0   en\n",
       "4              0   fr"
      ]
     },
     "execution_count": 26,
     "metadata": {},
     "output_type": "execute_result"
    }
   ],
   "source": [
    "# Only keep the columns you need\n",
    "smaller_data = data[[\"retweet_count\", \"lang\"]]\n",
    "smaller_data.head()"
   ]
  },
  {
   "cell_type": "markdown",
   "id": "b906cbdb-6201-4a2b-b5eb-0a825c9cc040",
   "metadata": {},
   "source": [
    "Note: If we were to share this data, we would have to be careful with the user and full_text columns since both can contain identifying information both for the poster and for other Twitter users which may or may not be in our dataset."
   ]
  },
  {
   "cell_type": "markdown",
   "id": "ed339296-3292-43c6-b409-c5b6238b92b9",
   "metadata": {},
   "source": [
    "#### Question 7\n",
    "Can you visualize the relationship between the language of a tweet and the number of times a tweet was retweeted? "
   ]
  },
  {
   "cell_type": "code",
   "execution_count": 27,
   "id": "c8459786-acc3-49ac-a515-48228beb89b5",
   "metadata": {},
   "outputs": [
    {
     "data": {
      "image/png": "[encoded data removed]",
      "text/plain": [
       "<Figure size 640x480 with 1 Axes>"
      ]
     },
     "metadata": {},
     "output_type": "display_data"
    }
   ],
   "source": [
    "import matplotlib.pyplot as plt\n",
    "\n",
    "data[\"lang\"].value_counts().plot(kind=\"bar\")\n",
    "plt.show()"
   ]
  },
  {
   "cell_type": "code",
   "execution_count": null,
   "id": "fd663d3d-20f6-4567-afc6-b57fbaafafd1",
   "metadata": {},
   "outputs": [],
   "source": []
  }
 ],
 "metadata": {
  "kernelspec": {
   "display_name": "Python 3 (ipykernel)",
   "language": "python",
   "name": "python3"
  },
  "language_info": {
   "codemirror_mode": {
    "name": "ipython",
    "version": 3
   },
   "file_extension": ".py",
   "mimetype": "text/x-python",
   "name": "python",
   "nbconvert_exporter": "python",
   "pygments_lexer": "ipython3",
   "version": "3.12.6"
  }
 },
 "nbformat": 4,
 "nbformat_minor": 5
}
