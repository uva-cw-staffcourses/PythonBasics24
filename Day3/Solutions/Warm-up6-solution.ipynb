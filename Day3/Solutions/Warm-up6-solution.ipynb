{
 "cells": [
  {
   "cell_type": "markdown",
   "id": "nutritional-converter",
   "metadata": {},
   "source": [
    "# Warm-up excercise 6\n",
    "\n",
    "Now that you have seen how to communicate with basic APIs and working with text, it's time for you to combine apply this knowledge. To prepare for the meeting, we ask you to complete two warm-up excercises.\n",
    "\n",
    "\n",
    "Some important notes for the excercises:\n",
    "\n",
    "* These excercises are a warming up meant to help you get ready for the meeting. Make sure to give them a try on all of them. If you get an error message, try to troubleshoot it (using Google often helps). If all else fails, go to the next excercise.\n",
    "* As these excercises are meant to help you participate in the workshop and us to make sure you can get as much as possible from the meetings, we do not expect perfect answers. However, this is important to show the effort you have put in the excercises and what obstacles you faced."
   ]
  },
  {
   "cell_type": "markdown",
   "id": "supposed-priest",
   "metadata": {},
   "source": [
    "# Excercise 1\n",
    "\n",
    "For this question, we use the Catfacts API (https://catfact.ninja/fact). This API returns (random) facts about cats. \n",
    "\n",
    "Using the examples of chapter 12.1 (example 21.1) of the book by [Van Atteveldt et al., 2022](https://cssbook.net/content/chapter12.html), try to retrieve one cat fact from this API."
   ]
  },
  {
   "cell_type": "code",
   "execution_count": 4,
   "id": "76beae0b-ce6f-4e60-a7c1-72d3cde8e111",
   "metadata": {},
   "outputs": [
    {
     "name": "stdout",
     "output_type": "stream",
     "text": [
      "{'fact': 'The first cat in space was a French cat named Felicette (a.k.a. “Astrocat”) In 1963, France blasted the cat into outer space. Electrodes implanted in her brains sent neurological signals back to Earth. She survived the trip.', 'length': 224}\n"
     ]
    }
   ],
   "source": [
    "import requests\n",
    "\n",
    "r = requests.get(\"https://catfact.ninja/fact\")\n",
    "data = r.json()\n",
    "print(data) "
   ]
  },
  {
   "cell_type": "markdown",
   "id": "537b1479-938a-4799-96ff-3f3776c11a30",
   "metadata": {},
   "source": [
    "# Excercise 2\n",
    "\n",
    "Can you now create a loop that retrieves 10 facts from the Catfacts API? "
   ]
  },
  {
   "cell_type": "code",
   "execution_count": 14,
   "id": "d47bbe2b-60f6-4826-8237-beab645e002b",
   "metadata": {},
   "outputs": [
    {
     "name": "stdout",
     "output_type": "stream",
     "text": [
      "Cat's urine glows under a black light.\n"
     ]
    }
   ],
   "source": [
    "fact_list = []\n",
    "\n",
    "for i in range(1,10):\n",
    "    a_fact = requests.get(\"https://catfact.ninja/fact\")\n",
    "    data = a_fact.json()\n",
    "    fact_list.append(data['fact']) # note that I only keep the facts, I do not append the whole dict\n",
    "\n",
    "# print the 3rd fact that we gathered\n",
    "print(fact_list[2])\n"
   ]
  },
  {
   "cell_type": "markdown",
   "id": "allied-large",
   "metadata": {},
   "source": [
    "# Excercise 3\n",
    "\n",
    "Read the facts that you retrieved in exercise 2 into a dataframe. Can you do some preprocessing of the texts (e.g., lowercase, remove unnecessary characters)?"
   ]
  },
  {
   "cell_type": "code",
   "execution_count": 15,
   "id": "acaf7da5-be49-4acb-b2a4-6aa2ec6252b8",
   "metadata": {},
   "outputs": [
    {
     "name": "stdout",
     "output_type": "stream",
     "text": [
      "Cat's urine glows under a black light.\n",
      "cat's urine glows under a black light.\n"
     ]
    }
   ],
   "source": [
    "cleaned_facts = []\n",
    "\n",
    "for fact in fact_list:\n",
    "    cleaned = fact.replace(\"<b>\",\"\").replace(\"</b>\",\"\") #remove tags\n",
    "    cleaned = \" \".join(cleaned.split()) # normalize white space\n",
    "    cleaned = cleaned.lower() # lower case\n",
    "    cleaned = cleaned.strip() # trim spaces from the end and the start\n",
    "    cleaned_facts.append(cleaned)\n",
    "\n",
    "# let's compare the original fact to the cleaned one\n",
    "print(fact_list[2])\n",
    "print(cleaned_facts[2])"
   ]
  }
 ],
 "metadata": {
  "interpreter": {
   "hash": "aee8b7b246df8f9039afb4144a1f6fd8d2ca17a180786b69acc140d282b71a49"
  },
  "kernelspec": {
   "display_name": "Python 3 (ipykernel)",
   "language": "python",
   "name": "python3"
  },
  "language_info": {
   "codemirror_mode": {
    "name": "ipython",
    "version": 3
   },
   "file_extension": ".py",
   "mimetype": "text/x-python",
   "name": "python",
   "nbconvert_exporter": "python",
   "pygments_lexer": "ipython3",
   "version": "3.12.6"
  }
 },
 "nbformat": 4,
 "nbformat_minor": 5
}
