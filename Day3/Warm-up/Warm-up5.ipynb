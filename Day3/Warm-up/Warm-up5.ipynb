{
 "cells": [
  {
   "cell_type": "markdown",
   "id": "251a5552",
   "metadata": {},
   "source": [
    "# Warm-up excercise 5\n",
    "\n",
    "Now that you have seen how to conduct basic analyses and to visualise data, it's time for you to combine apply this knowledge. To prepare for the workshop, we ask you to complete two warm-up excercises.\n",
    "\n",
    "\n",
    "Some important notes for the excercises:\n",
    "\n",
    "* These excercises are a warming up meant to help you get ready for the meeting. Make sure to give them a try on all of them. If you get an error message, try to troubleshoot it (using Google often helps). If all else fails, go to the next excercise.\n",
    "* As these excercises are meant to help you participate in the workshop and us to make sure you can get as much as possible from the meetings, we do not expect perfect answers. However, this is important to show the effort you have put in the excercises and what obstacles you faced."
   ]
  },
  {
   "cell_type": "markdown",
   "id": "987c1878",
   "metadata": {},
   "source": [
    "For this excercice, we will use the dataset about customers of a company that you also worked with in an earlier warm-up exercise. There are two short excercises for you to practice data exploration and visualization.\n",
    "\n",
    "Let's start by importing the necessary packages and loading the data. "
   ]
  },
  {
   "cell_type": "code",
   "execution_count": null,
   "id": "413e028c",
   "metadata": {},
   "outputs": [],
   "source": [
    "import pandas as pd\n",
    "import matplotlib.pyplot as plt\n",
    "import seaborn as sns "
   ]
  },
  {
   "cell_type": "code",
   "execution_count": null,
   "id": "9b081da1",
   "metadata": {},
   "outputs": [],
   "source": [
    "df = pd.read_csv('marketing_campaign.csv', sep=';')"
   ]
  },
  {
   "cell_type": "markdown",
   "id": "38405b95",
   "metadata": {},
   "source": [
    "# Excercise 1\n",
    "\n",
    "0. The dataset is too large to fit your screen. Make sure you get an idea of the dataset using `.shape`, `.head()`, and `.columns`\n",
    "1. Explore the demographics of the customer base by answering the follolwing questions:\n",
    "    - What is the minimum, maximum and average age of the customers in the dataset? <br /> *Tip: you need to create a new column based on `Year_Birth`. <br /> You can actually do sth very simple like `2023-df['Year_Birth']`. You can use the resulting series directly, or assign it to a new column. (Remember? `df['new'] = ...`)\n",
    "    - What are the relative and absolute frequencies of education levels of customers in the dataset? <br /> *Tip: the same method of pandas allows you to compute relative and absolute frequencies for a column.*\n",
    "2. You want to know what type of customers file complains. Get an initial idea of the relationship between 1) education level, 2) age, and if someone has complained.\n",
    "3. Is there a correlation between one's income and number of purchases they make online and in store?"
   ]
  },
  {
   "cell_type": "code",
   "execution_count": null,
   "id": "4cfd0333",
   "metadata": {},
   "outputs": [],
   "source": []
  },
  {
   "cell_type": "markdown",
   "id": "da61d75a",
   "metadata": {},
   "source": [
    "# Excercise 2\n",
    "\n",
    "Visualize different variables in your dataset. Make sure to consider what the appropriate visualization is for each variable.\n",
    "1. Visualize age distribution of the customers.\n",
    "2. Visualize education levels of the customers.\n",
    "3. Visualize the relation between\n",
    "    * education level and if someone has complained,\n",
    "    * age and if someone has complained. \n",
    "4. Visualize the relation between one's income and number of purchases they have made online and in store. "
   ]
  },
  {
   "cell_type": "code",
   "execution_count": null,
   "id": "466e7488",
   "metadata": {},
   "outputs": [],
   "source": []
  }
 ],
 "metadata": {
  "kernelspec": {
   "display_name": "Python 3 (ipykernel)",
   "language": "python",
   "name": "python3"
  },
  "language_info": {
   "codemirror_mode": {
    "name": "ipython",
    "version": 3
   },
   "file_extension": ".py",
   "mimetype": "text/x-python",
   "name": "python",
   "nbconvert_exporter": "python",
   "pygments_lexer": "ipython3",
   "version": "3.12.6"
  }
 },
 "nbformat": 4,
 "nbformat_minor": 5
}
