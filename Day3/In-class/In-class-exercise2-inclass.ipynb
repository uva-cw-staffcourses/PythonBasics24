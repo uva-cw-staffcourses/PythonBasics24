{
 "cells": [
  {
   "cell_type": "markdown",
   "id": "5e294572-6f27-449f-b9ab-405cdf4ea4f5",
   "metadata": {},
   "source": [
    "## In-class exercise 2\n",
    "The dataset example_tweets.json is the json response returned from the Twitter API. This is a data collected using the keyword search surveillance - tweets that include this keyword are included in the dataset. On [this website](https://developer.twitter.com/en/docs/twitter-api/v1/data-dictionary/object-model/tweet) you can find the documentation of the API and the columns it returns. In this challenge, you will explore this data and identify possible privacy and ethical issues with it."
   ]
  },
  {
   "cell_type": "markdown",
   "id": "136fd627-3d73-48f8-9c3e-43d0d3ee3c0e",
   "metadata": {},
   "source": [
    "#### Question 1\n",
    "Use pandas to load this data into a dataframe."
   ]
  },
  {
   "cell_type": "code",
   "execution_count": 30,
   "id": "a2d8efad-2d58-40b7-9d41-ce7f35698b06",
   "metadata": {},
   "outputs": [],
   "source": [
    "import pandas as pd\n",
    "import matplotlib.pyplot as plt"
   ]
  },
  {
   "cell_type": "code",
   "execution_count": 3,
   "id": "6f753eb3-b8fe-47c2-923a-f1ef4b0ea7f5",
   "metadata": {},
   "outputs": [
    {
     "data": {
      "text/html": [
       "<div>\n",
       "<style scoped>\n",
       "    .dataframe tbody tr th:only-of-type {\n",
       "        vertical-align: middle;\n",
       "    }\n",
       "\n",
       "    .dataframe tbody tr th {\n",
       "        vertical-align: top;\n",
       "    }\n",
       "\n",
       "    .dataframe thead th {\n",
       "        text-align: right;\n",
       "    }\n",
       "</style>\n",
       "<table border=\"1\" class=\"dataframe\">\n",
       "  <thead>\n",
       "    <tr style=\"text-align: right;\">\n",
       "      <th></th>\n",
       "      <th>created_at</th>\n",
       "      <th>id</th>\n",
       "      <th>id_str</th>\n",
       "      <th>full_text</th>\n",
       "      <th>truncated</th>\n",
       "      <th>display_text_range</th>\n",
       "      <th>entities</th>\n",
       "      <th>metadata</th>\n",
       "      <th>source</th>\n",
       "      <th>in_reply_to_status_id</th>\n",
       "      <th>...</th>\n",
       "      <th>quoted_status_id_str</th>\n",
       "      <th>retweet_count</th>\n",
       "      <th>favorite_count</th>\n",
       "      <th>favorited</th>\n",
       "      <th>retweeted</th>\n",
       "      <th>lang</th>\n",
       "      <th>quoted_status</th>\n",
       "      <th>possibly_sensitive</th>\n",
       "      <th>extended_entities</th>\n",
       "      <th>withheld_in_countries</th>\n",
       "    </tr>\n",
       "  </thead>\n",
       "  <tbody>\n",
       "    <tr>\n",
       "      <th>0</th>\n",
       "      <td>2021-09-12 15:08:10</td>\n",
       "      <td>1437070537428066307</td>\n",
       "      <td>1437070537428066304</td>\n",
       "      <td>RT @AP: BREAKING: Iran says it will allow UN t...</td>\n",
       "      <td>False</td>\n",
       "      <td>[0, 140]</td>\n",
       "      <td>{'hashtags': [], 'symbols': [], 'user_mentions...</td>\n",
       "      <td>{'iso_language_code': 'en', 'result_type': 're...</td>\n",
       "      <td>&lt;a href=\"http://twitter.com/download/android\" ...</td>\n",
       "      <td>NaN</td>\n",
       "      <td>...</td>\n",
       "      <td>NaN</td>\n",
       "      <td>100</td>\n",
       "      <td>0</td>\n",
       "      <td>False</td>\n",
       "      <td>False</td>\n",
       "      <td>en</td>\n",
       "      <td>None</td>\n",
       "      <td>NaN</td>\n",
       "      <td>None</td>\n",
       "      <td>None</td>\n",
       "    </tr>\n",
       "    <tr>\n",
       "      <th>1</th>\n",
       "      <td>2021-09-11 21:32:49</td>\n",
       "      <td>1436804949502013442</td>\n",
       "      <td>1436804949502013440</td>\n",
       "      <td>RT @emeriticus: Bush launched murderous wars f...</td>\n",
       "      <td>False</td>\n",
       "      <td>[0, 140]</td>\n",
       "      <td>{'hashtags': [], 'symbols': [], 'user_mentions...</td>\n",
       "      <td>{'iso_language_code': 'en', 'result_type': 're...</td>\n",
       "      <td>&lt;a href=\"http://twitter.com/download/iphone\" r...</td>\n",
       "      <td>NaN</td>\n",
       "      <td>...</td>\n",
       "      <td>NaN</td>\n",
       "      <td>298</td>\n",
       "      <td>0</td>\n",
       "      <td>False</td>\n",
       "      <td>False</td>\n",
       "      <td>en</td>\n",
       "      <td>None</td>\n",
       "      <td>NaN</td>\n",
       "      <td>None</td>\n",
       "      <td>None</td>\n",
       "    </tr>\n",
       "    <tr>\n",
       "      <th>2</th>\n",
       "      <td>2021-09-13 15:52:10</td>\n",
       "      <td>1437444000403759106</td>\n",
       "      <td>1437444000403759104</td>\n",
       "      <td>RT @scroll_in: #PegasusRow \\n\\nCentre refuses ...</td>\n",
       "      <td>False</td>\n",
       "      <td>[0, 139]</td>\n",
       "      <td>{'hashtags': [{'text': 'PegasusRow', 'indices'...</td>\n",
       "      <td>{'iso_language_code': 'en', 'result_type': 're...</td>\n",
       "      <td>&lt;a href=\"http://twitter.com/download/android\" ...</td>\n",
       "      <td>NaN</td>\n",
       "      <td>...</td>\n",
       "      <td>NaN</td>\n",
       "      <td>1</td>\n",
       "      <td>0</td>\n",
       "      <td>False</td>\n",
       "      <td>False</td>\n",
       "      <td>en</td>\n",
       "      <td>None</td>\n",
       "      <td>NaN</td>\n",
       "      <td>None</td>\n",
       "      <td>None</td>\n",
       "    </tr>\n",
       "    <tr>\n",
       "      <th>3</th>\n",
       "      <td>2021-09-12 16:18:28</td>\n",
       "      <td>1437088228251635714</td>\n",
       "      <td>1437088228251635712</td>\n",
       "      <td>@mararara44 @JudahWorldChamp @kprather88 @CDCg...</td>\n",
       "      <td>False</td>\n",
       "      <td>[104, 384]</td>\n",
       "      <td>{'hashtags': [], 'symbols': [], 'user_mentions...</td>\n",
       "      <td>{'iso_language_code': 'en', 'result_type': 're...</td>\n",
       "      <td>&lt;a href=\"http://twitter.com/#!/download/ipad\" ...</td>\n",
       "      <td>1.437050e+18</td>\n",
       "      <td>...</td>\n",
       "      <td>NaN</td>\n",
       "      <td>0</td>\n",
       "      <td>0</td>\n",
       "      <td>False</td>\n",
       "      <td>False</td>\n",
       "      <td>en</td>\n",
       "      <td>None</td>\n",
       "      <td>NaN</td>\n",
       "      <td>None</td>\n",
       "      <td>None</td>\n",
       "    </tr>\n",
       "    <tr>\n",
       "      <th>4</th>\n",
       "      <td>2021-09-11 13:28:13</td>\n",
       "      <td>1436682997420417030</td>\n",
       "      <td>1436682997420417024</td>\n",
       "      <td>@CoinMarketCap financial surveillance</td>\n",
       "      <td>False</td>\n",
       "      <td>[15, 37]</td>\n",
       "      <td>{'hashtags': [], 'symbols': [], 'user_mentions...</td>\n",
       "      <td>{'iso_language_code': 'fr', 'result_type': 're...</td>\n",
       "      <td>&lt;a href=\"https://mobile.twitter.com\" rel=\"nofo...</td>\n",
       "      <td>1.436682e+18</td>\n",
       "      <td>...</td>\n",
       "      <td>NaN</td>\n",
       "      <td>0</td>\n",
       "      <td>2</td>\n",
       "      <td>False</td>\n",
       "      <td>False</td>\n",
       "      <td>fr</td>\n",
       "      <td>None</td>\n",
       "      <td>NaN</td>\n",
       "      <td>None</td>\n",
       "      <td>None</td>\n",
       "    </tr>\n",
       "  </tbody>\n",
       "</table>\n",
       "<p>5 rows × 32 columns</p>\n",
       "</div>"
      ],
      "text/plain": [
       "           created_at                   id               id_str  \\\n",
       "0 2021-09-12 15:08:10  1437070537428066307  1437070537428066304   \n",
       "1 2021-09-11 21:32:49  1436804949502013442  1436804949502013440   \n",
       "2 2021-09-13 15:52:10  1437444000403759106  1437444000403759104   \n",
       "3 2021-09-12 16:18:28  1437088228251635714  1437088228251635712   \n",
       "4 2021-09-11 13:28:13  1436682997420417030  1436682997420417024   \n",
       "\n",
       "                                           full_text  truncated  \\\n",
       "0  RT @AP: BREAKING: Iran says it will allow UN t...      False   \n",
       "1  RT @emeriticus: Bush launched murderous wars f...      False   \n",
       "2  RT @scroll_in: #PegasusRow \\n\\nCentre refuses ...      False   \n",
       "3  @mararara44 @JudahWorldChamp @kprather88 @CDCg...      False   \n",
       "4              @CoinMarketCap financial surveillance      False   \n",
       "\n",
       "  display_text_range                                           entities  \\\n",
       "0           [0, 140]  {'hashtags': [], 'symbols': [], 'user_mentions...   \n",
       "1           [0, 140]  {'hashtags': [], 'symbols': [], 'user_mentions...   \n",
       "2           [0, 139]  {'hashtags': [{'text': 'PegasusRow', 'indices'...   \n",
       "3         [104, 384]  {'hashtags': [], 'symbols': [], 'user_mentions...   \n",
       "4           [15, 37]  {'hashtags': [], 'symbols': [], 'user_mentions...   \n",
       "\n",
       "                                            metadata  \\\n",
       "0  {'iso_language_code': 'en', 'result_type': 're...   \n",
       "1  {'iso_language_code': 'en', 'result_type': 're...   \n",
       "2  {'iso_language_code': 'en', 'result_type': 're...   \n",
       "3  {'iso_language_code': 'en', 'result_type': 're...   \n",
       "4  {'iso_language_code': 'fr', 'result_type': 're...   \n",
       "\n",
       "                                              source  in_reply_to_status_id  \\\n",
       "0  <a href=\"http://twitter.com/download/android\" ...                    NaN   \n",
       "1  <a href=\"http://twitter.com/download/iphone\" r...                    NaN   \n",
       "2  <a href=\"http://twitter.com/download/android\" ...                    NaN   \n",
       "3  <a href=\"http://twitter.com/#!/download/ipad\" ...           1.437050e+18   \n",
       "4  <a href=\"https://mobile.twitter.com\" rel=\"nofo...           1.436682e+18   \n",
       "\n",
       "   ...  quoted_status_id_str  retweet_count  favorite_count favorited  \\\n",
       "0  ...                   NaN            100               0     False   \n",
       "1  ...                   NaN            298               0     False   \n",
       "2  ...                   NaN              1               0     False   \n",
       "3  ...                   NaN              0               0     False   \n",
       "4  ...                   NaN              0               2     False   \n",
       "\n",
       "  retweeted  lang  quoted_status possibly_sensitive  extended_entities  \\\n",
       "0     False    en           None                NaN               None   \n",
       "1     False    en           None                NaN               None   \n",
       "2     False    en           None                NaN               None   \n",
       "3     False    en           None                NaN               None   \n",
       "4     False    fr           None                NaN               None   \n",
       "\n",
       "  withheld_in_countries  \n",
       "0                  None  \n",
       "1                  None  \n",
       "2                  None  \n",
       "3                  None  \n",
       "4                  None  \n",
       "\n",
       "[5 rows x 32 columns]"
      ]
     },
     "execution_count": 3,
     "metadata": {},
     "output_type": "execute_result"
    }
   ],
   "source": [
    "data = pd.read_json(\"example_tweets.json\")\n",
    "data.head()"
   ]
  },
  {
   "cell_type": "markdown",
   "id": "33c27c5e-09ed-4311-8cd8-f165f512a902",
   "metadata": {},
   "source": [
    "#### Question 2\n",
    "Explore this dataset using the skills you have learned in the class. Make sure to check how the dataset looks like, what columns it has, what data type these columns have and if there are any missing values. Write a short description of the dataset and the remaining questions of this exercise."
   ]
  },
  {
   "cell_type": "code",
   "execution_count": 4,
   "id": "674e3986-0d1e-4bbb-8ae2-4bb7298260e4",
   "metadata": {},
   "outputs": [
    {
     "data": {
      "text/plain": [
       "Index(['created_at', 'id', 'id_str', 'full_text', 'truncated',\n",
       "       'display_text_range', 'entities', 'metadata', 'source',\n",
       "       'in_reply_to_status_id', 'in_reply_to_status_id_str',\n",
       "       'in_reply_to_user_id', 'in_reply_to_user_id_str',\n",
       "       'in_reply_to_screen_name', 'user', 'geo', 'coordinates', 'place',\n",
       "       'contributors', 'retweeted_status', 'is_quote_status',\n",
       "       'quoted_status_id', 'quoted_status_id_str', 'retweet_count',\n",
       "       'favorite_count', 'favorited', 'retweeted', 'lang', 'quoted_status',\n",
       "       'possibly_sensitive', 'extended_entities', 'withheld_in_countries'],\n",
       "      dtype='object')"
      ]
     },
     "execution_count": 4,
     "metadata": {},
     "output_type": "execute_result"
    }
   ],
   "source": [
    "data.columns"
   ]
  },
  {
   "cell_type": "code",
   "execution_count": 5,
   "id": "b11e307f-6bc3-4b51-b1a0-5ed63d8ce563",
   "metadata": {},
   "outputs": [
    {
     "data": {
      "text/plain": [
       "created_at                   datetime64[ns]\n",
       "id                                    int64\n",
       "id_str                                int64\n",
       "full_text                            object\n",
       "truncated                              bool\n",
       "display_text_range                   object\n",
       "entities                             object\n",
       "metadata                             object\n",
       "source                               object\n",
       "in_reply_to_status_id               float64\n",
       "in_reply_to_status_id_str           float64\n",
       "in_reply_to_user_id                 float64\n",
       "in_reply_to_user_id_str             float64\n",
       "in_reply_to_screen_name              object\n",
       "user                                 object\n",
       "geo                                 float64\n",
       "coordinates                         float64\n",
       "place                                object\n",
       "contributors                        float64\n",
       "retweeted_status                     object\n",
       "is_quote_status                        bool\n",
       "quoted_status_id                    float64\n",
       "quoted_status_id_str                float64\n",
       "retweet_count                         int64\n",
       "favorite_count                        int64\n",
       "favorited                              bool\n",
       "retweeted                              bool\n",
       "lang                                 object\n",
       "quoted_status                        object\n",
       "possibly_sensitive                  float64\n",
       "extended_entities                    object\n",
       "withheld_in_countries                object\n",
       "dtype: object"
      ]
     },
     "execution_count": 5,
     "metadata": {},
     "output_type": "execute_result"
    }
   ],
   "source": [
    "data.dtypes"
   ]
  },
  {
   "cell_type": "code",
   "execution_count": 6,
   "id": "8f8ae2b2-e7c0-4700-b5ac-5bc5ba6a3ce1",
   "metadata": {},
   "outputs": [
    {
     "data": {
      "text/plain": [
       "created_at                      0\n",
       "id                              0\n",
       "id_str                          0\n",
       "full_text                       0\n",
       "truncated                       0\n",
       "display_text_range              0\n",
       "entities                        0\n",
       "metadata                        0\n",
       "source                          0\n",
       "in_reply_to_status_id         885\n",
       "in_reply_to_status_id_str     885\n",
       "in_reply_to_user_id           882\n",
       "in_reply_to_user_id_str       882\n",
       "in_reply_to_screen_name       882\n",
       "user                            0\n",
       "geo                          1000\n",
       "coordinates                  1000\n",
       "place                         994\n",
       "contributors                 1000\n",
       "retweeted_status              289\n",
       "is_quote_status                 0\n",
       "quoted_status_id              920\n",
       "quoted_status_id_str          920\n",
       "retweet_count                   0\n",
       "favorite_count                  0\n",
       "favorited                       0\n",
       "retweeted                       0\n",
       "lang                            0\n",
       "quoted_status                 983\n",
       "possibly_sensitive            777\n",
       "extended_entities             911\n",
       "withheld_in_countries         999\n",
       "dtype: int64"
      ]
     },
     "execution_count": 6,
     "metadata": {},
     "output_type": "execute_result"
    }
   ],
   "source": [
    "data.isna().sum()"
   ]
  },
  {
   "cell_type": "markdown",
   "id": "13344a76-24a9-4ac0-b51c-dfd386180ab5",
   "metadata": {},
   "source": [
    "#### Question 3\n",
    "How many languages are the tweets in?"
   ]
  },
  {
   "cell_type": "code",
   "execution_count": 7,
   "id": "999e03ad-c5d2-4163-a9b7-7863b53dafd0",
   "metadata": {},
   "outputs": [
    {
     "data": {
      "text/plain": [
       "lang\n",
       "en     832\n",
       "fr     109\n",
       "ca      25\n",
       "nl      11\n",
       "und      7\n",
       "es       3\n",
       "it       3\n",
       "tl       2\n",
       "in       2\n",
       "de       2\n",
       "ja       2\n",
       "hi       1\n",
       "th       1\n",
       "Name: count, dtype: int64"
      ]
     },
     "execution_count": 7,
     "metadata": {},
     "output_type": "execute_result"
    }
   ],
   "source": [
    "data[\"lang\"].value_counts()"
   ]
  },
  {
   "cell_type": "code",
   "execution_count": 9,
   "id": "b7e3ed5d-eef3-4b67-9c97-58d7ccb45cb9",
   "metadata": {},
   "outputs": [
    {
     "data": {
      "text/plain": [
       "count     1000\n",
       "unique      13\n",
       "top         en\n",
       "freq       832\n",
       "Name: lang, dtype: object"
      ]
     },
     "execution_count": 9,
     "metadata": {},
     "output_type": "execute_result"
    }
   ],
   "source": [
    "# but if we use the describe function, we don't need to count the number of languages ourselves\n",
    "# the count is the total number of scores on the lang variables (makes sense, .shape shows us that there are 1000 cases)\n",
    "# the unique is the unique values on the lang variable: that is the number of languages that the tweets are written in\n",
    "\n",
    "data[\"lang\"].describe()"
   ]
  },
  {
   "cell_type": "code",
   "execution_count": 10,
   "id": "6871ad03-17a8-4b93-a1c6-1d17b1aaff0d",
   "metadata": {},
   "outputs": [
    {
     "data": {
      "text/plain": [
       "(1000, 32)"
      ]
     },
     "execution_count": 10,
     "metadata": {},
     "output_type": "execute_result"
    }
   ],
   "source": [
    "data.shape"
   ]
  },
  {
   "cell_type": "markdown",
   "id": "9edcf1ab-b9ba-4ba4-84a7-4afc9368dcab",
   "metadata": {},
   "source": [
    "#### Question 4\n",
    "How many retweets did the tweets receive on average?"
   ]
  },
  {
   "cell_type": "code",
   "execution_count": 13,
   "id": "2b30c8f7-48ba-4d42-b4c2-d90e8676114e",
   "metadata": {},
   "outputs": [
    {
     "name": "stdout",
     "output_type": "stream",
     "text": [
      "417.352\n"
     ]
    }
   ],
   "source": [
    "mean_retweets = data[\"retweet_count\"].mean()\n",
    "print(mean_retweets)"
   ]
  },
  {
   "cell_type": "markdown",
   "id": "c0a29476-d7ee-4232-9637-ff67cfd52ea7",
   "metadata": {},
   "source": [
    "#### Question 5\n",
    "Is the retweets number higher or lower for tweets that contain sensitive links vs. the one's with non-sensitive and no links? Tip: check in the documentation what missing values in column possibly_sensitive mean and consider what you need to do with them."
   ]
  },
  {
   "cell_type": "code",
   "execution_count": 14,
   "id": "83ba95a5-b82a-4297-9491-6b73a117ac7c",
   "metadata": {},
   "outputs": [],
   "source": [
    "data[\"possibly_sensitive\"].fillna(0, inplace=True)"
   ]
  },
  {
   "cell_type": "code",
   "execution_count": 17,
   "id": "c16617d7-e442-41c4-815c-839196deec46",
   "metadata": {},
   "outputs": [
    {
     "data": {
      "text/plain": [
       "created_at                      0\n",
       "id                              0\n",
       "id_str                          0\n",
       "full_text                       0\n",
       "truncated                       0\n",
       "display_text_range              0\n",
       "entities                        0\n",
       "metadata                        0\n",
       "source                          0\n",
       "in_reply_to_status_id         885\n",
       "in_reply_to_status_id_str     885\n",
       "in_reply_to_user_id           882\n",
       "in_reply_to_user_id_str       882\n",
       "in_reply_to_screen_name       882\n",
       "user                            0\n",
       "geo                          1000\n",
       "coordinates                  1000\n",
       "place                         994\n",
       "contributors                 1000\n",
       "retweeted_status              289\n",
       "is_quote_status                 0\n",
       "quoted_status_id              920\n",
       "quoted_status_id_str          920\n",
       "retweet_count                   0\n",
       "favorite_count                  0\n",
       "favorited                       0\n",
       "retweeted                       0\n",
       "lang                            0\n",
       "quoted_status                 983\n",
       "possibly_sensitive              0\n",
       "extended_entities             911\n",
       "withheld_in_countries         999\n",
       "dtype: int64"
      ]
     },
     "execution_count": 17,
     "metadata": {},
     "output_type": "execute_result"
    }
   ],
   "source": [
    "# sanity check: there should no be no more missing values for the possibly_sensitive variable (because we replaced them all by 0)\n",
    "\n",
    "data.isna().sum()"
   ]
  },
  {
   "cell_type": "code",
   "execution_count": 19,
   "id": "2fb287ca-4960-4749-97f6-3c76d7779ef1",
   "metadata": {},
   "outputs": [
    {
     "data": {
      "text/plain": [
       "possibly_sensitive\n",
       "0.0    990\n",
       "1.0     10\n",
       "Name: count, dtype: int64"
      ]
     },
     "execution_count": 19,
     "metadata": {},
     "output_type": "execute_result"
    }
   ],
   "source": [
    "data[\"possibly_sensitive\"].value_counts()"
   ]
  },
  {
   "cell_type": "code",
   "execution_count": 21,
   "id": "6abbf7dc-6f93-4e06-91f4-ac4469895a98",
   "metadata": {},
   "outputs": [
    {
     "data": {
      "text/plain": [
       "possibly_sensitive\n",
       "0.0    420.091919\n",
       "1.0    146.100000\n",
       "Name: retweet_count, dtype: float64"
      ]
     },
     "execution_count": 21,
     "metadata": {},
     "output_type": "execute_result"
    }
   ],
   "source": [
    "data.groupby([\"possibly_sensitive\"])[\"retweet_count\"].mean()"
   ]
  },
  {
   "cell_type": "markdown",
   "id": "780d03e2-4d1d-4523-9f47-8bd54db34022",
   "metadata": {},
   "source": [
    "#### Question 6\n",
    "Imagine that you want to research if there is a relation between the language of the tweets and number of retweets the tweets receive. Hence, you need the columns with information on the language of the tweet (lang) and its number of retweets (retweet_count).\n",
    " - Minimize the dataset accordingly. Explain your minimization steps.\n",
    " - What other steps would you need to take to make sure that the data follows privacy protection principles discussed in the lecture? Give concrete examples based on the information available in your minimized dataset. Tip: consider what identifiable and identified information the text and user columns contain."
   ]
  },
  {
   "cell_type": "code",
   "execution_count": 23,
   "id": "22798526-2893-44ea-a70d-f83db510a3cc",
   "metadata": {},
   "outputs": [
    {
     "data": {
      "text/html": [
       "<div>\n",
       "<style scoped>\n",
       "    .dataframe tbody tr th:only-of-type {\n",
       "        vertical-align: middle;\n",
       "    }\n",
       "\n",
       "    .dataframe tbody tr th {\n",
       "        vertical-align: top;\n",
       "    }\n",
       "\n",
       "    .dataframe thead th {\n",
       "        text-align: right;\n",
       "    }\n",
       "</style>\n",
       "<table border=\"1\" class=\"dataframe\">\n",
       "  <thead>\n",
       "    <tr style=\"text-align: right;\">\n",
       "      <th></th>\n",
       "      <th>lang</th>\n",
       "      <th>retweet_count</th>\n",
       "    </tr>\n",
       "  </thead>\n",
       "  <tbody>\n",
       "    <tr>\n",
       "      <th>0</th>\n",
       "      <td>en</td>\n",
       "      <td>100</td>\n",
       "    </tr>\n",
       "    <tr>\n",
       "      <th>1</th>\n",
       "      <td>en</td>\n",
       "      <td>298</td>\n",
       "    </tr>\n",
       "    <tr>\n",
       "      <th>2</th>\n",
       "      <td>en</td>\n",
       "      <td>1</td>\n",
       "    </tr>\n",
       "    <tr>\n",
       "      <th>3</th>\n",
       "      <td>en</td>\n",
       "      <td>0</td>\n",
       "    </tr>\n",
       "    <tr>\n",
       "      <th>4</th>\n",
       "      <td>fr</td>\n",
       "      <td>0</td>\n",
       "    </tr>\n",
       "  </tbody>\n",
       "</table>\n",
       "</div>"
      ],
      "text/plain": [
       "  lang  retweet_count\n",
       "0   en            100\n",
       "1   en            298\n",
       "2   en              1\n",
       "3   en              0\n",
       "4   fr              0"
      ]
     },
     "execution_count": 23,
     "metadata": {},
     "output_type": "execute_result"
    }
   ],
   "source": [
    "small = data[[\"lang\", \"retweet_count\"]]\n",
    "small.head()"
   ]
  },
  {
   "cell_type": "markdown",
   "id": "ed339296-3292-43c6-b409-c5b6238b92b9",
   "metadata": {},
   "source": [
    "#### Question 7\n",
    "Can you visualize the relationship between the language of a tweet and the number of times a tweet was retweeted? "
   ]
  },
  {
   "cell_type": "code",
   "execution_count": 27,
   "id": "8ee5b44c-81a1-4101-a246-bb371fe19534",
   "metadata": {},
   "outputs": [],
   "source": [
    "# different from the answer model, but better for showing a relationship\n",
    "\n",
    "lan_retweets = data.groupby([\"lang\"])[\"retweet_count\"].mean()\n",
    "lan_retweets = lan_retweets.to_frame()"
   ]
  },
  {
   "cell_type": "code",
   "execution_count": 32,
   "id": "d9a42ecb-2e48-4c9a-812f-e3893c9c03f4",
   "metadata": {},
   "outputs": [
    {
     "data": {
      "image/png": "[encoded data removed]",
      "text/plain": [
       "<Figure size 640x480 with 1 Axes>"
      ]
     },
     "metadata": {},
     "output_type": "display_data"
    }
   ],
   "source": [
    "plt.plot(lan_retweets.index, lan_retweets[\"retweet_count\"])\n",
    "plt.xlabel(\"Language\")\n",
    "plt.ylabel(\"Number of retweets\")\n",
    "plt.show()"
   ]
  },
  {
   "cell_type": "code",
   "execution_count": null,
   "id": "a4d72e65-d134-4246-8231-66ef3cdaacd9",
   "metadata": {},
   "outputs": [],
   "source": []
  }
 ],
 "metadata": {
  "kernelspec": {
   "display_name": "Python 3 (ipykernel)",
   "language": "python",
   "name": "python3"
  },
  "language_info": {
   "codemirror_mode": {
    "name": "ipython",
    "version": 3
   },
   "file_extension": ".py",
   "mimetype": "text/x-python",
   "name": "python",
   "nbconvert_exporter": "python",
   "pygments_lexer": "ipython3",
   "version": "3.12.6"
  }
 },
 "nbformat": 4,
 "nbformat_minor": 5
}
