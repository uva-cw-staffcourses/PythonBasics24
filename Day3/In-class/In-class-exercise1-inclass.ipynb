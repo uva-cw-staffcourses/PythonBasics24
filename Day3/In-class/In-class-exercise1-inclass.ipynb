{
 "cells": [
  {
   "cell_type": "markdown",
   "id": "9c123995",
   "metadata": {},
   "source": [
    "# In-class exercise 1\n",
    "\n",
    "Now that you have some experience with exploring your data and visualizing it, it's time for you to combine and apply your knowledge. \n",
    "\n",
    "In each challenge, you are asked to provide the programing solution to it as well as a technical interpretation explaining the steps taken and the result."
   ]
  },
  {
   "cell_type": "markdown",
   "id": "2418c892",
   "metadata": {},
   "source": [
    "## Dataset\n",
    "\n",
    "In this exercise, we work with data on U.S. partisan news pages on Facebook. These data were collected and analyzed by Silverman et al. (2017) for this article published on BuzzFeed [Inside The Partisan Fight For Your News Feed](https://www.buzzfeednews.com/article/craigsilverman/inside-the-partisan-fight-for-your-news-feed). The file you will work with is created based on the data available in this [GitHub repository](https://github.com/BuzzFeedNews/2017-08-partisan-sites-and-facebook-pages). \n",
    "\n",
    "In their investigation, the authors created a list of 667 partisan news websites. The websites were added to the list manually by two journalists who were dedicated to identifying partisan news websites. Once a website was added, its associated Facebook page was identified. This was possible for 452 websites. Information on these Facebook pages was collected using the Facebook API. Next, the websites were classified as left- or right-leaning based on a manual review of the content published by the website and its Facebook page, and by examining their About pages for mentions of partisanship. In datasets you will use, you can find information on the Facebook pages, their political leaning as well as information on enagagement. \n",
    "\n",
    "In the exercise you will use the following files:\n",
    "- `pages-info.csv` - dataset about the identified Facebook pages. It contains the following information:\n",
    "    - page_name:  name of the page on Facebook\n",
    "    - about: description of the page\n",
    "    - fan_count: number of fans\n",
    "    - talking_about_count: number of people sharing stories about the page\n",
    "    - website: name of the website related to the page\n",
    "    - page_id: ID of the Facebook page\n",
    "    - year: year when the page was created\n",
    "    - left_leaning: political left leaning of the page (takes value 1 for pages identified as left leaning and 0 for others)\n",
    "    - left_leaning: political right leaning of the page (takes value 1 for pages identified as right leaning and 0 for others)\n",
    "- `engagement_weekly.csv` - dataset about engagement with the identified pages in the last week before 2016 US presidential electiosn. It contains the following information:\n",
    "    - page_id: ID of the Facebook page\n",
    "    - status_published: the period for which engagement was measures (in this case, it is the first week of November 2016 for all pages).\n",
    "    - total_engagement: total number of engagement with the page in the week\n",
    "    - num_reactions: total number of reactions posts by the page recieved in the week (including all possible Facebook reactions)\n",
    "    - num_comments: total number of comments posts by the page recieved in the week\n",
    "    - num_shares: total number of times posts by the page have been shared in the week\n",
    "    - num_likes: total number of likes posts by the page recieved in the week\n",
    "    - num_loves: total number of 'love' reactions posts by the page recieved in the week\n",
    "    - num_wows: total number of 'wow' reactions posts by the page recieved in the week\n",
    "    - num_hahas: total number of 'haha' reactions posts by the page recieved in the week\n",
    "    - num_sads: total number of 'sad' reactions posts by the page recieved in the week\n",
    "    - num_angrys: total number of 'angry' reactions posts by the page recieved in the week\n",
    "    - post_count: total numer of posts posted in the week"
   ]
  },
  {
   "cell_type": "markdown",
   "id": "1c20e93d",
   "metadata": {},
   "source": [
    "# Question 1.1 \n",
    "\n",
    "Let's start with preparing and exploring the datasets. \n",
    "\n",
    "1) Explore the dataset and the necessary variables. <br /> *Make sure to at least check how the dataset looks like, what columns it has, what data type these columns have. <br />Tip: have a look at week 4 for pandas commands useful for exploration.*  \n",
    "\n",
    "For each question, provide the necessary code and a short explanation of the choices you made."
   ]
  },
  {
   "cell_type": "code",
   "execution_count": 31,
   "id": "3c38e849-cd0d-4339-9a0e-ec13e99edc95",
   "metadata": {},
   "outputs": [],
   "source": [
    "# it is good practice to import everything you'll need in one script at the start\n",
    "\n",
    "import pandas as pd\n",
    "import seaborn as sns"
   ]
  },
  {
   "cell_type": "code",
   "execution_count": 6,
   "id": "ca58d460-e49a-4b33-8217-50e992663ff2",
   "metadata": {},
   "outputs": [
    {
     "data": {
      "text/html": [
       "<div>\n",
       "<style scoped>\n",
       "    .dataframe tbody tr th:only-of-type {\n",
       "        vertical-align: middle;\n",
       "    }\n",
       "\n",
       "    .dataframe tbody tr th {\n",
       "        vertical-align: top;\n",
       "    }\n",
       "\n",
       "    .dataframe thead th {\n",
       "        text-align: right;\n",
       "    }\n",
       "</style>\n",
       "<table border=\"1\" class=\"dataframe\">\n",
       "  <thead>\n",
       "    <tr style=\"text-align: right;\">\n",
       "      <th></th>\n",
       "      <th>Unnamed: 0</th>\n",
       "      <th>page_name</th>\n",
       "      <th>about</th>\n",
       "      <th>fan_count</th>\n",
       "      <th>talking_about_count</th>\n",
       "      <th>website</th>\n",
       "      <th>page_id</th>\n",
       "      <th>year</th>\n",
       "      <th>month</th>\n",
       "      <th>day</th>\n",
       "      <th>left_leaning</th>\n",
       "      <th>right_leaning</th>\n",
       "    </tr>\n",
       "  </thead>\n",
       "  <tbody>\n",
       "    <tr>\n",
       "      <th>0</th>\n",
       "      <td>0</td>\n",
       "      <td>Americans Against the Tea Party</td>\n",
       "      <td>We are your go to source for political news.</td>\n",
       "      <td>583256</td>\n",
       "      <td>43343</td>\n",
       "      <td>http://www.aattp.org</td>\n",
       "      <td>108038612554992</td>\n",
       "      <td>2009.0</td>\n",
       "      <td>4.0</td>\n",
       "      <td>3.0</td>\n",
       "      <td>1</td>\n",
       "      <td>0</td>\n",
       "    </tr>\n",
       "    <tr>\n",
       "      <th>1</th>\n",
       "      <td>1</td>\n",
       "      <td>act.tv</td>\n",
       "      <td>Rise up and Resist! Your home for movement-ori...</td>\n",
       "      <td>285075</td>\n",
       "      <td>481748</td>\n",
       "      <td>http://act.tv</td>\n",
       "      <td>153418591515382</td>\n",
       "      <td>NaN</td>\n",
       "      <td>NaN</td>\n",
       "      <td>NaN</td>\n",
       "      <td>1</td>\n",
       "      <td>0</td>\n",
       "    </tr>\n",
       "    <tr>\n",
       "      <th>2</th>\n",
       "      <td>2</td>\n",
       "      <td>New Blue United</td>\n",
       "      <td>NaN</td>\n",
       "      <td>1476093</td>\n",
       "      <td>93116</td>\n",
       "      <td>www.bluetribune.com</td>\n",
       "      <td>188464111175168</td>\n",
       "      <td>NaN</td>\n",
       "      <td>NaN</td>\n",
       "      <td>NaN</td>\n",
       "      <td>1</td>\n",
       "      <td>0</td>\n",
       "    </tr>\n",
       "    <tr>\n",
       "      <th>3</th>\n",
       "      <td>3</td>\n",
       "      <td>Obama is the Worst President in US History</td>\n",
       "      <td>NaN</td>\n",
       "      <td>1569590</td>\n",
       "      <td>41452</td>\n",
       "      <td>NaN</td>\n",
       "      <td>296856040436954</td>\n",
       "      <td>2013.0</td>\n",
       "      <td>1.0</td>\n",
       "      <td>1.0</td>\n",
       "      <td>0</td>\n",
       "      <td>1</td>\n",
       "    </tr>\n",
       "    <tr>\n",
       "      <th>4</th>\n",
       "      <td>4</td>\n",
       "      <td>RedFlag NewsDesk</td>\n",
       "      <td>Daily headlines from the official RedFlagNews....</td>\n",
       "      <td>1533</td>\n",
       "      <td>76</td>\n",
       "      <td>http://redflagnews.com</td>\n",
       "      <td>492836854251934</td>\n",
       "      <td>2016.0</td>\n",
       "      <td>3.0</td>\n",
       "      <td>16.0</td>\n",
       "      <td>0</td>\n",
       "      <td>1</td>\n",
       "    </tr>\n",
       "  </tbody>\n",
       "</table>\n",
       "</div>"
      ],
      "text/plain": [
       "   Unnamed: 0                                   page_name  \\\n",
       "0           0             Americans Against the Tea Party   \n",
       "1           1                                      act.tv   \n",
       "2           2                             New Blue United   \n",
       "3           3  Obama is the Worst President in US History   \n",
       "4           4                            RedFlag NewsDesk   \n",
       "\n",
       "                                               about  fan_count  \\\n",
       "0      We are your go to source for political news.      583256   \n",
       "1  Rise up and Resist! Your home for movement-ori...     285075   \n",
       "2                                                NaN    1476093   \n",
       "3                                                NaN    1569590   \n",
       "4  Daily headlines from the official RedFlagNews....       1533   \n",
       "\n",
       "   talking_about_count                 website          page_id    year  \\\n",
       "0                43343    http://www.aattp.org  108038612554992  2009.0   \n",
       "1               481748           http://act.tv  153418591515382     NaN   \n",
       "2                93116     www.bluetribune.com  188464111175168     NaN   \n",
       "3                41452                     NaN  296856040436954  2013.0   \n",
       "4                   76  http://redflagnews.com  492836854251934  2016.0   \n",
       "\n",
       "   month   day  left_leaning  right_leaning  \n",
       "0    4.0   3.0             1              0  \n",
       "1    NaN   NaN             1              0  \n",
       "2    NaN   NaN             1              0  \n",
       "3    1.0   1.0             0              1  \n",
       "4    3.0  16.0             0              1  "
      ]
     },
     "execution_count": 6,
     "metadata": {},
     "output_type": "execute_result"
    }
   ],
   "source": [
    "# read in the data as pandas so that we get a dataframe\n",
    "pages = pd.read_csv(\"pages-info.csv\", delimiter = \",\")\n",
    "pages.head()"
   ]
  },
  {
   "cell_type": "code",
   "execution_count": 7,
   "id": "3d8266d5-1c01-4d7c-aec9-f8b8ed39ce68",
   "metadata": {},
   "outputs": [
    {
     "data": {
      "text/plain": [
       "Index(['Unnamed: 0', 'page_name', 'about', 'fan_count', 'talking_about_count',\n",
       "       'website', 'page_id', 'year', 'month', 'day', 'left_leaning',\n",
       "       'right_leaning'],\n",
       "      dtype='object')"
      ]
     },
     "execution_count": 7,
     "metadata": {},
     "output_type": "execute_result"
    }
   ],
   "source": [
    "pages.columns"
   ]
  },
  {
   "cell_type": "code",
   "execution_count": 8,
   "id": "6dd7a6b8-6fd7-4428-9251-2de7784493e0",
   "metadata": {},
   "outputs": [
    {
     "data": {
      "text/plain": [
       "(452, 12)"
      ]
     },
     "execution_count": 8,
     "metadata": {},
     "output_type": "execute_result"
    }
   ],
   "source": [
    "pages.shape"
   ]
  },
  {
   "cell_type": "code",
   "execution_count": 9,
   "id": "3c3c1463-00b2-489a-a069-ae01684d64d8",
   "metadata": {},
   "outputs": [
    {
     "data": {
      "text/plain": [
       "Unnamed: 0               int64\n",
       "page_name               object\n",
       "about                   object\n",
       "fan_count                int64\n",
       "talking_about_count      int64\n",
       "website                 object\n",
       "page_id                  int64\n",
       "year                   float64\n",
       "month                  float64\n",
       "day                    float64\n",
       "left_leaning             int64\n",
       "right_leaning            int64\n",
       "dtype: object"
      ]
     },
     "execution_count": 9,
     "metadata": {},
     "output_type": "execute_result"
    }
   ],
   "source": [
    "pages.dtypes"
   ]
  },
  {
   "cell_type": "code",
   "execution_count": 14,
   "id": "df415ba3-8ab5-45a8-b2cc-dc935261cadb",
   "metadata": {},
   "outputs": [
    {
     "data": {
      "text/plain": [
       "Unnamed: 0          0\n",
       "page_id             0\n",
       "status_published    0\n",
       "total_engagement    0\n",
       "num_reactions       0\n",
       "num_comments        0\n",
       "num_shares          0\n",
       "num_likes           0\n",
       "num_loves           0\n",
       "num_wows            0\n",
       "num_hahas           0\n",
       "num_sads            0\n",
       "num_angrys          0\n",
       "post_count          0\n",
       "dtype: int64"
      ]
     },
     "execution_count": 14,
     "metadata": {},
     "output_type": "execute_result"
    }
   ],
   "source": [
    "engagement.isna().sum()"
   ]
  },
  {
   "cell_type": "code",
   "execution_count": 15,
   "id": "08083437-05f1-4a01-a3f8-98fa0f2bc3ef",
   "metadata": {},
   "outputs": [
    {
     "data": {
      "text/plain": [
       "Unnamed: 0               0\n",
       "page_name                0\n",
       "about                   26\n",
       "fan_count                0\n",
       "talking_about_count      0\n",
       "website                 29\n",
       "page_id                  0\n",
       "year                   241\n",
       "month                  332\n",
       "day                    362\n",
       "left_leaning             0\n",
       "right_leaning            0\n",
       "dtype: int64"
      ]
     },
     "execution_count": 15,
     "metadata": {},
     "output_type": "execute_result"
    }
   ],
   "source": [
    "pages.isna().sum()"
   ]
  },
  {
   "cell_type": "markdown",
   "id": "d1776981-a4bc-4abf-bb8a-ad6c81f28f20",
   "metadata": {},
   "source": [
    "# Question 1.2 \n",
    "\n",
    "Let's start with preparing and exploring the datasets. \n",
    "\n",
    "2) Merge the two datasets so that you have information on pages and the engagement they generated in the last week before the 2016 presidential elections together.  <br />*Tip: do not forget to make sure both datasets have the right keys necessary for merging and that these keys have the appropriate data types*\n",
    "\n",
    "For each question, provide the necessary code and a short explanation of the choices you made."
   ]
  },
  {
   "cell_type": "code",
   "execution_count": 20,
   "id": "9a859293-beb4-40fb-abcb-2a1a60b305be",
   "metadata": {},
   "outputs": [
    {
     "data": {
      "text/html": [
       "<div>\n",
       "<style scoped>\n",
       "    .dataframe tbody tr th:only-of-type {\n",
       "        vertical-align: middle;\n",
       "    }\n",
       "\n",
       "    .dataframe tbody tr th {\n",
       "        vertical-align: top;\n",
       "    }\n",
       "\n",
       "    .dataframe thead th {\n",
       "        text-align: right;\n",
       "    }\n",
       "</style>\n",
       "<table border=\"1\" class=\"dataframe\">\n",
       "  <thead>\n",
       "    <tr style=\"text-align: right;\">\n",
       "      <th></th>\n",
       "      <th>Unnamed: 0</th>\n",
       "      <th>page_id</th>\n",
       "      <th>status_published</th>\n",
       "      <th>total_engagement</th>\n",
       "      <th>num_reactions</th>\n",
       "      <th>num_comments</th>\n",
       "      <th>num_shares</th>\n",
       "      <th>num_likes</th>\n",
       "      <th>num_loves</th>\n",
       "      <th>num_wows</th>\n",
       "      <th>num_hahas</th>\n",
       "      <th>num_sads</th>\n",
       "      <th>num_angrys</th>\n",
       "      <th>post_count</th>\n",
       "    </tr>\n",
       "  </thead>\n",
       "  <tbody>\n",
       "    <tr>\n",
       "      <th>0</th>\n",
       "      <td>22</td>\n",
       "      <td>100434040001314</td>\n",
       "      <td>2016-11-01</td>\n",
       "      <td>49741</td>\n",
       "      <td>35318</td>\n",
       "      <td>3105</td>\n",
       "      <td>11318</td>\n",
       "      <td>22950</td>\n",
       "      <td>1906</td>\n",
       "      <td>697</td>\n",
       "      <td>4554</td>\n",
       "      <td>1206</td>\n",
       "      <td>4005</td>\n",
       "      <td>250</td>\n",
       "    </tr>\n",
       "    <tr>\n",
       "      <th>1</th>\n",
       "      <td>31</td>\n",
       "      <td>1014803551921469</td>\n",
       "      <td>2016-11-01</td>\n",
       "      <td>155745</td>\n",
       "      <td>95926</td>\n",
       "      <td>18311</td>\n",
       "      <td>41508</td>\n",
       "      <td>72594</td>\n",
       "      <td>5620</td>\n",
       "      <td>2233</td>\n",
       "      <td>5912</td>\n",
       "      <td>1000</td>\n",
       "      <td>8567</td>\n",
       "      <td>1289</td>\n",
       "    </tr>\n",
       "    <tr>\n",
       "      <th>2</th>\n",
       "      <td>49</td>\n",
       "      <td>1019871961378419</td>\n",
       "      <td>2016-11-01</td>\n",
       "      <td>1192782</td>\n",
       "      <td>900218</td>\n",
       "      <td>170192</td>\n",
       "      <td>122372</td>\n",
       "      <td>675544</td>\n",
       "      <td>47614</td>\n",
       "      <td>16100</td>\n",
       "      <td>38434</td>\n",
       "      <td>73706</td>\n",
       "      <td>48820</td>\n",
       "      <td>1260</td>\n",
       "    </tr>\n",
       "    <tr>\n",
       "      <th>3</th>\n",
       "      <td>60</td>\n",
       "      <td>1035617169863710</td>\n",
       "      <td>2016-11-01</td>\n",
       "      <td>2506</td>\n",
       "      <td>1497</td>\n",
       "      <td>267</td>\n",
       "      <td>742</td>\n",
       "      <td>1115</td>\n",
       "      <td>62</td>\n",
       "      <td>35</td>\n",
       "      <td>199</td>\n",
       "      <td>14</td>\n",
       "      <td>72</td>\n",
       "      <td>197</td>\n",
       "    </tr>\n",
       "    <tr>\n",
       "      <th>4</th>\n",
       "      <td>70</td>\n",
       "      <td>1036253643101134</td>\n",
       "      <td>2016-11-01</td>\n",
       "      <td>656574</td>\n",
       "      <td>474432</td>\n",
       "      <td>43802</td>\n",
       "      <td>138340</td>\n",
       "      <td>359882</td>\n",
       "      <td>23549</td>\n",
       "      <td>13228</td>\n",
       "      <td>25017</td>\n",
       "      <td>6682</td>\n",
       "      <td>46074</td>\n",
       "      <td>136</td>\n",
       "    </tr>\n",
       "  </tbody>\n",
       "</table>\n",
       "</div>"
      ],
      "text/plain": [
       "   Unnamed: 0           page_id status_published  total_engagement  \\\n",
       "0          22   100434040001314       2016-11-01             49741   \n",
       "1          31  1014803551921469       2016-11-01            155745   \n",
       "2          49  1019871961378419       2016-11-01           1192782   \n",
       "3          60  1035617169863710       2016-11-01              2506   \n",
       "4          70  1036253643101134       2016-11-01            656574   \n",
       "\n",
       "   num_reactions  num_comments  num_shares  num_likes  num_loves  num_wows  \\\n",
       "0          35318          3105       11318      22950       1906       697   \n",
       "1          95926         18311       41508      72594       5620      2233   \n",
       "2         900218        170192      122372     675544      47614     16100   \n",
       "3           1497           267         742       1115         62        35   \n",
       "4         474432         43802      138340     359882      23549     13228   \n",
       "\n",
       "   num_hahas  num_sads  num_angrys  post_count  \n",
       "0       4554      1206        4005         250  \n",
       "1       5912      1000        8567        1289  \n",
       "2      38434     73706       48820        1260  \n",
       "3        199        14          72         197  \n",
       "4      25017      6682       46074         136  "
      ]
     },
     "execution_count": 20,
     "metadata": {},
     "output_type": "execute_result"
    }
   ],
   "source": [
    "engagement = pd.read_csv(\"engagement_weekly.csv\")\n",
    "engagement.head()"
   ]
  },
  {
   "cell_type": "code",
   "execution_count": 12,
   "id": "3862fbfb-5589-4a6e-a640-f5d707f2b961",
   "metadata": {},
   "outputs": [
    {
     "data": {
      "text/plain": [
       "Index(['Unnamed: 0', 'page_id', 'status_published', 'total_engagement',\n",
       "       'num_reactions', 'num_comments', 'num_shares', 'num_likes', 'num_loves',\n",
       "       'num_wows', 'num_hahas', 'num_sads', 'num_angrys', 'post_count'],\n",
       "      dtype='object')"
      ]
     },
     "execution_count": 12,
     "metadata": {},
     "output_type": "execute_result"
    }
   ],
   "source": [
    "engagement.columns"
   ]
  },
  {
   "cell_type": "code",
   "execution_count": 19,
   "id": "36806eaa-7f61-4b5c-8f01-50c087530ed0",
   "metadata": {},
   "outputs": [
    {
     "data": {
      "text/plain": [
       "(415, 14)"
      ]
     },
     "execution_count": 19,
     "metadata": {},
     "output_type": "execute_result"
    }
   ],
   "source": [
    "engagement.shape"
   ]
  },
  {
   "cell_type": "code",
   "execution_count": 13,
   "id": "59c24be7-9e07-4942-b8f7-08d184351c9d",
   "metadata": {},
   "outputs": [
    {
     "data": {
      "text/plain": [
       "Unnamed: 0           int64\n",
       "page_id              int64\n",
       "status_published    object\n",
       "total_engagement     int64\n",
       "num_reactions        int64\n",
       "num_comments         int64\n",
       "num_shares           int64\n",
       "num_likes            int64\n",
       "num_loves            int64\n",
       "num_wows             int64\n",
       "num_hahas            int64\n",
       "num_sads             int64\n",
       "num_angrys           int64\n",
       "post_count           int64\n",
       "dtype: object"
      ]
     },
     "execution_count": 13,
     "metadata": {},
     "output_type": "execute_result"
    }
   ],
   "source": [
    "engagement.dtypes"
   ]
  },
  {
   "cell_type": "code",
   "execution_count": 17,
   "id": "bbe53f63-c217-407a-a8e5-014f65c170c2",
   "metadata": {},
   "outputs": [
    {
     "data": {
      "text/plain": [
       "(452, 415)"
      ]
     },
     "execution_count": 17,
     "metadata": {},
     "output_type": "execute_result"
    }
   ],
   "source": [
    "len(pages), len(engagement)"
   ]
  },
  {
   "cell_type": "code",
   "execution_count": 18,
   "id": "6e934f1d-425b-43a3-bf95-43fa925cdf6e",
   "metadata": {},
   "outputs": [
    {
     "data": {
      "text/html": [
       "<div>\n",
       "<style scoped>\n",
       "    .dataframe tbody tr th:only-of-type {\n",
       "        vertical-align: middle;\n",
       "    }\n",
       "\n",
       "    .dataframe tbody tr th {\n",
       "        vertical-align: top;\n",
       "    }\n",
       "\n",
       "    .dataframe thead th {\n",
       "        text-align: right;\n",
       "    }\n",
       "</style>\n",
       "<table border=\"1\" class=\"dataframe\">\n",
       "  <thead>\n",
       "    <tr style=\"text-align: right;\">\n",
       "      <th></th>\n",
       "      <th>Unnamed: 0_x</th>\n",
       "      <th>page_name</th>\n",
       "      <th>about</th>\n",
       "      <th>fan_count</th>\n",
       "      <th>talking_about_count</th>\n",
       "      <th>website</th>\n",
       "      <th>page_id</th>\n",
       "      <th>year</th>\n",
       "      <th>month</th>\n",
       "      <th>day</th>\n",
       "      <th>...</th>\n",
       "      <th>num_reactions</th>\n",
       "      <th>num_comments</th>\n",
       "      <th>num_shares</th>\n",
       "      <th>num_likes</th>\n",
       "      <th>num_loves</th>\n",
       "      <th>num_wows</th>\n",
       "      <th>num_hahas</th>\n",
       "      <th>num_sads</th>\n",
       "      <th>num_angrys</th>\n",
       "      <th>post_count</th>\n",
       "    </tr>\n",
       "  </thead>\n",
       "  <tbody>\n",
       "    <tr>\n",
       "      <th>0</th>\n",
       "      <td>0</td>\n",
       "      <td>Americans Against the Tea Party</td>\n",
       "      <td>We are your go to source for political news.</td>\n",
       "      <td>583256</td>\n",
       "      <td>43343</td>\n",
       "      <td>http://www.aattp.org</td>\n",
       "      <td>108038612554992</td>\n",
       "      <td>2009.0</td>\n",
       "      <td>4.0</td>\n",
       "      <td>3.0</td>\n",
       "      <td>...</td>\n",
       "      <td>1788723</td>\n",
       "      <td>150753</td>\n",
       "      <td>593041</td>\n",
       "      <td>1274393</td>\n",
       "      <td>116866</td>\n",
       "      <td>59902</td>\n",
       "      <td>127320</td>\n",
       "      <td>34723</td>\n",
       "      <td>175519</td>\n",
       "      <td>593</td>\n",
       "    </tr>\n",
       "    <tr>\n",
       "      <th>1</th>\n",
       "      <td>1</td>\n",
       "      <td>act.tv</td>\n",
       "      <td>Rise up and Resist! Your home for movement-ori...</td>\n",
       "      <td>285075</td>\n",
       "      <td>481748</td>\n",
       "      <td>http://act.tv</td>\n",
       "      <td>153418591515382</td>\n",
       "      <td>NaN</td>\n",
       "      <td>NaN</td>\n",
       "      <td>NaN</td>\n",
       "      <td>...</td>\n",
       "      <td>87046</td>\n",
       "      <td>7440</td>\n",
       "      <td>103549</td>\n",
       "      <td>58560</td>\n",
       "      <td>5965</td>\n",
       "      <td>2332</td>\n",
       "      <td>5512</td>\n",
       "      <td>4386</td>\n",
       "      <td>10291</td>\n",
       "      <td>146</td>\n",
       "    </tr>\n",
       "    <tr>\n",
       "      <th>2</th>\n",
       "      <td>3</td>\n",
       "      <td>Obama is the Worst President in US History</td>\n",
       "      <td>NaN</td>\n",
       "      <td>1569590</td>\n",
       "      <td>41452</td>\n",
       "      <td>NaN</td>\n",
       "      <td>296856040436954</td>\n",
       "      <td>2013.0</td>\n",
       "      <td>1.0</td>\n",
       "      <td>1.0</td>\n",
       "      <td>...</td>\n",
       "      <td>626911</td>\n",
       "      <td>231043</td>\n",
       "      <td>205463</td>\n",
       "      <td>378497</td>\n",
       "      <td>19219</td>\n",
       "      <td>11269</td>\n",
       "      <td>105864</td>\n",
       "      <td>8821</td>\n",
       "      <td>103241</td>\n",
       "      <td>1423</td>\n",
       "    </tr>\n",
       "    <tr>\n",
       "      <th>3</th>\n",
       "      <td>4</td>\n",
       "      <td>RedFlag NewsDesk</td>\n",
       "      <td>Daily headlines from the official RedFlagNews....</td>\n",
       "      <td>1533</td>\n",
       "      <td>76</td>\n",
       "      <td>http://redflagnews.com</td>\n",
       "      <td>492836854251934</td>\n",
       "      <td>2016.0</td>\n",
       "      <td>3.0</td>\n",
       "      <td>16.0</td>\n",
       "      <td>...</td>\n",
       "      <td>1007</td>\n",
       "      <td>228</td>\n",
       "      <td>794</td>\n",
       "      <td>683</td>\n",
       "      <td>41</td>\n",
       "      <td>51</td>\n",
       "      <td>77</td>\n",
       "      <td>20</td>\n",
       "      <td>135</td>\n",
       "      <td>967</td>\n",
       "    </tr>\n",
       "    <tr>\n",
       "      <th>4</th>\n",
       "      <td>5</td>\n",
       "      <td>We Support Donald Trump</td>\n",
       "      <td>This country is in deep trouble.  We believe t...</td>\n",
       "      <td>1062633</td>\n",
       "      <td>32795</td>\n",
       "      <td>NaN</td>\n",
       "      <td>532734866892797</td>\n",
       "      <td>NaN</td>\n",
       "      <td>NaN</td>\n",
       "      <td>NaN</td>\n",
       "      <td>...</td>\n",
       "      <td>232070</td>\n",
       "      <td>36206</td>\n",
       "      <td>34907</td>\n",
       "      <td>195962</td>\n",
       "      <td>12937</td>\n",
       "      <td>2363</td>\n",
       "      <td>9293</td>\n",
       "      <td>1555</td>\n",
       "      <td>9960</td>\n",
       "      <td>674</td>\n",
       "    </tr>\n",
       "  </tbody>\n",
       "</table>\n",
       "<p>5 rows × 25 columns</p>\n",
       "</div>"
      ],
      "text/plain": [
       "   Unnamed: 0_x                                   page_name  \\\n",
       "0             0             Americans Against the Tea Party   \n",
       "1             1                                      act.tv   \n",
       "2             3  Obama is the Worst President in US History   \n",
       "3             4                            RedFlag NewsDesk   \n",
       "4             5                     We Support Donald Trump   \n",
       "\n",
       "                                               about  fan_count  \\\n",
       "0      We are your go to source for political news.      583256   \n",
       "1  Rise up and Resist! Your home for movement-ori...     285075   \n",
       "2                                                NaN    1569590   \n",
       "3  Daily headlines from the official RedFlagNews....       1533   \n",
       "4  This country is in deep trouble.  We believe t...    1062633   \n",
       "\n",
       "   talking_about_count                 website          page_id    year  \\\n",
       "0                43343    http://www.aattp.org  108038612554992  2009.0   \n",
       "1               481748           http://act.tv  153418591515382     NaN   \n",
       "2                41452                     NaN  296856040436954  2013.0   \n",
       "3                   76  http://redflagnews.com  492836854251934  2016.0   \n",
       "4                32795                     NaN  532734866892797     NaN   \n",
       "\n",
       "   month   day  ...  num_reactions  num_comments  num_shares num_likes  \\\n",
       "0    4.0   3.0  ...        1788723        150753      593041   1274393   \n",
       "1    NaN   NaN  ...          87046          7440      103549     58560   \n",
       "2    1.0   1.0  ...         626911        231043      205463    378497   \n",
       "3    3.0  16.0  ...           1007           228         794       683   \n",
       "4    NaN   NaN  ...         232070         36206       34907    195962   \n",
       "\n",
       "   num_loves  num_wows  num_hahas  num_sads  num_angrys  post_count  \n",
       "0     116866     59902     127320     34723      175519         593  \n",
       "1       5965      2332       5512      4386       10291         146  \n",
       "2      19219     11269     105864      8821      103241        1423  \n",
       "3         41        51         77        20         135         967  \n",
       "4      12937      2363       9293      1555        9960         674  \n",
       "\n",
       "[5 rows x 25 columns]"
      ]
     },
     "execution_count": 18,
     "metadata": {},
     "output_type": "execute_result"
    }
   ],
   "source": [
    "df2 = pages.merge(engagement, on=\"page_id\", how=\"inner\")\n",
    "df2.head()"
   ]
  },
  {
   "cell_type": "markdown",
   "id": "077ea311-a74d-41a6-a17d-68ad60fdbb33",
   "metadata": {},
   "source": [
    "# Question 1.3 \n",
    "\n",
    "Let's start with preparing and exploring the datasets. \n",
    "\n",
    "3) To get a global picture of your data answer the questions below. If necessary, create new columns in your dataset necessary to answer the questions.\n",
    "    - How many pages in the dataset are left and how many right leaning? \n",
    "    - When (in what year) were the pages in the dataset created?\n",
    "    - What is the averge number of fans for left and right leaning websites?\n",
    "    \n",
    "For each question, provide the necessary code and a short explanation of the choices you made."
   ]
  },
  {
   "cell_type": "code",
   "execution_count": 21,
   "id": "89e22c02-37ae-4526-8aac-969fda7b0fc0",
   "metadata": {},
   "outputs": [
    {
     "data": {
      "text/plain": [
       "Index(['Unnamed: 0_x', 'page_name', 'about', 'fan_count',\n",
       "       'talking_about_count', 'website', 'page_id', 'year', 'month', 'day',\n",
       "       'left_leaning', 'right_leaning', 'Unnamed: 0_y', 'status_published',\n",
       "       'total_engagement', 'num_reactions', 'num_comments', 'num_shares',\n",
       "       'num_likes', 'num_loves', 'num_wows', 'num_hahas', 'num_sads',\n",
       "       'num_angrys', 'post_count'],\n",
       "      dtype='object')"
      ]
     },
     "execution_count": 21,
     "metadata": {},
     "output_type": "execute_result"
    }
   ],
   "source": [
    "df2.columns"
   ]
  },
  {
   "cell_type": "code",
   "execution_count": 23,
   "id": "b13f7288-672c-48a9-9420-1007af64b0cb",
   "metadata": {},
   "outputs": [
    {
     "data": {
      "text/plain": [
       "left_leaning\n",
       "0    285\n",
       "1    130\n",
       "Name: count, dtype: int64"
      ]
     },
     "execution_count": 23,
     "metadata": {},
     "output_type": "execute_result"
    }
   ],
   "source": [
    "df2[\"left_leaning\"].value_counts()"
   ]
  },
  {
   "cell_type": "code",
   "execution_count": 24,
   "id": "b1a9c65f-4fee-42a2-bbd4-a8137639073a",
   "metadata": {},
   "outputs": [
    {
     "data": {
      "text/plain": [
       "right_leaning\n",
       "1    285\n",
       "0    130\n",
       "Name: count, dtype: int64"
      ]
     },
     "execution_count": 24,
     "metadata": {},
     "output_type": "execute_result"
    }
   ],
   "source": [
    "df2[\"right_leaning\"].value_counts()"
   ]
  },
  {
   "cell_type": "code",
   "execution_count": 25,
   "id": "f1650f7c-4619-4736-aaa8-14bd6bdf7f73",
   "metadata": {},
   "outputs": [
    {
     "data": {
      "text/plain": [
       "year\n",
       "2012.0    24\n",
       "2016.0    20\n",
       "2011.0    17\n",
       "2015.0    15\n",
       "2013.0    13\n",
       "2009.0    11\n",
       "2010.0    11\n",
       "2008.0     9\n",
       "2004.0     8\n",
       "2014.0     7\n",
       "2001.0     5\n",
       "1996.0     5\n",
       "2005.0     5\n",
       "2007.0     4\n",
       "2000.0     3\n",
       "2003.0     3\n",
       "2006.0     3\n",
       "1998.0     3\n",
       "1969.0     2\n",
       "2002.0     2\n",
       "1776.0     2\n",
       "1995.0     2\n",
       "1982.0     2\n",
       "1988.0     2\n",
       "1997.0     2\n",
       "1961.0     2\n",
       "1973.0     1\n",
       "1999.0     1\n",
       "1945.0     1\n",
       "1943.0     1\n",
       "1963.0     1\n",
       "1954.0     1\n",
       "1865.0     1\n",
       "1970.0     1\n",
       "1985.0     1\n",
       "1944.0     1\n",
       "1990.0     1\n",
       "1909.0     1\n",
       "1800.0     1\n",
       "1994.0     1\n",
       "1987.0     1\n",
       "1986.0     1\n",
       "1967.0     1\n",
       "1950.0     1\n",
       "1956.0     1\n",
       "1976.0     1\n",
       "Name: count, dtype: int64"
      ]
     },
     "execution_count": 25,
     "metadata": {},
     "output_type": "execute_result"
    }
   ],
   "source": [
    "df2[\"year\"].value_counts()"
   ]
  },
  {
   "cell_type": "code",
   "execution_count": 26,
   "id": "5e4deda6-a119-438a-bd34-8de56a83c5ae",
   "metadata": {},
   "outputs": [
    {
     "data": {
      "text/html": [
       "<div>\n",
       "<style scoped>\n",
       "    .dataframe tbody tr th:only-of-type {\n",
       "        vertical-align: middle;\n",
       "    }\n",
       "\n",
       "    .dataframe tbody tr th {\n",
       "        vertical-align: top;\n",
       "    }\n",
       "\n",
       "    .dataframe thead tr th {\n",
       "        text-align: left;\n",
       "    }\n",
       "\n",
       "    .dataframe thead tr:last-of-type th {\n",
       "        text-align: right;\n",
       "    }\n",
       "</style>\n",
       "<table border=\"1\" class=\"dataframe\">\n",
       "  <thead>\n",
       "    <tr>\n",
       "      <th></th>\n",
       "      <th>fan_count</th>\n",
       "    </tr>\n",
       "    <tr>\n",
       "      <th></th>\n",
       "      <th>mean</th>\n",
       "    </tr>\n",
       "    <tr>\n",
       "      <th>left_leaning</th>\n",
       "      <th></th>\n",
       "    </tr>\n",
       "  </thead>\n",
       "  <tbody>\n",
       "    <tr>\n",
       "      <th>0</th>\n",
       "      <td>738682.014035</td>\n",
       "    </tr>\n",
       "    <tr>\n",
       "      <th>1</th>\n",
       "      <td>744491.284615</td>\n",
       "    </tr>\n",
       "  </tbody>\n",
       "</table>\n",
       "</div>"
      ],
      "text/plain": [
       "                  fan_count\n",
       "                       mean\n",
       "left_leaning               \n",
       "0             738682.014035\n",
       "1             744491.284615"
      ]
     },
     "execution_count": 26,
     "metadata": {},
     "output_type": "execute_result"
    }
   ],
   "source": [
    "df2.groupby(\"left_leaning\").agg({\"fan_count\": [\"mean\"]})"
   ]
  },
  {
   "cell_type": "code",
   "execution_count": 29,
   "id": "d4f01b27-d25e-4765-a8cc-a2012c7a9dbc",
   "metadata": {},
   "outputs": [
    {
     "data": {
      "text/html": [
       "<div>\n",
       "<style scoped>\n",
       "    .dataframe tbody tr th:only-of-type {\n",
       "        vertical-align: middle;\n",
       "    }\n",
       "\n",
       "    .dataframe tbody tr th {\n",
       "        vertical-align: top;\n",
       "    }\n",
       "\n",
       "    .dataframe thead th {\n",
       "        text-align: right;\n",
       "    }\n",
       "</style>\n",
       "<table border=\"1\" class=\"dataframe\">\n",
       "  <thead>\n",
       "    <tr style=\"text-align: right;\">\n",
       "      <th></th>\n",
       "      <th>count</th>\n",
       "      <th>mean</th>\n",
       "      <th>std</th>\n",
       "      <th>min</th>\n",
       "      <th>25%</th>\n",
       "      <th>50%</th>\n",
       "      <th>75%</th>\n",
       "      <th>max</th>\n",
       "    </tr>\n",
       "    <tr>\n",
       "      <th>right_leaning</th>\n",
       "      <th></th>\n",
       "      <th></th>\n",
       "      <th></th>\n",
       "      <th></th>\n",
       "      <th></th>\n",
       "      <th></th>\n",
       "      <th></th>\n",
       "      <th></th>\n",
       "    </tr>\n",
       "  </thead>\n",
       "  <tbody>\n",
       "    <tr>\n",
       "      <th>0</th>\n",
       "      <td>130.0</td>\n",
       "      <td>744491.284615</td>\n",
       "      <td>1.669226e+06</td>\n",
       "      <td>64.0</td>\n",
       "      <td>25474.25</td>\n",
       "      <td>166985.0</td>\n",
       "      <td>727282.25</td>\n",
       "      <td>11664950.0</td>\n",
       "    </tr>\n",
       "    <tr>\n",
       "      <th>1</th>\n",
       "      <td>285.0</td>\n",
       "      <td>738682.014035</td>\n",
       "      <td>1.439927e+06</td>\n",
       "      <td>47.0</td>\n",
       "      <td>19880.00</td>\n",
       "      <td>165298.0</td>\n",
       "      <td>853119.00</td>\n",
       "      <td>15563283.0</td>\n",
       "    </tr>\n",
       "  </tbody>\n",
       "</table>\n",
       "</div>"
      ],
      "text/plain": [
       "               count           mean           std   min       25%       50%  \\\n",
       "right_leaning                                                                 \n",
       "0              130.0  744491.284615  1.669226e+06  64.0  25474.25  166985.0   \n",
       "1              285.0  738682.014035  1.439927e+06  47.0  19880.00  165298.0   \n",
       "\n",
       "                     75%         max  \n",
       "right_leaning                         \n",
       "0              727282.25  11664950.0  \n",
       "1              853119.00  15563283.0  "
      ]
     },
     "execution_count": 29,
     "metadata": {},
     "output_type": "execute_result"
    }
   ],
   "source": [
    "df2.groupby(\"right_leaning\")[\"fan_count\"].describe()"
   ]
  },
  {
   "cell_type": "markdown",
   "id": "2d574698",
   "metadata": {},
   "source": [
    "# Question 2\n",
    "\n",
    "Now, let's visualize what we have learned about our data. Provide visualizations for your answers to question 3, Challenge 1. Take into account the measurement levels of your variables to choose the appropriate visualization. Provide a short justification of your choice.\n"
   ]
  },
  {
   "cell_type": "markdown",
   "id": "c9066686-6ad9-449b-8241-94bc9507eee9",
   "metadata": {},
   "source": [
    "- How many pages in the dataset are left and how many right leaning?\n",
    "- When (in what year) were the pages in the dataset created?\n",
    "- What is the averge number of fans for left and right leaning websites?"
   ]
  },
  {
   "cell_type": "code",
   "execution_count": 32,
   "id": "3798daa5-68ec-4690-aa14-009d26e215fc",
   "metadata": {},
   "outputs": [
    {
     "data": {
      "text/plain": [
       "<Axes: xlabel='left_leaning', ylabel='count'>"
      ]
     },
     "execution_count": 32,
     "metadata": {},
     "output_type": "execute_result"
    },
    {
     "data": {
      "image/png": "[encoded data removed]",
      "text/plain": [
       "<Figure size 640x480 with 1 Axes>"
      ]
     },
     "metadata": {},
     "output_type": "display_data"
    }
   ],
   "source": [
    "sns.countplot(data=df2, x=\"left_leaning\")"
   ]
  },
  {
   "cell_type": "code",
   "execution_count": 33,
   "id": "f2d565f6-0d76-4b36-893c-7dbf8d74a3d5",
   "metadata": {},
   "outputs": [
    {
     "data": {
      "text/plain": [
       "<Axes: xlabel='year', ylabel='Count'>"
      ]
     },
     "execution_count": 33,
     "metadata": {},
     "output_type": "execute_result"
    },
    {
     "data": {
      "image/png": "[encoded data removed]",
      "text/plain": [
       "<Figure size 640x480 with 1 Axes>"
      ]
     },
     "metadata": {},
     "output_type": "display_data"
    }
   ],
   "source": [
    "sns.histplot(data=df2, x=\"year\")"
   ]
  },
  {
   "cell_type": "code",
   "execution_count": 35,
   "id": "2f9d136a-d286-46f0-a9ab-88836505700b",
   "metadata": {},
   "outputs": [
    {
     "data": {
      "text/plain": [
       "<Axes: xlabel='left_leaning', ylabel='fan_count'>"
      ]
     },
     "execution_count": 35,
     "metadata": {},
     "output_type": "execute_result"
    },
    {
     "data": {
      "image/png": "[encoded data removed]",
      "text/plain": [
       "<Figure size 640x480 with 1 Axes>"
      ]
     },
     "metadata": {},
     "output_type": "display_data"
    }
   ],
   "source": [
    "sns.barplot(data=df2, x=\"left_leaning\", y=\"fan_count\", errorbar=('ci', 95)) "
   ]
  },
  {
   "cell_type": "code",
   "execution_count": null,
   "id": "689c8be6-74f3-4aa2-addf-99e22d015414",
   "metadata": {},
   "outputs": [],
   "source": []
  }
 ],
 "metadata": {
  "kernelspec": {
   "display_name": "Python 3 (ipykernel)",
   "language": "python",
   "name": "python3"
  },
  "language_info": {
   "codemirror_mode": {
    "name": "ipython",
    "version": 3
   },
   "file_extension": ".py",
   "mimetype": "text/x-python",
   "name": "python",
   "nbconvert_exporter": "python",
   "pygments_lexer": "ipython3",
   "version": "3.12.6"
  }
 },
 "nbformat": 4,
 "nbformat_minor": 5
}
