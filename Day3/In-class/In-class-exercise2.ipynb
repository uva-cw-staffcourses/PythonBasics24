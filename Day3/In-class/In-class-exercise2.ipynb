{
 "cells": [
  {
   "cell_type": "markdown",
   "id": "5e294572-6f27-449f-b9ab-405cdf4ea4f5",
   "metadata": {},
   "source": [
    "## In-class exercise 2\n",
    "The dataset example_tweets.json is the json response returned from the Twitter API. This is a data collected using the keyword search surveillance - tweets that include this keyword are included in the dataset. On [this website](https://developer.twitter.com/en/docs/twitter-api/v1/data-dictionary/object-model/tweet) you can find the documentation of the API and the columns it returns. In this challenge, you will explore this data and identify possible privacy and ethical issues with it."
   ]
  },
  {
   "cell_type": "markdown",
   "id": "136fd627-3d73-48f8-9c3e-43d0d3ee3c0e",
   "metadata": {},
   "source": [
    "#### Question 1\n",
    "Use pandas to load this data into a dataframe."
   ]
  },
  {
   "cell_type": "markdown",
   "id": "33c27c5e-09ed-4311-8cd8-f165f512a902",
   "metadata": {},
   "source": [
    "#### Question 2\n",
    "Explore this dataset using the skills you have learned in the class. Make sure to check how the dataset looks like, what columns it has, what data type these columns have and if there are any missing values. Write a short description of the dataset and the remaining questions of this exercise."
   ]
  },
  {
   "cell_type": "markdown",
   "id": "13344a76-24a9-4ac0-b51c-dfd386180ab5",
   "metadata": {},
   "source": [
    "#### Question 3\n",
    "How many languages are the tweets in?"
   ]
  },
  {
   "cell_type": "markdown",
   "id": "9edcf1ab-b9ba-4ba4-84a7-4afc9368dcab",
   "metadata": {},
   "source": [
    "#### Question 4\n",
    "How many retweets did the tweets receive on average?"
   ]
  },
  {
   "cell_type": "markdown",
   "id": "c0a29476-d7ee-4232-9637-ff67cfd52ea7",
   "metadata": {},
   "source": [
    "#### Question 5\n",
    "Is the retweets number higher or lower for tweets that contain sensitive links vs. the one's with non-sensitive and no links? Tip: check in the documentation what missing values in column possibly_sensitive mean and consider what you need to do with them."
   ]
  },
  {
   "cell_type": "markdown",
   "id": "780d03e2-4d1d-4523-9f47-8bd54db34022",
   "metadata": {},
   "source": [
    "#### Question 6\n",
    "Imagine that you want to research if there is a relation between the language of the tweets and number of retweets the tweets receive. Hence, you need the columns with information on the language of the tweet (lang) and its number of retweets (retweet_count).\n",
    " - Minimize the dataset accordingly. Explain your minimization steps.\n",
    " - What other steps would you need to take to make sure that the data follows privacy protection principles discussed in the lecture? Give concrete examples based on the information available in your minimized dataset. Tip: consider what identifiable and identified information the text and user columns contain."
   ]
  },
  {
   "cell_type": "markdown",
   "id": "ed339296-3292-43c6-b409-c5b6238b92b9",
   "metadata": {},
   "source": [
    "#### Question 7\n",
    "Can you visualize the relationship between the language of a tweet and the number of times a tweet was retweeted? "
   ]
  },
  {
   "cell_type": "code",
   "execution_count": null,
   "id": "8ee5b44c-81a1-4101-a246-bb371fe19534",
   "metadata": {},
   "outputs": [],
   "source": []
  }
 ],
 "metadata": {
  "kernelspec": {
   "display_name": "Python 3 (ipykernel)",
   "language": "python",
   "name": "python3"
  },
  "language_info": {
   "codemirror_mode": {
    "name": "ipython",
    "version": 3
   },
   "file_extension": ".py",
   "mimetype": "text/x-python",
   "name": "python",
   "nbconvert_exporter": "python",
   "pygments_lexer": "ipython3",
   "version": "3.12.6"
  }
 },
 "nbformat": 4,
 "nbformat_minor": 5
}
